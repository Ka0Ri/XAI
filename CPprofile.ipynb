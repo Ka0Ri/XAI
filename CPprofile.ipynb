{
 "cells": [
  {
   "cell_type": "code",
   "execution_count": 2,
   "metadata": {},
   "outputs": [
    {
     "name": "stdout",
     "output_type": "stream",
     "text": [
      "      gender   age             class     embarked   fare  sibsp  parch\n",
      "0       male  42.0               3rd  Southampton   7.11      0      0\n",
      "1       male  13.0               3rd  Southampton  20.05      0      2\n",
      "2       male  16.0               3rd  Southampton  20.05      1      1\n",
      "3     female  39.0               3rd  Southampton  20.05      1      1\n",
      "4     female  16.0               3rd  Southampton   7.13      0      0\n",
      "...      ...   ...               ...          ...    ...    ...    ...\n",
      "2202    male  41.0         deck crew      Belfast   0.00      0      0\n",
      "2203    male  40.0  victualling crew  Southampton   0.00      0      0\n",
      "2204    male  32.0  engineering crew  Southampton   0.00      0      0\n",
      "2205    male  20.0  restaurant staff  Southampton   0.00      0      0\n",
      "2206    male  26.0  restaurant staff  Southampton   0.00      0      0\n",
      "\n",
      "[2207 rows x 7 columns]\n"
     ]
    }
   ],
   "source": [
    "import dalex as dx\n",
    "titanic = dx.datasets.load_titanic()\n",
    "X = titanic.drop(columns='survived')\n",
    "y = titanic.survived\n",
    "\n",
    "print(X)"
   ]
  },
  {
   "cell_type": "code",
   "execution_count": 3,
   "metadata": {},
   "outputs": [],
   "source": [
    "from sklearn.preprocessing import StandardScaler, OneHotEncoder\n",
    "from sklearn.compose import make_column_transformer\n",
    "from sklearn.pipeline import make_pipeline\n",
    "\n",
    "preprocess = make_column_transformer(\n",
    "    (StandardScaler(), ['age', 'fare', 'parch', 'sibsp']),\n",
    "    (OneHotEncoder(), ['gender', 'class', 'embarked']))"
   ]
  },
  {
   "cell_type": "code",
   "execution_count": 4,
   "metadata": {},
   "outputs": [
    {
     "data": {
      "text/plain": [
       "Pipeline(steps=[('columntransformer',\n",
       "                 ColumnTransformer(transformers=[('standardscaler',\n",
       "                                                  StandardScaler(),\n",
       "                                                  ['age', 'fare', 'parch',\n",
       "                                                   'sibsp']),\n",
       "                                                 ('onehotencoder',\n",
       "                                                  OneHotEncoder(),\n",
       "                                                  ['gender', 'class',\n",
       "                                                   'embarked'])])),\n",
       "                ('randomforestclassifier',\n",
       "                 RandomForestClassifier(max_depth=3, n_estimators=500))])"
      ]
     },
     "execution_count": 4,
     "metadata": {},
     "output_type": "execute_result"
    }
   ],
   "source": [
    "from sklearn.ensemble import RandomForestClassifier\n",
    "\n",
    "titanic_rf = make_pipeline(\n",
    "    preprocess,\n",
    "    RandomForestClassifier(max_depth = 3, n_estimators = 500))\n",
    "titanic_rf.fit(X, y)"
   ]
  },
  {
   "cell_type": "code",
   "execution_count": 5,
   "metadata": {},
   "outputs": [
    {
     "name": "stdout",
     "output_type": "stream",
     "text": [
      "Preparation of a new explainer is initiated\n",
      "\n",
      "  -> data              : 2207 rows 7 cols\n",
      "  -> target variable   : Parameter 'y' was a pandas.Series. Converted to a numpy.ndarray.\n",
      "  -> target variable   : 2207 values\n",
      "  -> model_class       : sklearn.ensemble._forest.RandomForestClassifier (default)\n",
      "  -> label             : Titanic RF Pipeline\n",
      "  -> predict function  : <function yhat_proba_default at 0x000001F4EAD7D0D0> will be used (default)\n",
      "  -> predict function  : Accepts only pandas.DataFrame, numpy.ndarray causes problems.\n",
      "  -> predicted values  : min = 0.166, mean = 0.322, max = 0.892\n",
      "  -> model type        : classification will be used (default)\n",
      "  -> residual function : difference between y and yhat (default)\n",
      "  -> residuals         : min = -0.838, mean = 0.000314, max = 0.832\n",
      "  -> model_info        : package sklearn\n",
      "\n",
      "A new explainer has been created!\n"
     ]
    }
   ],
   "source": [
    "import pandas as pd\n",
    "henry = pd.DataFrame({'gender'   : ['male'],\n",
    "                       'age'     : [47],\n",
    "                       'class'   : ['1st'],\n",
    "                       'embarked': ['Cherbourg'],\n",
    "                       'fare'    : [25],\n",
    "                       'sibsp'   : [0],\n",
    "                       'parch'   : [0]},\n",
    "                      index = ['Henry'])\n",
    "\n",
    "import dalex as dx\n",
    "titanic_rf_exp = dx.Explainer(titanic_rf, X, y, \n",
    "                    label = \"Titanic RF Pipeline\")"
   ]
  },
  {
   "cell_type": "code",
   "execution_count": 6,
   "metadata": {},
   "outputs": [
    {
     "name": "stderr",
     "output_type": "stream",
     "text": [
      "Calculating ceteris paribus: 100%|██████████| 7/7 [00:00<00:00, 65.18it/s]\n"
     ]
    },
    {
     "data": {
      "text/html": [
       "<div>\n",
       "<style scoped>\n",
       "    .dataframe tbody tr th:only-of-type {\n",
       "        vertical-align: middle;\n",
       "    }\n",
       "\n",
       "    .dataframe tbody tr th {\n",
       "        vertical-align: top;\n",
       "    }\n",
       "\n",
       "    .dataframe thead th {\n",
       "        text-align: right;\n",
       "    }\n",
       "</style>\n",
       "<table border=\"1\" class=\"dataframe\">\n",
       "  <thead>\n",
       "    <tr style=\"text-align: right;\">\n",
       "      <th></th>\n",
       "      <th>gender</th>\n",
       "      <th>age</th>\n",
       "      <th>class</th>\n",
       "      <th>embarked</th>\n",
       "      <th>fare</th>\n",
       "      <th>sibsp</th>\n",
       "      <th>parch</th>\n",
       "      <th>_original_</th>\n",
       "      <th>_yhat_</th>\n",
       "      <th>_vname_</th>\n",
       "      <th>_ids_</th>\n",
       "      <th>_label_</th>\n",
       "    </tr>\n",
       "  </thead>\n",
       "  <tbody>\n",
       "    <tr>\n",
       "      <th>Henry</th>\n",
       "      <td>male</td>\n",
       "      <td>47.000000</td>\n",
       "      <td>1st</td>\n",
       "      <td>Cherbourg</td>\n",
       "      <td>25.0</td>\n",
       "      <td>0.0</td>\n",
       "      <td>0.00</td>\n",
       "      <td>male</td>\n",
       "      <td>0.306725</td>\n",
       "      <td>gender</td>\n",
       "      <td>Henry</td>\n",
       "      <td>Titanic RF Pipeline</td>\n",
       "    </tr>\n",
       "    <tr>\n",
       "      <th>Henry</th>\n",
       "      <td>female</td>\n",
       "      <td>47.000000</td>\n",
       "      <td>1st</td>\n",
       "      <td>Cherbourg</td>\n",
       "      <td>25.0</td>\n",
       "      <td>0.0</td>\n",
       "      <td>0.00</td>\n",
       "      <td>male</td>\n",
       "      <td>0.810013</td>\n",
       "      <td>gender</td>\n",
       "      <td>Henry</td>\n",
       "      <td>Titanic RF Pipeline</td>\n",
       "    </tr>\n",
       "    <tr>\n",
       "      <th>Henry</th>\n",
       "      <td>male</td>\n",
       "      <td>0.166667</td>\n",
       "      <td>1st</td>\n",
       "      <td>Cherbourg</td>\n",
       "      <td>25.0</td>\n",
       "      <td>0.0</td>\n",
       "      <td>0.00</td>\n",
       "      <td>47</td>\n",
       "      <td>0.441484</td>\n",
       "      <td>age</td>\n",
       "      <td>Henry</td>\n",
       "      <td>Titanic RF Pipeline</td>\n",
       "    </tr>\n",
       "    <tr>\n",
       "      <th>Henry</th>\n",
       "      <td>male</td>\n",
       "      <td>0.905000</td>\n",
       "      <td>1st</td>\n",
       "      <td>Cherbourg</td>\n",
       "      <td>25.0</td>\n",
       "      <td>0.0</td>\n",
       "      <td>0.00</td>\n",
       "      <td>47</td>\n",
       "      <td>0.445878</td>\n",
       "      <td>age</td>\n",
       "      <td>Henry</td>\n",
       "      <td>Titanic RF Pipeline</td>\n",
       "    </tr>\n",
       "    <tr>\n",
       "      <th>Henry</th>\n",
       "      <td>male</td>\n",
       "      <td>1.643333</td>\n",
       "      <td>1st</td>\n",
       "      <td>Cherbourg</td>\n",
       "      <td>25.0</td>\n",
       "      <td>0.0</td>\n",
       "      <td>0.00</td>\n",
       "      <td>47</td>\n",
       "      <td>0.444929</td>\n",
       "      <td>age</td>\n",
       "      <td>Henry</td>\n",
       "      <td>Titanic RF Pipeline</td>\n",
       "    </tr>\n",
       "    <tr>\n",
       "      <th>...</th>\n",
       "      <td>...</td>\n",
       "      <td>...</td>\n",
       "      <td>...</td>\n",
       "      <td>...</td>\n",
       "      <td>...</td>\n",
       "      <td>...</td>\n",
       "      <td>...</td>\n",
       "      <td>...</td>\n",
       "      <td>...</td>\n",
       "      <td>...</td>\n",
       "      <td>...</td>\n",
       "      <td>...</td>\n",
       "    </tr>\n",
       "    <tr>\n",
       "      <th>Henry</th>\n",
       "      <td>male</td>\n",
       "      <td>47.000000</td>\n",
       "      <td>1st</td>\n",
       "      <td>Cherbourg</td>\n",
       "      <td>25.0</td>\n",
       "      <td>0.0</td>\n",
       "      <td>8.64</td>\n",
       "      <td>0</td>\n",
       "      <td>0.351609</td>\n",
       "      <td>parch</td>\n",
       "      <td>Henry</td>\n",
       "      <td>Titanic RF Pipeline</td>\n",
       "    </tr>\n",
       "    <tr>\n",
       "      <th>Henry</th>\n",
       "      <td>male</td>\n",
       "      <td>47.000000</td>\n",
       "      <td>1st</td>\n",
       "      <td>Cherbourg</td>\n",
       "      <td>25.0</td>\n",
       "      <td>0.0</td>\n",
       "      <td>8.73</td>\n",
       "      <td>0</td>\n",
       "      <td>0.351609</td>\n",
       "      <td>parch</td>\n",
       "      <td>Henry</td>\n",
       "      <td>Titanic RF Pipeline</td>\n",
       "    </tr>\n",
       "    <tr>\n",
       "      <th>Henry</th>\n",
       "      <td>male</td>\n",
       "      <td>47.000000</td>\n",
       "      <td>1st</td>\n",
       "      <td>Cherbourg</td>\n",
       "      <td>25.0</td>\n",
       "      <td>0.0</td>\n",
       "      <td>8.82</td>\n",
       "      <td>0</td>\n",
       "      <td>0.351609</td>\n",
       "      <td>parch</td>\n",
       "      <td>Henry</td>\n",
       "      <td>Titanic RF Pipeline</td>\n",
       "    </tr>\n",
       "    <tr>\n",
       "      <th>Henry</th>\n",
       "      <td>male</td>\n",
       "      <td>47.000000</td>\n",
       "      <td>1st</td>\n",
       "      <td>Cherbourg</td>\n",
       "      <td>25.0</td>\n",
       "      <td>0.0</td>\n",
       "      <td>8.91</td>\n",
       "      <td>0</td>\n",
       "      <td>0.351609</td>\n",
       "      <td>parch</td>\n",
       "      <td>Henry</td>\n",
       "      <td>Titanic RF Pipeline</td>\n",
       "    </tr>\n",
       "    <tr>\n",
       "      <th>Henry</th>\n",
       "      <td>male</td>\n",
       "      <td>47.000000</td>\n",
       "      <td>1st</td>\n",
       "      <td>Cherbourg</td>\n",
       "      <td>25.0</td>\n",
       "      <td>0.0</td>\n",
       "      <td>9.00</td>\n",
       "      <td>0</td>\n",
       "      <td>0.351609</td>\n",
       "      <td>parch</td>\n",
       "      <td>Henry</td>\n",
       "      <td>Titanic RF Pipeline</td>\n",
       "    </tr>\n",
       "  </tbody>\n",
       "</table>\n",
       "<p>419 rows × 12 columns</p>\n",
       "</div>"
      ],
      "text/plain": [
       "       gender        age class   embarked  fare  sibsp  parch _original_  \\\n",
       "Henry    male  47.000000   1st  Cherbourg  25.0    0.0   0.00       male   \n",
       "Henry  female  47.000000   1st  Cherbourg  25.0    0.0   0.00       male   \n",
       "Henry    male   0.166667   1st  Cherbourg  25.0    0.0   0.00         47   \n",
       "Henry    male   0.905000   1st  Cherbourg  25.0    0.0   0.00         47   \n",
       "Henry    male   1.643333   1st  Cherbourg  25.0    0.0   0.00         47   \n",
       "...       ...        ...   ...        ...   ...    ...    ...        ...   \n",
       "Henry    male  47.000000   1st  Cherbourg  25.0    0.0   8.64          0   \n",
       "Henry    male  47.000000   1st  Cherbourg  25.0    0.0   8.73          0   \n",
       "Henry    male  47.000000   1st  Cherbourg  25.0    0.0   8.82          0   \n",
       "Henry    male  47.000000   1st  Cherbourg  25.0    0.0   8.91          0   \n",
       "Henry    male  47.000000   1st  Cherbourg  25.0    0.0   9.00          0   \n",
       "\n",
       "         _yhat_ _vname_  _ids_              _label_  \n",
       "Henry  0.306725  gender  Henry  Titanic RF Pipeline  \n",
       "Henry  0.810013  gender  Henry  Titanic RF Pipeline  \n",
       "Henry  0.441484     age  Henry  Titanic RF Pipeline  \n",
       "Henry  0.445878     age  Henry  Titanic RF Pipeline  \n",
       "Henry  0.444929     age  Henry  Titanic RF Pipeline  \n",
       "...         ...     ...    ...                  ...  \n",
       "Henry  0.351609   parch  Henry  Titanic RF Pipeline  \n",
       "Henry  0.351609   parch  Henry  Titanic RF Pipeline  \n",
       "Henry  0.351609   parch  Henry  Titanic RF Pipeline  \n",
       "Henry  0.351609   parch  Henry  Titanic RF Pipeline  \n",
       "Henry  0.351609   parch  Henry  Titanic RF Pipeline  \n",
       "\n",
       "[419 rows x 12 columns]"
      ]
     },
     "execution_count": 6,
     "metadata": {},
     "output_type": "execute_result"
    }
   ],
   "source": [
    "cp_henry = titanic_rf_exp.predict_profile(henry)\n",
    "cp_henry.result"
   ]
  },
  {
   "cell_type": "code",
   "execution_count": 7,
   "metadata": {},
   "outputs": [
    {
     "data": {
      "application/vnd.plotly.v1+json": {
       "config": {
        "displaylogo": false,
        "modeBarButtonsToRemove": [
         "sendDataToCloud",
         "lasso2d",
         "autoScale2d",
         "select2d",
         "zoom2d",
         "pan2d",
         "zoomIn2d",
         "zoomOut2d",
         "resetScale2d",
         "toggleSpikelines",
         "hoverCompareCartesian",
         "hoverClosestCartesian"
        ],
        "plotlyServerURL": "https://plot.ly",
        "staticPlot": false,
        "toImageButtonOptions": {
         "height": null,
         "width": null
        }
       },
       "data": [
        {
         "customdata": [
          [
           "</br>id: Henry</br>prediction: 0.441</br>age: 0.1666666667</br></br>gender: male</br>class: 1st</br>embarked: Cherbourg</br>fare: 25.0</br>sibsp: 0.0</br>parch: 0.0</br>_original_yhat_: 0.30672467296984096</br>"
          ],
          [
           "</br>id: Henry</br>prediction: 0.446</br>age: 0.905000000033</br></br>gender: male</br>class: 1st</br>embarked: Cherbourg</br>fare: 25.0</br>sibsp: 0.0</br>parch: 0.0</br>_original_yhat_: 0.30672467296984096</br>"
          ],
          [
           "</br>id: Henry</br>prediction: 0.445</br>age: 1.643333333366</br></br>gender: male</br>class: 1st</br>embarked: Cherbourg</br>fare: 25.0</br>sibsp: 0.0</br>parch: 0.0</br>_original_yhat_: 0.30672467296984096</br>"
          ],
          [
           "</br>id: Henry</br>prediction: 0.445</br>age: 2.3816666666989996</br></br>gender: male</br>class: 1st</br>embarked: Cherbourg</br>fare: 25.0</br>sibsp: 0.0</br>parch: 0.0</br>_original_yhat_: 0.30672467296984096</br>"
          ],
          [
           "</br>id: Henry</br>prediction: 0.445</br>age: 3.120000000032</br></br>gender: male</br>class: 1st</br>embarked: Cherbourg</br>fare: 25.0</br>sibsp: 0.0</br>parch: 0.0</br>_original_yhat_: 0.30672467296984096</br>"
          ],
          [
           "</br>id: Henry</br>prediction: 0.441</br>age: 3.858333333365</br></br>gender: male</br>class: 1st</br>embarked: Cherbourg</br>fare: 25.0</br>sibsp: 0.0</br>parch: 0.0</br>_original_yhat_: 0.30672467296984096</br>"
          ],
          [
           "</br>id: Henry</br>prediction: 0.408</br>age: 4.596666666698</br></br>gender: male</br>class: 1st</br>embarked: Cherbourg</br>fare: 25.0</br>sibsp: 0.0</br>parch: 0.0</br>_original_yhat_: 0.30672467296984096</br>"
          ],
          [
           "</br>id: Henry</br>prediction: 0.408</br>age: 5.335000000031</br></br>gender: male</br>class: 1st</br>embarked: Cherbourg</br>fare: 25.0</br>sibsp: 0.0</br>parch: 0.0</br>_original_yhat_: 0.30672467296984096</br>"
          ],
          [
           "</br>id: Henry</br>prediction: 0.406</br>age: 6.073333333364</br></br>gender: male</br>class: 1st</br>embarked: Cherbourg</br>fare: 25.0</br>sibsp: 0.0</br>parch: 0.0</br>_original_yhat_: 0.30672467296984096</br>"
          ],
          [
           "</br>id: Henry</br>prediction: 0.394</br>age: 6.8116666666970005</br></br>gender: male</br>class: 1st</br>embarked: Cherbourg</br>fare: 25.0</br>sibsp: 0.0</br>parch: 0.0</br>_original_yhat_: 0.30672467296984096</br>"
          ],
          [
           "</br>id: Henry</br>prediction: 0.392</br>age: 7.550000000030001</br></br>gender: male</br>class: 1st</br>embarked: Cherbourg</br>fare: 25.0</br>sibsp: 0.0</br>parch: 0.0</br>_original_yhat_: 0.30672467296984096</br>"
          ],
          [
           "</br>id: Henry</br>prediction: 0.392</br>age: 8.288333333363</br></br>gender: male</br>class: 1st</br>embarked: Cherbourg</br>fare: 25.0</br>sibsp: 0.0</br>parch: 0.0</br>_original_yhat_: 0.30672467296984096</br>"
          ],
          [
           "</br>id: Henry</br>prediction: 0.386</br>age: 9.026666666695998</br></br>gender: male</br>class: 1st</br>embarked: Cherbourg</br>fare: 25.0</br>sibsp: 0.0</br>parch: 0.0</br>_original_yhat_: 0.30672467296984096</br>"
          ],
          [
           "</br>id: Henry</br>prediction: 0.359</br>age: 9.765000000029</br></br>gender: male</br>class: 1st</br>embarked: Cherbourg</br>fare: 25.0</br>sibsp: 0.0</br>parch: 0.0</br>_original_yhat_: 0.30672467296984096</br>"
          ],
          [
           "</br>id: Henry</br>prediction: 0.357</br>age: 10.503333333361999</br></br>gender: male</br>class: 1st</br>embarked: Cherbourg</br>fare: 25.0</br>sibsp: 0.0</br>parch: 0.0</br>_original_yhat_: 0.30672467296984096</br>"
          ],
          [
           "</br>id: Henry</br>prediction: 0.357</br>age: 11.241666666695</br></br>gender: male</br>class: 1st</br>embarked: Cherbourg</br>fare: 25.0</br>sibsp: 0.0</br>parch: 0.0</br>_original_yhat_: 0.30672467296984096</br>"
          ],
          [
           "</br>id: Henry</br>prediction: 0.357</br>age: 11.980000000028</br></br>gender: male</br>class: 1st</br>embarked: Cherbourg</br>fare: 25.0</br>sibsp: 0.0</br>parch: 0.0</br>_original_yhat_: 0.30672467296984096</br>"
          ],
          [
           "</br>id: Henry</br>prediction: 0.356</br>age: 12.718333333360999</br></br>gender: male</br>class: 1st</br>embarked: Cherbourg</br>fare: 25.0</br>sibsp: 0.0</br>parch: 0.0</br>_original_yhat_: 0.30672467296984096</br>"
          ],
          [
           "</br>id: Henry</br>prediction: 0.356</br>age: 13.456666666694</br></br>gender: male</br>class: 1st</br>embarked: Cherbourg</br>fare: 25.0</br>sibsp: 0.0</br>parch: 0.0</br>_original_yhat_: 0.30672467296984096</br>"
          ],
          [
           "</br>id: Henry</br>prediction: 0.34</br>age: 14.195000000027</br></br>gender: male</br>class: 1st</br>embarked: Cherbourg</br>fare: 25.0</br>sibsp: 0.0</br>parch: 0.0</br>_original_yhat_: 0.30672467296984096</br>"
          ],
          [
           "</br>id: Henry</br>prediction: 0.332</br>age: 14.93333333336</br></br>gender: male</br>class: 1st</br>embarked: Cherbourg</br>fare: 25.0</br>sibsp: 0.0</br>parch: 0.0</br>_original_yhat_: 0.30672467296984096</br>"
          ],
          [
           "</br>id: Henry</br>prediction: 0.325</br>age: 15.671666666693</br></br>gender: male</br>class: 1st</br>embarked: Cherbourg</br>fare: 25.0</br>sibsp: 0.0</br>parch: 0.0</br>_original_yhat_: 0.30672467296984096</br>"
          ],
          [
           "</br>id: Henry</br>prediction: 0.325</br>age: 16.410000000026</br></br>gender: male</br>class: 1st</br>embarked: Cherbourg</br>fare: 25.0</br>sibsp: 0.0</br>parch: 0.0</br>_original_yhat_: 0.30672467296984096</br>"
          ],
          [
           "</br>id: Henry</br>prediction: 0.324</br>age: 17.148333333359</br></br>gender: male</br>class: 1st</br>embarked: Cherbourg</br>fare: 25.0</br>sibsp: 0.0</br>parch: 0.0</br>_original_yhat_: 0.30672467296984096</br>"
          ],
          [
           "</br>id: Henry</br>prediction: 0.323</br>age: 17.886666666691998</br></br>gender: male</br>class: 1st</br>embarked: Cherbourg</br>fare: 25.0</br>sibsp: 0.0</br>parch: 0.0</br>_original_yhat_: 0.30672467296984096</br>"
          ],
          [
           "</br>id: Henry</br>prediction: 0.323</br>age: 18.625000000025</br></br>gender: male</br>class: 1st</br>embarked: Cherbourg</br>fare: 25.0</br>sibsp: 0.0</br>parch: 0.0</br>_original_yhat_: 0.30672467296984096</br>"
          ],
          [
           "</br>id: Henry</br>prediction: 0.323</br>age: 19.363333333358</br></br>gender: male</br>class: 1st</br>embarked: Cherbourg</br>fare: 25.0</br>sibsp: 0.0</br>parch: 0.0</br>_original_yhat_: 0.30672467296984096</br>"
          ],
          [
           "</br>id: Henry</br>prediction: 0.323</br>age: 20.101666666691</br></br>gender: male</br>class: 1st</br>embarked: Cherbourg</br>fare: 25.0</br>sibsp: 0.0</br>parch: 0.0</br>_original_yhat_: 0.30672467296984096</br>"
          ],
          [
           "</br>id: Henry</br>prediction: 0.321</br>age: 20.840000000024</br></br>gender: male</br>class: 1st</br>embarked: Cherbourg</br>fare: 25.0</br>sibsp: 0.0</br>parch: 0.0</br>_original_yhat_: 0.30672467296984096</br>"
          ],
          [
           "</br>id: Henry</br>prediction: 0.32</br>age: 21.578333333356998</br></br>gender: male</br>class: 1st</br>embarked: Cherbourg</br>fare: 25.0</br>sibsp: 0.0</br>parch: 0.0</br>_original_yhat_: 0.30672467296984096</br>"
          ],
          [
           "</br>id: Henry</br>prediction: 0.32</br>age: 22.31666666669</br></br>gender: male</br>class: 1st</br>embarked: Cherbourg</br>fare: 25.0</br>sibsp: 0.0</br>parch: 0.0</br>_original_yhat_: 0.30672467296984096</br>"
          ],
          [
           "</br>id: Henry</br>prediction: 0.32</br>age: 23.055000000023</br></br>gender: male</br>class: 1st</br>embarked: Cherbourg</br>fare: 25.0</br>sibsp: 0.0</br>parch: 0.0</br>_original_yhat_: 0.30672467296984096</br>"
          ],
          [
           "</br>id: Henry</br>prediction: 0.32</br>age: 23.793333333356</br></br>gender: male</br>class: 1st</br>embarked: Cherbourg</br>fare: 25.0</br>sibsp: 0.0</br>parch: 0.0</br>_original_yhat_: 0.30672467296984096</br>"
          ],
          [
           "</br>id: Henry</br>prediction: 0.32</br>age: 24.531666666689</br></br>gender: male</br>class: 1st</br>embarked: Cherbourg</br>fare: 25.0</br>sibsp: 0.0</br>parch: 0.0</br>_original_yhat_: 0.30672467296984096</br>"
          ],
          [
           "</br>id: Henry</br>prediction: 0.32</br>age: 25.270000000021998</br></br>gender: male</br>class: 1st</br>embarked: Cherbourg</br>fare: 25.0</br>sibsp: 0.0</br>parch: 0.0</br>_original_yhat_: 0.30672467296984096</br>"
          ],
          [
           "</br>id: Henry</br>prediction: 0.319</br>age: 26.008333333355</br></br>gender: male</br>class: 1st</br>embarked: Cherbourg</br>fare: 25.0</br>sibsp: 0.0</br>parch: 0.0</br>_original_yhat_: 0.30672467296984096</br>"
          ],
          [
           "</br>id: Henry</br>prediction: 0.318</br>age: 26.746666666688</br></br>gender: male</br>class: 1st</br>embarked: Cherbourg</br>fare: 25.0</br>sibsp: 0.0</br>parch: 0.0</br>_original_yhat_: 0.30672467296984096</br>"
          ],
          [
           "</br>id: Henry</br>prediction: 0.318</br>age: 27.485000000021</br></br>gender: male</br>class: 1st</br>embarked: Cherbourg</br>fare: 25.0</br>sibsp: 0.0</br>parch: 0.0</br>_original_yhat_: 0.30672467296984096</br>"
          ],
          [
           "</br>id: Henry</br>prediction: 0.317</br>age: 28.223333333354</br></br>gender: male</br>class: 1st</br>embarked: Cherbourg</br>fare: 25.0</br>sibsp: 0.0</br>parch: 0.0</br>_original_yhat_: 0.30672467296984096</br>"
          ],
          [
           "</br>id: Henry</br>prediction: 0.317</br>age: 28.961666666686998</br></br>gender: male</br>class: 1st</br>embarked: Cherbourg</br>fare: 25.0</br>sibsp: 0.0</br>parch: 0.0</br>_original_yhat_: 0.30672467296984096</br>"
          ],
          [
           "</br>id: Henry</br>prediction: 0.316</br>age: 29.70000000002</br></br>gender: male</br>class: 1st</br>embarked: Cherbourg</br>fare: 25.0</br>sibsp: 0.0</br>parch: 0.0</br>_original_yhat_: 0.30672467296984096</br>"
          ],
          [
           "</br>id: Henry</br>prediction: 0.316</br>age: 30.438333333353</br></br>gender: male</br>class: 1st</br>embarked: Cherbourg</br>fare: 25.0</br>sibsp: 0.0</br>parch: 0.0</br>_original_yhat_: 0.30672467296984096</br>"
          ],
          [
           "</br>id: Henry</br>prediction: 0.316</br>age: 31.176666666686</br></br>gender: male</br>class: 1st</br>embarked: Cherbourg</br>fare: 25.0</br>sibsp: 0.0</br>parch: 0.0</br>_original_yhat_: 0.30672467296984096</br>"
          ],
          [
           "</br>id: Henry</br>prediction: 0.316</br>age: 31.915000000019</br></br>gender: male</br>class: 1st</br>embarked: Cherbourg</br>fare: 25.0</br>sibsp: 0.0</br>parch: 0.0</br>_original_yhat_: 0.30672467296984096</br>"
          ],
          [
           "</br>id: Henry</br>prediction: 0.316</br>age: 32.653333333352</br></br>gender: male</br>class: 1st</br>embarked: Cherbourg</br>fare: 25.0</br>sibsp: 0.0</br>parch: 0.0</br>_original_yhat_: 0.30672467296984096</br>"
          ],
          [
           "</br>id: Henry</br>prediction: 0.316</br>age: 33.391666666685005</br></br>gender: male</br>class: 1st</br>embarked: Cherbourg</br>fare: 25.0</br>sibsp: 0.0</br>parch: 0.0</br>_original_yhat_: 0.30672467296984096</br>"
          ],
          [
           "</br>id: Henry</br>prediction: 0.316</br>age: 34.130000000018</br></br>gender: male</br>class: 1st</br>embarked: Cherbourg</br>fare: 25.0</br>sibsp: 0.0</br>parch: 0.0</br>_original_yhat_: 0.30672467296984096</br>"
          ],
          [
           "</br>id: Henry</br>prediction: 0.316</br>age: 34.868333333351</br></br>gender: male</br>class: 1st</br>embarked: Cherbourg</br>fare: 25.0</br>sibsp: 0.0</br>parch: 0.0</br>_original_yhat_: 0.30672467296984096</br>"
          ],
          [
           "</br>id: Henry</br>prediction: 0.311</br>age: 35.606666666684</br></br>gender: male</br>class: 1st</br>embarked: Cherbourg</br>fare: 25.0</br>sibsp: 0.0</br>parch: 0.0</br>_original_yhat_: 0.30672467296984096</br>"
          ],
          [
           "</br>id: Henry</br>prediction: 0.311</br>age: 36.345000000017</br></br>gender: male</br>class: 1st</br>embarked: Cherbourg</br>fare: 25.0</br>sibsp: 0.0</br>parch: 0.0</br>_original_yhat_: 0.30672467296984096</br>"
          ],
          [
           "</br>id: Henry</br>prediction: 0.309</br>age: 37.083333333350005</br></br>gender: male</br>class: 1st</br>embarked: Cherbourg</br>fare: 25.0</br>sibsp: 0.0</br>parch: 0.0</br>_original_yhat_: 0.30672467296984096</br>"
          ],
          [
           "</br>id: Henry</br>prediction: 0.309</br>age: 37.821666666683</br></br>gender: male</br>class: 1st</br>embarked: Cherbourg</br>fare: 25.0</br>sibsp: 0.0</br>parch: 0.0</br>_original_yhat_: 0.30672467296984096</br>"
          ],
          [
           "</br>id: Henry</br>prediction: 0.308</br>age: 38.560000000016004</br></br>gender: male</br>class: 1st</br>embarked: Cherbourg</br>fare: 25.0</br>sibsp: 0.0</br>parch: 0.0</br>_original_yhat_: 0.30672467296984096</br>"
          ],
          [
           "</br>id: Henry</br>prediction: 0.308</br>age: 39.298333333349</br></br>gender: male</br>class: 1st</br>embarked: Cherbourg</br>fare: 25.0</br>sibsp: 0.0</br>parch: 0.0</br>_original_yhat_: 0.30672467296984096</br>"
          ],
          [
           "</br>id: Henry</br>prediction: 0.307</br>age: 40.036666666682</br></br>gender: male</br>class: 1st</br>embarked: Cherbourg</br>fare: 25.0</br>sibsp: 0.0</br>parch: 0.0</br>_original_yhat_: 0.30672467296984096</br>"
          ],
          [
           "</br>id: Henry</br>prediction: 0.307</br>age: 40.775000000015005</br></br>gender: male</br>class: 1st</br>embarked: Cherbourg</br>fare: 25.0</br>sibsp: 0.0</br>parch: 0.0</br>_original_yhat_: 0.30672467296984096</br>"
          ],
          [
           "</br>id: Henry</br>prediction: 0.307</br>age: 41.513333333348</br></br>gender: male</br>class: 1st</br>embarked: Cherbourg</br>fare: 25.0</br>sibsp: 0.0</br>parch: 0.0</br>_original_yhat_: 0.30672467296984096</br>"
          ],
          [
           "</br>id: Henry</br>prediction: 0.307</br>age: 42.251666666681004</br></br>gender: male</br>class: 1st</br>embarked: Cherbourg</br>fare: 25.0</br>sibsp: 0.0</br>parch: 0.0</br>_original_yhat_: 0.30672467296984096</br>"
          ],
          [
           "</br>id: Henry</br>prediction: 0.307</br>age: 42.990000000014</br></br>gender: male</br>class: 1st</br>embarked: Cherbourg</br>fare: 25.0</br>sibsp: 0.0</br>parch: 0.0</br>_original_yhat_: 0.30672467296984096</br>"
          ],
          [
           "</br>id: Henry</br>prediction: 0.307</br>age: 43.728333333347</br></br>gender: male</br>class: 1st</br>embarked: Cherbourg</br>fare: 25.0</br>sibsp: 0.0</br>parch: 0.0</br>_original_yhat_: 0.30672467296984096</br>"
          ],
          [
           "</br>id: Henry</br>prediction: 0.307</br>age: 44.466666666680005</br></br>gender: male</br>class: 1st</br>embarked: Cherbourg</br>fare: 25.0</br>sibsp: 0.0</br>parch: 0.0</br>_original_yhat_: 0.30672467296984096</br>"
          ],
          [
           "</br>id: Henry</br>prediction: 0.307</br>age: 45.205000000013</br></br>gender: male</br>class: 1st</br>embarked: Cherbourg</br>fare: 25.0</br>sibsp: 0.0</br>parch: 0.0</br>_original_yhat_: 0.30672467296984096</br>"
          ],
          [
           "</br>id: Henry</br>prediction: 0.307</br>age: 45.943333333346004</br></br>gender: male</br>class: 1st</br>embarked: Cherbourg</br>fare: 25.0</br>sibsp: 0.0</br>parch: 0.0</br>_original_yhat_: 0.30672467296984096</br>"
          ],
          [
           "</br>id: Henry</br>prediction: 0.307</br>age: 46.681666666679</br></br>gender: male</br>class: 1st</br>embarked: Cherbourg</br>fare: 25.0</br>sibsp: 0.0</br>parch: 0.0</br>_original_yhat_: 0.30672467296984096</br>"
          ],
          [
           "</br>id: Henry</br>prediction: 0.307</br>age: 47.0</br></br>gender: male</br>class: 1st</br>embarked: Cherbourg</br>fare: 25.0</br>sibsp: 0.0</br>parch: 0.0</br>_original_yhat_: 0.30672467296984096</br>"
          ],
          [
           "</br>id: Henry</br>prediction: 0.307</br>age: 47.420000000012</br></br>gender: male</br>class: 1st</br>embarked: Cherbourg</br>fare: 25.0</br>sibsp: 0.0</br>parch: 0.0</br>_original_yhat_: 0.30672467296984096</br>"
          ],
          [
           "</br>id: Henry</br>prediction: 0.307</br>age: 48.158333333345006</br></br>gender: male</br>class: 1st</br>embarked: Cherbourg</br>fare: 25.0</br>sibsp: 0.0</br>parch: 0.0</br>_original_yhat_: 0.30672467296984096</br>"
          ],
          [
           "</br>id: Henry</br>prediction: 0.307</br>age: 48.896666666678</br></br>gender: male</br>class: 1st</br>embarked: Cherbourg</br>fare: 25.0</br>sibsp: 0.0</br>parch: 0.0</br>_original_yhat_: 0.30672467296984096</br>"
          ],
          [
           "</br>id: Henry</br>prediction: 0.306</br>age: 49.635000000011004</br></br>gender: male</br>class: 1st</br>embarked: Cherbourg</br>fare: 25.0</br>sibsp: 0.0</br>parch: 0.0</br>_original_yhat_: 0.30672467296984096</br>"
          ],
          [
           "</br>id: Henry</br>prediction: 0.306</br>age: 50.373333333344</br></br>gender: male</br>class: 1st</br>embarked: Cherbourg</br>fare: 25.0</br>sibsp: 0.0</br>parch: 0.0</br>_original_yhat_: 0.30672467296984096</br>"
          ],
          [
           "</br>id: Henry</br>prediction: 0.306</br>age: 51.111666666677</br></br>gender: male</br>class: 1st</br>embarked: Cherbourg</br>fare: 25.0</br>sibsp: 0.0</br>parch: 0.0</br>_original_yhat_: 0.30672467296984096</br>"
          ],
          [
           "</br>id: Henry</br>prediction: 0.306</br>age: 51.850000000010006</br></br>gender: male</br>class: 1st</br>embarked: Cherbourg</br>fare: 25.0</br>sibsp: 0.0</br>parch: 0.0</br>_original_yhat_: 0.30672467296984096</br>"
          ],
          [
           "</br>id: Henry</br>prediction: 0.306</br>age: 52.588333333343</br></br>gender: male</br>class: 1st</br>embarked: Cherbourg</br>fare: 25.0</br>sibsp: 0.0</br>parch: 0.0</br>_original_yhat_: 0.30672467296984096</br>"
          ],
          [
           "</br>id: Henry</br>prediction: 0.305</br>age: 53.326666666676005</br></br>gender: male</br>class: 1st</br>embarked: Cherbourg</br>fare: 25.0</br>sibsp: 0.0</br>parch: 0.0</br>_original_yhat_: 0.30672467296984096</br>"
          ],
          [
           "</br>id: Henry</br>prediction: 0.305</br>age: 54.065000000009</br></br>gender: male</br>class: 1st</br>embarked: Cherbourg</br>fare: 25.0</br>sibsp: 0.0</br>parch: 0.0</br>_original_yhat_: 0.30672467296984096</br>"
          ],
          [
           "</br>id: Henry</br>prediction: 0.299</br>age: 54.803333333342</br></br>gender: male</br>class: 1st</br>embarked: Cherbourg</br>fare: 25.0</br>sibsp: 0.0</br>parch: 0.0</br>_original_yhat_: 0.30672467296984096</br>"
          ],
          [
           "</br>id: Henry</br>prediction: 0.298</br>age: 55.541666666675006</br></br>gender: male</br>class: 1st</br>embarked: Cherbourg</br>fare: 25.0</br>sibsp: 0.0</br>parch: 0.0</br>_original_yhat_: 0.30672467296984096</br>"
          ],
          [
           "</br>id: Henry</br>prediction: 0.298</br>age: 56.280000000008</br></br>gender: male</br>class: 1st</br>embarked: Cherbourg</br>fare: 25.0</br>sibsp: 0.0</br>parch: 0.0</br>_original_yhat_: 0.30672467296984096</br>"
          ],
          [
           "</br>id: Henry</br>prediction: 0.298</br>age: 57.018333333341005</br></br>gender: male</br>class: 1st</br>embarked: Cherbourg</br>fare: 25.0</br>sibsp: 0.0</br>parch: 0.0</br>_original_yhat_: 0.30672467296984096</br>"
          ],
          [
           "</br>id: Henry</br>prediction: 0.298</br>age: 57.756666666674</br></br>gender: male</br>class: 1st</br>embarked: Cherbourg</br>fare: 25.0</br>sibsp: 0.0</br>parch: 0.0</br>_original_yhat_: 0.30672467296984096</br>"
          ],
          [
           "</br>id: Henry</br>prediction: 0.298</br>age: 58.495000000007</br></br>gender: male</br>class: 1st</br>embarked: Cherbourg</br>fare: 25.0</br>sibsp: 0.0</br>parch: 0.0</br>_original_yhat_: 0.30672467296984096</br>"
          ],
          [
           "</br>id: Henry</br>prediction: 0.298</br>age: 59.233333333340006</br></br>gender: male</br>class: 1st</br>embarked: Cherbourg</br>fare: 25.0</br>sibsp: 0.0</br>parch: 0.0</br>_original_yhat_: 0.30672467296984096</br>"
          ],
          [
           "</br>id: Henry</br>prediction: 0.298</br>age: 59.971666666673</br></br>gender: male</br>class: 1st</br>embarked: Cherbourg</br>fare: 25.0</br>sibsp: 0.0</br>parch: 0.0</br>_original_yhat_: 0.30672467296984096</br>"
          ],
          [
           "</br>id: Henry</br>prediction: 0.297</br>age: 60.710000000006005</br></br>gender: male</br>class: 1st</br>embarked: Cherbourg</br>fare: 25.0</br>sibsp: 0.0</br>parch: 0.0</br>_original_yhat_: 0.30672467296984096</br>"
          ],
          [
           "</br>id: Henry</br>prediction: 0.297</br>age: 61.448333333339</br></br>gender: male</br>class: 1st</br>embarked: Cherbourg</br>fare: 25.0</br>sibsp: 0.0</br>parch: 0.0</br>_original_yhat_: 0.30672467296984096</br>"
          ],
          [
           "</br>id: Henry</br>prediction: 0.296</br>age: 62.186666666672004</br></br>gender: male</br>class: 1st</br>embarked: Cherbourg</br>fare: 25.0</br>sibsp: 0.0</br>parch: 0.0</br>_original_yhat_: 0.30672467296984096</br>"
          ],
          [
           "</br>id: Henry</br>prediction: 0.293</br>age: 62.925000000005</br></br>gender: male</br>class: 1st</br>embarked: Cherbourg</br>fare: 25.0</br>sibsp: 0.0</br>parch: 0.0</br>_original_yhat_: 0.30672467296984096</br>"
          ],
          [
           "</br>id: Henry</br>prediction: 0.292</br>age: 63.663333333338</br></br>gender: male</br>class: 1st</br>embarked: Cherbourg</br>fare: 25.0</br>sibsp: 0.0</br>parch: 0.0</br>_original_yhat_: 0.30672467296984096</br>"
          ],
          [
           "</br>id: Henry</br>prediction: 0.292</br>age: 64.40166666667099</br></br>gender: male</br>class: 1st</br>embarked: Cherbourg</br>fare: 25.0</br>sibsp: 0.0</br>parch: 0.0</br>_original_yhat_: 0.30672467296984096</br>"
          ],
          [
           "</br>id: Henry</br>prediction: 0.29</br>age: 65.140000000004</br></br>gender: male</br>class: 1st</br>embarked: Cherbourg</br>fare: 25.0</br>sibsp: 0.0</br>parch: 0.0</br>_original_yhat_: 0.30672467296984096</br>"
          ],
          [
           "</br>id: Henry</br>prediction: 0.29</br>age: 65.878333333337</br></br>gender: male</br>class: 1st</br>embarked: Cherbourg</br>fare: 25.0</br>sibsp: 0.0</br>parch: 0.0</br>_original_yhat_: 0.30672467296984096</br>"
          ],
          [
           "</br>id: Henry</br>prediction: 0.29</br>age: 66.61666666667</br></br>gender: male</br>class: 1st</br>embarked: Cherbourg</br>fare: 25.0</br>sibsp: 0.0</br>parch: 0.0</br>_original_yhat_: 0.30672467296984096</br>"
          ],
          [
           "</br>id: Henry</br>prediction: 0.29</br>age: 67.355000000003</br></br>gender: male</br>class: 1st</br>embarked: Cherbourg</br>fare: 25.0</br>sibsp: 0.0</br>parch: 0.0</br>_original_yhat_: 0.30672467296984096</br>"
          ],
          [
           "</br>id: Henry</br>prediction: 0.29</br>age: 68.09333333333599</br></br>gender: male</br>class: 1st</br>embarked: Cherbourg</br>fare: 25.0</br>sibsp: 0.0</br>parch: 0.0</br>_original_yhat_: 0.30672467296984096</br>"
          ],
          [
           "</br>id: Henry</br>prediction: 0.29</br>age: 68.831666666669</br></br>gender: male</br>class: 1st</br>embarked: Cherbourg</br>fare: 25.0</br>sibsp: 0.0</br>parch: 0.0</br>_original_yhat_: 0.30672467296984096</br>"
          ],
          [
           "</br>id: Henry</br>prediction: 0.29</br>age: 69.570000000002</br></br>gender: male</br>class: 1st</br>embarked: Cherbourg</br>fare: 25.0</br>sibsp: 0.0</br>parch: 0.0</br>_original_yhat_: 0.30672467296984096</br>"
          ],
          [
           "</br>id: Henry</br>prediction: 0.29</br>age: 70.308333333335</br></br>gender: male</br>class: 1st</br>embarked: Cherbourg</br>fare: 25.0</br>sibsp: 0.0</br>parch: 0.0</br>_original_yhat_: 0.30672467296984096</br>"
          ],
          [
           "</br>id: Henry</br>prediction: 0.29</br>age: 71.04666666666799</br></br>gender: male</br>class: 1st</br>embarked: Cherbourg</br>fare: 25.0</br>sibsp: 0.0</br>parch: 0.0</br>_original_yhat_: 0.30672467296984096</br>"
          ],
          [
           "</br>id: Henry</br>prediction: 0.29</br>age: 71.78500000000099</br></br>gender: male</br>class: 1st</br>embarked: Cherbourg</br>fare: 25.0</br>sibsp: 0.0</br>parch: 0.0</br>_original_yhat_: 0.30672467296984096</br>"
          ],
          [
           "</br>id: Henry</br>prediction: 0.29</br>age: 72.523333333334</br></br>gender: male</br>class: 1st</br>embarked: Cherbourg</br>fare: 25.0</br>sibsp: 0.0</br>parch: 0.0</br>_original_yhat_: 0.30672467296984096</br>"
          ],
          [
           "</br>id: Henry</br>prediction: 0.29</br>age: 73.261666666667</br></br>gender: male</br>class: 1st</br>embarked: Cherbourg</br>fare: 25.0</br>sibsp: 0.0</br>parch: 0.0</br>_original_yhat_: 0.30672467296984096</br>"
          ],
          [
           "</br>id: Henry</br>prediction: 0.29</br>age: 74.0</br></br>gender: male</br>class: 1st</br>embarked: Cherbourg</br>fare: 25.0</br>sibsp: 0.0</br>parch: 0.0</br>_original_yhat_: 0.30672467296984096</br>"
          ]
         ],
         "hovertemplate": "%{customdata[0]}<extra></extra>",
         "legendgroup": "Titanic RF Pipeline",
         "line": {
          "color": "#46bac2",
          "dash": "solid",
          "width": 2
         },
         "marker": {
          "symbol": "circle"
         },
         "mode": "lines",
         "name": "Titanic RF Pipeline",
         "opacity": 1,
         "orientation": "v",
         "showlegend": true,
         "type": "scatter",
         "x": [
          0.1666666667,
          0.905000000033,
          1.643333333366,
          2.3816666666989996,
          3.120000000032,
          3.858333333365,
          4.596666666698,
          5.335000000031,
          6.073333333364,
          6.8116666666970005,
          7.550000000030001,
          8.288333333363,
          9.026666666695998,
          9.765000000029,
          10.503333333361999,
          11.241666666695,
          11.980000000028,
          12.718333333360999,
          13.456666666694,
          14.195000000027,
          14.93333333336,
          15.671666666693,
          16.410000000026,
          17.148333333359,
          17.886666666691998,
          18.625000000025,
          19.363333333358,
          20.101666666691,
          20.840000000024,
          21.578333333356998,
          22.31666666669,
          23.055000000023,
          23.793333333356,
          24.531666666689,
          25.270000000021998,
          26.008333333355,
          26.746666666688,
          27.485000000021,
          28.223333333354,
          28.961666666686998,
          29.70000000002,
          30.438333333353,
          31.176666666686,
          31.915000000019,
          32.653333333352,
          33.391666666685005,
          34.130000000018,
          34.868333333351,
          35.606666666684,
          36.345000000017,
          37.083333333350005,
          37.821666666683,
          38.560000000016004,
          39.298333333349,
          40.036666666682,
          40.775000000015005,
          41.513333333348,
          42.251666666681004,
          42.990000000014,
          43.728333333347,
          44.466666666680005,
          45.205000000013,
          45.943333333346004,
          46.681666666679,
          47,
          47.420000000012,
          48.158333333345006,
          48.896666666678,
          49.635000000011004,
          50.373333333344,
          51.111666666677,
          51.850000000010006,
          52.588333333343,
          53.326666666676005,
          54.065000000009,
          54.803333333342,
          55.541666666675006,
          56.280000000008,
          57.018333333341005,
          57.756666666674,
          58.495000000007,
          59.233333333340006,
          59.971666666673,
          60.710000000006005,
          61.448333333339,
          62.186666666672004,
          62.925000000005,
          63.663333333338,
          64.40166666667099,
          65.140000000004,
          65.878333333337,
          66.61666666667,
          67.355000000003,
          68.09333333333599,
          68.831666666669,
          69.570000000002,
          70.308333333335,
          71.04666666666799,
          71.78500000000099,
          72.523333333334,
          73.261666666667,
          74
         ],
         "xaxis": "x",
         "y": [
          0.4414839426395087,
          0.4458783442830629,
          0.4449293646912262,
          0.4449293646912262,
          0.4449293646912262,
          0.44087068029020005,
          0.40826500138018595,
          0.40826500138018595,
          0.4056963876978794,
          0.39383460425982186,
          0.3923660727912904,
          0.3923660727912904,
          0.38587581291849704,
          0.35929849675621217,
          0.3569944307730299,
          0.3569944307730299,
          0.3569944307730299,
          0.3557551205874728,
          0.3557551205874728,
          0.34011583280599683,
          0.3320685234043574,
          0.32514038344844925,
          0.32514038344844925,
          0.3243716336423271,
          0.3228829972786907,
          0.3228829972786907,
          0.3228829972786907,
          0.32312644440070776,
          0.32146953838050735,
          0.3203638565623255,
          0.3203638565623255,
          0.3203638565623255,
          0.3203638565623255,
          0.31991894513366514,
          0.31991894513366514,
          0.31946417403603694,
          0.31845962858149146,
          0.31845962858149146,
          0.3170523030465064,
          0.3170523030465064,
          0.31608995531671674,
          0.31608995531671674,
          0.31608995531671674,
          0.31608995531671674,
          0.31608995531671674,
          0.31608995531671674,
          0.31608995531671674,
          0.31608995531671674,
          0.311472444830306,
          0.311472444830306,
          0.3088448462609575,
          0.3088448462609575,
          0.3081702603100723,
          0.3081702603100723,
          0.3070831635358787,
          0.3070831635358787,
          0.3070831635358787,
          0.3070831635358787,
          0.3070831635358787,
          0.3070831635358787,
          0.3070831635358787,
          0.3070831635358787,
          0.30672467296984096,
          0.30672467296984096,
          0.30672467296984096,
          0.30672467296984096,
          0.30672467296984096,
          0.30672467296984096,
          0.30612151874281,
          0.30612151874281,
          0.30612151874281,
          0.30612151874281,
          0.30612151874281,
          0.3054626952133982,
          0.3050853602196249,
          0.29872772097113875,
          0.29764753140657424,
          0.29764753140657424,
          0.29764753140657424,
          0.29764753140657424,
          0.29764753140657424,
          0.29764753140657424,
          0.29764753140657424,
          0.29666116777021057,
          0.29666116777021057,
          0.2959083899924328,
          0.29327515935257964,
          0.2918233075007279,
          0.2918233075007279,
          0.29032690462303007,
          0.29032690462303007,
          0.29032690462303007,
          0.29032690462303007,
          0.29032690462303007,
          0.29032690462303007,
          0.29032690462303007,
          0.29032690462303007,
          0.29032690462303007,
          0.29032690462303007,
          0.29032690462303007,
          0.29032690462303007,
          0.29032690462303007
         ],
         "yaxis": "y"
        },
        {
         "customdata": [
          [
           "</br>id: Henry</br>prediction: 0.293</br>fare: 0.0</br></br>gender: male</br>age: 47.0</br>class: 1st</br>embarked: Cherbourg</br>sibsp: 0.0</br>parch: 0.0</br>_original_yhat_: 0.30672467296984096</br>"
          ],
          [
           "</br>id: Henry</br>prediction: 0.293</br>fare: 5.120607</br></br>gender: male</br>age: 47.0</br>class: 1st</br>embarked: Cherbourg</br>sibsp: 0.0</br>parch: 0.0</br>_original_yhat_: 0.30672467296984096</br>"
          ],
          [
           "</br>id: Henry</br>prediction: 0.295</br>fare: 10.241214</br></br>gender: male</br>age: 47.0</br>class: 1st</br>embarked: Cherbourg</br>sibsp: 0.0</br>parch: 0.0</br>_original_yhat_: 0.30672467296984096</br>"
          ],
          [
           "</br>id: Henry</br>prediction: 0.307</br>fare: 15.361820999999999</br></br>gender: male</br>age: 47.0</br>class: 1st</br>embarked: Cherbourg</br>sibsp: 0.0</br>parch: 0.0</br>_original_yhat_: 0.30672467296984096</br>"
          ],
          [
           "</br>id: Henry</br>prediction: 0.307</br>fare: 20.482428</br></br>gender: male</br>age: 47.0</br>class: 1st</br>embarked: Cherbourg</br>sibsp: 0.0</br>parch: 0.0</br>_original_yhat_: 0.30672467296984096</br>"
          ],
          [
           "</br>id: Henry</br>prediction: 0.307</br>fare: 25.0</br></br>gender: male</br>age: 47.0</br>class: 1st</br>embarked: Cherbourg</br>sibsp: 0.0</br>parch: 0.0</br>_original_yhat_: 0.30672467296984096</br>"
          ],
          [
           "</br>id: Henry</br>prediction: 0.307</br>fare: 25.603035</br></br>gender: male</br>age: 47.0</br>class: 1st</br>embarked: Cherbourg</br>sibsp: 0.0</br>parch: 0.0</br>_original_yhat_: 0.30672467296984096</br>"
          ],
          [
           "</br>id: Henry</br>prediction: 0.321</br>fare: 30.723641999999998</br></br>gender: male</br>age: 47.0</br>class: 1st</br>embarked: Cherbourg</br>sibsp: 0.0</br>parch: 0.0</br>_original_yhat_: 0.30672467296984096</br>"
          ],
          [
           "</br>id: Henry</br>prediction: 0.322</br>fare: 35.844249</br></br>gender: male</br>age: 47.0</br>class: 1st</br>embarked: Cherbourg</br>sibsp: 0.0</br>parch: 0.0</br>_original_yhat_: 0.30672467296984096</br>"
          ],
          [
           "</br>id: Henry</br>prediction: 0.322</br>fare: 40.964856</br></br>gender: male</br>age: 47.0</br>class: 1st</br>embarked: Cherbourg</br>sibsp: 0.0</br>parch: 0.0</br>_original_yhat_: 0.30672467296984096</br>"
          ],
          [
           "</br>id: Henry</br>prediction: 0.322</br>fare: 46.085463</br></br>gender: male</br>age: 47.0</br>class: 1st</br>embarked: Cherbourg</br>sibsp: 0.0</br>parch: 0.0</br>_original_yhat_: 0.30672467296984096</br>"
          ],
          [
           "</br>id: Henry</br>prediction: 0.327</br>fare: 51.20607</br></br>gender: male</br>age: 47.0</br>class: 1st</br>embarked: Cherbourg</br>sibsp: 0.0</br>parch: 0.0</br>_original_yhat_: 0.30672467296984096</br>"
          ],
          [
           "</br>id: Henry</br>prediction: 0.348</br>fare: 56.326677</br></br>gender: male</br>age: 47.0</br>class: 1st</br>embarked: Cherbourg</br>sibsp: 0.0</br>parch: 0.0</br>_original_yhat_: 0.30672467296984096</br>"
          ],
          [
           "</br>id: Henry</br>prediction: 0.345</br>fare: 61.447283999999996</br></br>gender: male</br>age: 47.0</br>class: 1st</br>embarked: Cherbourg</br>sibsp: 0.0</br>parch: 0.0</br>_original_yhat_: 0.30672467296984096</br>"
          ],
          [
           "</br>id: Henry</br>prediction: 0.345</br>fare: 66.567891</br></br>gender: male</br>age: 47.0</br>class: 1st</br>embarked: Cherbourg</br>sibsp: 0.0</br>parch: 0.0</br>_original_yhat_: 0.30672467296984096</br>"
          ],
          [
           "</br>id: Henry</br>prediction: 0.345</br>fare: 71.688498</br></br>gender: male</br>age: 47.0</br>class: 1st</br>embarked: Cherbourg</br>sibsp: 0.0</br>parch: 0.0</br>_original_yhat_: 0.30672467296984096</br>"
          ],
          [
           "</br>id: Henry</br>prediction: 0.347</br>fare: 76.80910499999999</br></br>gender: male</br>age: 47.0</br>class: 1st</br>embarked: Cherbourg</br>sibsp: 0.0</br>parch: 0.0</br>_original_yhat_: 0.30672467296984096</br>"
          ],
          [
           "</br>id: Henry</br>prediction: 0.348</br>fare: 81.929712</br></br>gender: male</br>age: 47.0</br>class: 1st</br>embarked: Cherbourg</br>sibsp: 0.0</br>parch: 0.0</br>_original_yhat_: 0.30672467296984096</br>"
          ],
          [
           "</br>id: Henry</br>prediction: 0.348</br>fare: 87.050319</br></br>gender: male</br>age: 47.0</br>class: 1st</br>embarked: Cherbourg</br>sibsp: 0.0</br>parch: 0.0</br>_original_yhat_: 0.30672467296984096</br>"
          ],
          [
           "</br>id: Henry</br>prediction: 0.35</br>fare: 92.170926</br></br>gender: male</br>age: 47.0</br>class: 1st</br>embarked: Cherbourg</br>sibsp: 0.0</br>parch: 0.0</br>_original_yhat_: 0.30672467296984096</br>"
          ],
          [
           "</br>id: Henry</br>prediction: 0.35</br>fare: 97.29153299999999</br></br>gender: male</br>age: 47.0</br>class: 1st</br>embarked: Cherbourg</br>sibsp: 0.0</br>parch: 0.0</br>_original_yhat_: 0.30672467296984096</br>"
          ],
          [
           "</br>id: Henry</br>prediction: 0.35</br>fare: 102.41214</br></br>gender: male</br>age: 47.0</br>class: 1st</br>embarked: Cherbourg</br>sibsp: 0.0</br>parch: 0.0</br>_original_yhat_: 0.30672467296984096</br>"
          ],
          [
           "</br>id: Henry</br>prediction: 0.35</br>fare: 107.532747</br></br>gender: male</br>age: 47.0</br>class: 1st</br>embarked: Cherbourg</br>sibsp: 0.0</br>parch: 0.0</br>_original_yhat_: 0.30672467296984096</br>"
          ],
          [
           "</br>id: Henry</br>prediction: 0.35</br>fare: 112.653354</br></br>gender: male</br>age: 47.0</br>class: 1st</br>embarked: Cherbourg</br>sibsp: 0.0</br>parch: 0.0</br>_original_yhat_: 0.30672467296984096</br>"
          ],
          [
           "</br>id: Henry</br>prediction: 0.35</br>fare: 117.77396099999999</br></br>gender: male</br>age: 47.0</br>class: 1st</br>embarked: Cherbourg</br>sibsp: 0.0</br>parch: 0.0</br>_original_yhat_: 0.30672467296984096</br>"
          ],
          [
           "</br>id: Henry</br>prediction: 0.35</br>fare: 122.89456799999999</br></br>gender: male</br>age: 47.0</br>class: 1st</br>embarked: Cherbourg</br>sibsp: 0.0</br>parch: 0.0</br>_original_yhat_: 0.30672467296984096</br>"
          ],
          [
           "</br>id: Henry</br>prediction: 0.35</br>fare: 128.015175</br></br>gender: male</br>age: 47.0</br>class: 1st</br>embarked: Cherbourg</br>sibsp: 0.0</br>parch: 0.0</br>_original_yhat_: 0.30672467296984096</br>"
          ],
          [
           "</br>id: Henry</br>prediction: 0.35</br>fare: 133.135782</br></br>gender: male</br>age: 47.0</br>class: 1st</br>embarked: Cherbourg</br>sibsp: 0.0</br>parch: 0.0</br>_original_yhat_: 0.30672467296984096</br>"
          ],
          [
           "</br>id: Henry</br>prediction: 0.35</br>fare: 138.25638899999998</br></br>gender: male</br>age: 47.0</br>class: 1st</br>embarked: Cherbourg</br>sibsp: 0.0</br>parch: 0.0</br>_original_yhat_: 0.30672467296984096</br>"
          ],
          [
           "</br>id: Henry</br>prediction: 0.35</br>fare: 143.376996</br></br>gender: male</br>age: 47.0</br>class: 1st</br>embarked: Cherbourg</br>sibsp: 0.0</br>parch: 0.0</br>_original_yhat_: 0.30672467296984096</br>"
          ],
          [
           "</br>id: Henry</br>prediction: 0.35</br>fare: 148.497603</br></br>gender: male</br>age: 47.0</br>class: 1st</br>embarked: Cherbourg</br>sibsp: 0.0</br>parch: 0.0</br>_original_yhat_: 0.30672467296984096</br>"
          ],
          [
           "</br>id: Henry</br>prediction: 0.35</br>fare: 153.61820999999998</br></br>gender: male</br>age: 47.0</br>class: 1st</br>embarked: Cherbourg</br>sibsp: 0.0</br>parch: 0.0</br>_original_yhat_: 0.30672467296984096</br>"
          ],
          [
           "</br>id: Henry</br>prediction: 0.349</br>fare: 158.73881699999998</br></br>gender: male</br>age: 47.0</br>class: 1st</br>embarked: Cherbourg</br>sibsp: 0.0</br>parch: 0.0</br>_original_yhat_: 0.30672467296984096</br>"
          ],
          [
           "</br>id: Henry</br>prediction: 0.349</br>fare: 163.859424</br></br>gender: male</br>age: 47.0</br>class: 1st</br>embarked: Cherbourg</br>sibsp: 0.0</br>parch: 0.0</br>_original_yhat_: 0.30672467296984096</br>"
          ],
          [
           "</br>id: Henry</br>prediction: 0.349</br>fare: 168.980031</br></br>gender: male</br>age: 47.0</br>class: 1st</br>embarked: Cherbourg</br>sibsp: 0.0</br>parch: 0.0</br>_original_yhat_: 0.30672467296984096</br>"
          ],
          [
           "</br>id: Henry</br>prediction: 0.349</br>fare: 174.100638</br></br>gender: male</br>age: 47.0</br>class: 1st</br>embarked: Cherbourg</br>sibsp: 0.0</br>parch: 0.0</br>_original_yhat_: 0.30672467296984096</br>"
          ],
          [
           "</br>id: Henry</br>prediction: 0.349</br>fare: 179.22124499999998</br></br>gender: male</br>age: 47.0</br>class: 1st</br>embarked: Cherbourg</br>sibsp: 0.0</br>parch: 0.0</br>_original_yhat_: 0.30672467296984096</br>"
          ],
          [
           "</br>id: Henry</br>prediction: 0.349</br>fare: 184.341852</br></br>gender: male</br>age: 47.0</br>class: 1st</br>embarked: Cherbourg</br>sibsp: 0.0</br>parch: 0.0</br>_original_yhat_: 0.30672467296984096</br>"
          ],
          [
           "</br>id: Henry</br>prediction: 0.349</br>fare: 189.462459</br></br>gender: male</br>age: 47.0</br>class: 1st</br>embarked: Cherbourg</br>sibsp: 0.0</br>parch: 0.0</br>_original_yhat_: 0.30672467296984096</br>"
          ],
          [
           "</br>id: Henry</br>prediction: 0.349</br>fare: 194.58306599999997</br></br>gender: male</br>age: 47.0</br>class: 1st</br>embarked: Cherbourg</br>sibsp: 0.0</br>parch: 0.0</br>_original_yhat_: 0.30672467296984096</br>"
          ],
          [
           "</br>id: Henry</br>prediction: 0.349</br>fare: 199.70367299999998</br></br>gender: male</br>age: 47.0</br>class: 1st</br>embarked: Cherbourg</br>sibsp: 0.0</br>parch: 0.0</br>_original_yhat_: 0.30672467296984096</br>"
          ],
          [
           "</br>id: Henry</br>prediction: 0.349</br>fare: 204.82428</br></br>gender: male</br>age: 47.0</br>class: 1st</br>embarked: Cherbourg</br>sibsp: 0.0</br>parch: 0.0</br>_original_yhat_: 0.30672467296984096</br>"
          ],
          [
           "</br>id: Henry</br>prediction: 0.349</br>fare: 209.944887</br></br>gender: male</br>age: 47.0</br>class: 1st</br>embarked: Cherbourg</br>sibsp: 0.0</br>parch: 0.0</br>_original_yhat_: 0.30672467296984096</br>"
          ],
          [
           "</br>id: Henry</br>prediction: 0.349</br>fare: 215.065494</br></br>gender: male</br>age: 47.0</br>class: 1st</br>embarked: Cherbourg</br>sibsp: 0.0</br>parch: 0.0</br>_original_yhat_: 0.30672467296984096</br>"
          ],
          [
           "</br>id: Henry</br>prediction: 0.349</br>fare: 220.18610099999998</br></br>gender: male</br>age: 47.0</br>class: 1st</br>embarked: Cherbourg</br>sibsp: 0.0</br>parch: 0.0</br>_original_yhat_: 0.30672467296984096</br>"
          ],
          [
           "</br>id: Henry</br>prediction: 0.349</br>fare: 225.306708</br></br>gender: male</br>age: 47.0</br>class: 1st</br>embarked: Cherbourg</br>sibsp: 0.0</br>parch: 0.0</br>_original_yhat_: 0.30672467296984096</br>"
          ],
          [
           "</br>id: Henry</br>prediction: 0.349</br>fare: 230.427315</br></br>gender: male</br>age: 47.0</br>class: 1st</br>embarked: Cherbourg</br>sibsp: 0.0</br>parch: 0.0</br>_original_yhat_: 0.30672467296984096</br>"
          ],
          [
           "</br>id: Henry</br>prediction: 0.349</br>fare: 235.54792199999997</br></br>gender: male</br>age: 47.0</br>class: 1st</br>embarked: Cherbourg</br>sibsp: 0.0</br>parch: 0.0</br>_original_yhat_: 0.30672467296984096</br>"
          ],
          [
           "</br>id: Henry</br>prediction: 0.349</br>fare: 240.66852899999998</br></br>gender: male</br>age: 47.0</br>class: 1st</br>embarked: Cherbourg</br>sibsp: 0.0</br>parch: 0.0</br>_original_yhat_: 0.30672467296984096</br>"
          ],
          [
           "</br>id: Henry</br>prediction: 0.349</br>fare: 245.78913599999998</br></br>gender: male</br>age: 47.0</br>class: 1st</br>embarked: Cherbourg</br>sibsp: 0.0</br>parch: 0.0</br>_original_yhat_: 0.30672467296984096</br>"
          ],
          [
           "</br>id: Henry</br>prediction: 0.349</br>fare: 250.909743</br></br>gender: male</br>age: 47.0</br>class: 1st</br>embarked: Cherbourg</br>sibsp: 0.0</br>parch: 0.0</br>_original_yhat_: 0.30672467296984096</br>"
          ],
          [
           "</br>id: Henry</br>prediction: 0.35</br>fare: 256.03035</br></br>gender: male</br>age: 47.0</br>class: 1st</br>embarked: Cherbourg</br>sibsp: 0.0</br>parch: 0.0</br>_original_yhat_: 0.30672467296984096</br>"
          ],
          [
           "</br>id: Henry</br>prediction: 0.35</br>fare: 261.150957</br></br>gender: male</br>age: 47.0</br>class: 1st</br>embarked: Cherbourg</br>sibsp: 0.0</br>parch: 0.0</br>_original_yhat_: 0.30672467296984096</br>"
          ],
          [
           "</br>id: Henry</br>prediction: 0.35</br>fare: 266.271564</br></br>gender: male</br>age: 47.0</br>class: 1st</br>embarked: Cherbourg</br>sibsp: 0.0</br>parch: 0.0</br>_original_yhat_: 0.30672467296984096</br>"
          ],
          [
           "</br>id: Henry</br>prediction: 0.35</br>fare: 271.39217099999996</br></br>gender: male</br>age: 47.0</br>class: 1st</br>embarked: Cherbourg</br>sibsp: 0.0</br>parch: 0.0</br>_original_yhat_: 0.30672467296984096</br>"
          ],
          [
           "</br>id: Henry</br>prediction: 0.35</br>fare: 276.51277799999997</br></br>gender: male</br>age: 47.0</br>class: 1st</br>embarked: Cherbourg</br>sibsp: 0.0</br>parch: 0.0</br>_original_yhat_: 0.30672467296984096</br>"
          ],
          [
           "</br>id: Henry</br>prediction: 0.35</br>fare: 281.633385</br></br>gender: male</br>age: 47.0</br>class: 1st</br>embarked: Cherbourg</br>sibsp: 0.0</br>parch: 0.0</br>_original_yhat_: 0.30672467296984096</br>"
          ],
          [
           "</br>id: Henry</br>prediction: 0.35</br>fare: 286.753992</br></br>gender: male</br>age: 47.0</br>class: 1st</br>embarked: Cherbourg</br>sibsp: 0.0</br>parch: 0.0</br>_original_yhat_: 0.30672467296984096</br>"
          ],
          [
           "</br>id: Henry</br>prediction: 0.35</br>fare: 291.874599</br></br>gender: male</br>age: 47.0</br>class: 1st</br>embarked: Cherbourg</br>sibsp: 0.0</br>parch: 0.0</br>_original_yhat_: 0.30672467296984096</br>"
          ],
          [
           "</br>id: Henry</br>prediction: 0.35</br>fare: 296.995206</br></br>gender: male</br>age: 47.0</br>class: 1st</br>embarked: Cherbourg</br>sibsp: 0.0</br>parch: 0.0</br>_original_yhat_: 0.30672467296984096</br>"
          ],
          [
           "</br>id: Henry</br>prediction: 0.35</br>fare: 302.115813</br></br>gender: male</br>age: 47.0</br>class: 1st</br>embarked: Cherbourg</br>sibsp: 0.0</br>parch: 0.0</br>_original_yhat_: 0.30672467296984096</br>"
          ],
          [
           "</br>id: Henry</br>prediction: 0.35</br>fare: 307.23641999999995</br></br>gender: male</br>age: 47.0</br>class: 1st</br>embarked: Cherbourg</br>sibsp: 0.0</br>parch: 0.0</br>_original_yhat_: 0.30672467296984096</br>"
          ],
          [
           "</br>id: Henry</br>prediction: 0.35</br>fare: 312.35702699999996</br></br>gender: male</br>age: 47.0</br>class: 1st</br>embarked: Cherbourg</br>sibsp: 0.0</br>parch: 0.0</br>_original_yhat_: 0.30672467296984096</br>"
          ],
          [
           "</br>id: Henry</br>prediction: 0.35</br>fare: 317.47763399999997</br></br>gender: male</br>age: 47.0</br>class: 1st</br>embarked: Cherbourg</br>sibsp: 0.0</br>parch: 0.0</br>_original_yhat_: 0.30672467296984096</br>"
          ],
          [
           "</br>id: Henry</br>prediction: 0.35</br>fare: 322.598241</br></br>gender: male</br>age: 47.0</br>class: 1st</br>embarked: Cherbourg</br>sibsp: 0.0</br>parch: 0.0</br>_original_yhat_: 0.30672467296984096</br>"
          ],
          [
           "</br>id: Henry</br>prediction: 0.35</br>fare: 327.718848</br></br>gender: male</br>age: 47.0</br>class: 1st</br>embarked: Cherbourg</br>sibsp: 0.0</br>parch: 0.0</br>_original_yhat_: 0.30672467296984096</br>"
          ],
          [
           "</br>id: Henry</br>prediction: 0.35</br>fare: 332.839455</br></br>gender: male</br>age: 47.0</br>class: 1st</br>embarked: Cherbourg</br>sibsp: 0.0</br>parch: 0.0</br>_original_yhat_: 0.30672467296984096</br>"
          ],
          [
           "</br>id: Henry</br>prediction: 0.35</br>fare: 337.960062</br></br>gender: male</br>age: 47.0</br>class: 1st</br>embarked: Cherbourg</br>sibsp: 0.0</br>parch: 0.0</br>_original_yhat_: 0.30672467296984096</br>"
          ],
          [
           "</br>id: Henry</br>prediction: 0.35</br>fare: 343.080669</br></br>gender: male</br>age: 47.0</br>class: 1st</br>embarked: Cherbourg</br>sibsp: 0.0</br>parch: 0.0</br>_original_yhat_: 0.30672467296984096</br>"
          ],
          [
           "</br>id: Henry</br>prediction: 0.35</br>fare: 348.201276</br></br>gender: male</br>age: 47.0</br>class: 1st</br>embarked: Cherbourg</br>sibsp: 0.0</br>parch: 0.0</br>_original_yhat_: 0.30672467296984096</br>"
          ],
          [
           "</br>id: Henry</br>prediction: 0.35</br>fare: 353.32188299999996</br></br>gender: male</br>age: 47.0</br>class: 1st</br>embarked: Cherbourg</br>sibsp: 0.0</br>parch: 0.0</br>_original_yhat_: 0.30672467296984096</br>"
          ],
          [
           "</br>id: Henry</br>prediction: 0.35</br>fare: 358.44248999999996</br></br>gender: male</br>age: 47.0</br>class: 1st</br>embarked: Cherbourg</br>sibsp: 0.0</br>parch: 0.0</br>_original_yhat_: 0.30672467296984096</br>"
          ],
          [
           "</br>id: Henry</br>prediction: 0.35</br>fare: 363.56309699999997</br></br>gender: male</br>age: 47.0</br>class: 1st</br>embarked: Cherbourg</br>sibsp: 0.0</br>parch: 0.0</br>_original_yhat_: 0.30672467296984096</br>"
          ],
          [
           "</br>id: Henry</br>prediction: 0.35</br>fare: 368.683704</br></br>gender: male</br>age: 47.0</br>class: 1st</br>embarked: Cherbourg</br>sibsp: 0.0</br>parch: 0.0</br>_original_yhat_: 0.30672467296984096</br>"
          ],
          [
           "</br>id: Henry</br>prediction: 0.35</br>fare: 373.804311</br></br>gender: male</br>age: 47.0</br>class: 1st</br>embarked: Cherbourg</br>sibsp: 0.0</br>parch: 0.0</br>_original_yhat_: 0.30672467296984096</br>"
          ],
          [
           "</br>id: Henry</br>prediction: 0.35</br>fare: 378.924918</br></br>gender: male</br>age: 47.0</br>class: 1st</br>embarked: Cherbourg</br>sibsp: 0.0</br>parch: 0.0</br>_original_yhat_: 0.30672467296984096</br>"
          ],
          [
           "</br>id: Henry</br>prediction: 0.35</br>fare: 384.045525</br></br>gender: male</br>age: 47.0</br>class: 1st</br>embarked: Cherbourg</br>sibsp: 0.0</br>parch: 0.0</br>_original_yhat_: 0.30672467296984096</br>"
          ],
          [
           "</br>id: Henry</br>prediction: 0.364</br>fare: 389.16613199999995</br></br>gender: male</br>age: 47.0</br>class: 1st</br>embarked: Cherbourg</br>sibsp: 0.0</br>parch: 0.0</br>_original_yhat_: 0.30672467296984096</br>"
          ],
          [
           "</br>id: Henry</br>prediction: 0.364</br>fare: 394.28673899999995</br></br>gender: male</br>age: 47.0</br>class: 1st</br>embarked: Cherbourg</br>sibsp: 0.0</br>parch: 0.0</br>_original_yhat_: 0.30672467296984096</br>"
          ],
          [
           "</br>id: Henry</br>prediction: 0.364</br>fare: 399.40734599999996</br></br>gender: male</br>age: 47.0</br>class: 1st</br>embarked: Cherbourg</br>sibsp: 0.0</br>parch: 0.0</br>_original_yhat_: 0.30672467296984096</br>"
          ],
          [
           "</br>id: Henry</br>prediction: 0.364</br>fare: 404.52795299999997</br></br>gender: male</br>age: 47.0</br>class: 1st</br>embarked: Cherbourg</br>sibsp: 0.0</br>parch: 0.0</br>_original_yhat_: 0.30672467296984096</br>"
          ],
          [
           "</br>id: Henry</br>prediction: 0.364</br>fare: 409.64856</br></br>gender: male</br>age: 47.0</br>class: 1st</br>embarked: Cherbourg</br>sibsp: 0.0</br>parch: 0.0</br>_original_yhat_: 0.30672467296984096</br>"
          ],
          [
           "</br>id: Henry</br>prediction: 0.364</br>fare: 414.769167</br></br>gender: male</br>age: 47.0</br>class: 1st</br>embarked: Cherbourg</br>sibsp: 0.0</br>parch: 0.0</br>_original_yhat_: 0.30672467296984096</br>"
          ],
          [
           "</br>id: Henry</br>prediction: 0.364</br>fare: 419.889774</br></br>gender: male</br>age: 47.0</br>class: 1st</br>embarked: Cherbourg</br>sibsp: 0.0</br>parch: 0.0</br>_original_yhat_: 0.30672467296984096</br>"
          ],
          [
           "</br>id: Henry</br>prediction: 0.364</br>fare: 425.010381</br></br>gender: male</br>age: 47.0</br>class: 1st</br>embarked: Cherbourg</br>sibsp: 0.0</br>parch: 0.0</br>_original_yhat_: 0.30672467296984096</br>"
          ],
          [
           "</br>id: Henry</br>prediction: 0.364</br>fare: 430.130988</br></br>gender: male</br>age: 47.0</br>class: 1st</br>embarked: Cherbourg</br>sibsp: 0.0</br>parch: 0.0</br>_original_yhat_: 0.30672467296984096</br>"
          ],
          [
           "</br>id: Henry</br>prediction: 0.364</br>fare: 435.25159499999995</br></br>gender: male</br>age: 47.0</br>class: 1st</br>embarked: Cherbourg</br>sibsp: 0.0</br>parch: 0.0</br>_original_yhat_: 0.30672467296984096</br>"
          ],
          [
           "</br>id: Henry</br>prediction: 0.364</br>fare: 440.37220199999996</br></br>gender: male</br>age: 47.0</br>class: 1st</br>embarked: Cherbourg</br>sibsp: 0.0</br>parch: 0.0</br>_original_yhat_: 0.30672467296984096</br>"
          ],
          [
           "</br>id: Henry</br>prediction: 0.364</br>fare: 445.49280899999997</br></br>gender: male</br>age: 47.0</br>class: 1st</br>embarked: Cherbourg</br>sibsp: 0.0</br>parch: 0.0</br>_original_yhat_: 0.30672467296984096</br>"
          ],
          [
           "</br>id: Henry</br>prediction: 0.364</br>fare: 450.613416</br></br>gender: male</br>age: 47.0</br>class: 1st</br>embarked: Cherbourg</br>sibsp: 0.0</br>parch: 0.0</br>_original_yhat_: 0.30672467296984096</br>"
          ],
          [
           "</br>id: Henry</br>prediction: 0.364</br>fare: 455.734023</br></br>gender: male</br>age: 47.0</br>class: 1st</br>embarked: Cherbourg</br>sibsp: 0.0</br>parch: 0.0</br>_original_yhat_: 0.30672467296984096</br>"
          ],
          [
           "</br>id: Henry</br>prediction: 0.364</br>fare: 460.85463</br></br>gender: male</br>age: 47.0</br>class: 1st</br>embarked: Cherbourg</br>sibsp: 0.0</br>parch: 0.0</br>_original_yhat_: 0.30672467296984096</br>"
          ],
          [
           "</br>id: Henry</br>prediction: 0.364</br>fare: 465.975237</br></br>gender: male</br>age: 47.0</br>class: 1st</br>embarked: Cherbourg</br>sibsp: 0.0</br>parch: 0.0</br>_original_yhat_: 0.30672467296984096</br>"
          ],
          [
           "</br>id: Henry</br>prediction: 0.364</br>fare: 471.09584399999994</br></br>gender: male</br>age: 47.0</br>class: 1st</br>embarked: Cherbourg</br>sibsp: 0.0</br>parch: 0.0</br>_original_yhat_: 0.30672467296984096</br>"
          ],
          [
           "</br>id: Henry</br>prediction: 0.364</br>fare: 476.21645099999995</br></br>gender: male</br>age: 47.0</br>class: 1st</br>embarked: Cherbourg</br>sibsp: 0.0</br>parch: 0.0</br>_original_yhat_: 0.30672467296984096</br>"
          ],
          [
           "</br>id: Henry</br>prediction: 0.364</br>fare: 481.33705799999996</br></br>gender: male</br>age: 47.0</br>class: 1st</br>embarked: Cherbourg</br>sibsp: 0.0</br>parch: 0.0</br>_original_yhat_: 0.30672467296984096</br>"
          ],
          [
           "</br>id: Henry</br>prediction: 0.364</br>fare: 486.45766499999996</br></br>gender: male</br>age: 47.0</br>class: 1st</br>embarked: Cherbourg</br>sibsp: 0.0</br>parch: 0.0</br>_original_yhat_: 0.30672467296984096</br>"
          ],
          [
           "</br>id: Henry</br>prediction: 0.364</br>fare: 491.57827199999997</br></br>gender: male</br>age: 47.0</br>class: 1st</br>embarked: Cherbourg</br>sibsp: 0.0</br>parch: 0.0</br>_original_yhat_: 0.30672467296984096</br>"
          ],
          [
           "</br>id: Henry</br>prediction: 0.364</br>fare: 496.698879</br></br>gender: male</br>age: 47.0</br>class: 1st</br>embarked: Cherbourg</br>sibsp: 0.0</br>parch: 0.0</br>_original_yhat_: 0.30672467296984096</br>"
          ],
          [
           "</br>id: Henry</br>prediction: 0.364</br>fare: 501.819486</br></br>gender: male</br>age: 47.0</br>class: 1st</br>embarked: Cherbourg</br>sibsp: 0.0</br>parch: 0.0</br>_original_yhat_: 0.30672467296984096</br>"
          ],
          [
           "</br>id: Henry</br>prediction: 0.364</br>fare: 506.940093</br></br>gender: male</br>age: 47.0</br>class: 1st</br>embarked: Cherbourg</br>sibsp: 0.0</br>parch: 0.0</br>_original_yhat_: 0.30672467296984096</br>"
          ],
          [
           "</br>id: Henry</br>prediction: 0.364</br>fare: 512.0607</br></br>gender: male</br>age: 47.0</br>class: 1st</br>embarked: Cherbourg</br>sibsp: 0.0</br>parch: 0.0</br>_original_yhat_: 0.30672467296984096</br>"
          ]
         ],
         "hovertemplate": "%{customdata[0]}<extra></extra>",
         "legendgroup": "Titanic RF Pipeline",
         "line": {
          "color": "#46bac2",
          "dash": "solid",
          "width": 2
         },
         "marker": {
          "symbol": "circle"
         },
         "mode": "lines",
         "name": "Titanic RF Pipeline",
         "opacity": 1,
         "orientation": "v",
         "showlegend": false,
         "type": "scatter",
         "x": [
          0,
          5.120607,
          10.241214,
          15.361820999999999,
          20.482428,
          25,
          25.603035,
          30.723641999999998,
          35.844249,
          40.964856,
          46.085463,
          51.20607,
          56.326677,
          61.447283999999996,
          66.567891,
          71.688498,
          76.80910499999999,
          81.929712,
          87.050319,
          92.170926,
          97.29153299999999,
          102.41214,
          107.532747,
          112.653354,
          117.77396099999999,
          122.89456799999999,
          128.015175,
          133.135782,
          138.25638899999998,
          143.376996,
          148.497603,
          153.61820999999998,
          158.73881699999998,
          163.859424,
          168.980031,
          174.100638,
          179.22124499999998,
          184.341852,
          189.462459,
          194.58306599999997,
          199.70367299999998,
          204.82428,
          209.944887,
          215.065494,
          220.18610099999998,
          225.306708,
          230.427315,
          235.54792199999997,
          240.66852899999998,
          245.78913599999998,
          250.909743,
          256.03035,
          261.150957,
          266.271564,
          271.39217099999996,
          276.51277799999997,
          281.633385,
          286.753992,
          291.874599,
          296.995206,
          302.115813,
          307.23641999999995,
          312.35702699999996,
          317.47763399999997,
          322.598241,
          327.718848,
          332.839455,
          337.960062,
          343.080669,
          348.201276,
          353.32188299999996,
          358.44248999999996,
          363.56309699999997,
          368.683704,
          373.804311,
          378.924918,
          384.045525,
          389.16613199999995,
          394.28673899999995,
          399.40734599999996,
          404.52795299999997,
          409.64856,
          414.769167,
          419.889774,
          425.010381,
          430.130988,
          435.25159499999995,
          440.37220199999996,
          445.49280899999997,
          450.613416,
          455.734023,
          460.85463,
          465.975237,
          471.09584399999994,
          476.21645099999995,
          481.33705799999996,
          486.45766499999996,
          491.57827199999997,
          496.698879,
          501.819486,
          506.940093,
          512.0607
         ],
         "xaxis": "x2",
         "y": [
          0.2933115080443708,
          0.29266382603381214,
          0.29498822108049444,
          0.3065695023126836,
          0.3065695023126836,
          0.30672467296984096,
          0.3071074402222215,
          0.32102201842089595,
          0.32151877357215086,
          0.32228171102863834,
          0.32228171102863834,
          0.3274497934845122,
          0.34807866932497505,
          0.34533119998090683,
          0.34533119998090683,
          0.34533119998090683,
          0.34717710801229995,
          0.3480513189937094,
          0.3480513189937094,
          0.3496706170857899,
          0.3496706170857899,
          0.3496706170857899,
          0.3496706170857899,
          0.3504000314406996,
          0.3504000314406996,
          0.3504000314406996,
          0.3504000314406996,
          0.3504000314406996,
          0.3496813160475656,
          0.3496813160475656,
          0.3496813160475656,
          0.3496813160475656,
          0.34900144183372905,
          0.34900144183372905,
          0.34900144183372905,
          0.34900144183372905,
          0.34900144183372905,
          0.34900144183372905,
          0.34900144183372905,
          0.34900144183372905,
          0.34900144183372905,
          0.34900144183372905,
          0.34900144183372905,
          0.34900144183372905,
          0.34900144183372905,
          0.34900144183372905,
          0.34900144183372905,
          0.34939533919850024,
          0.34939533919850024,
          0.34939533919850024,
          0.34939533919850024,
          0.35008482637798743,
          0.35008482637798743,
          0.35008482637798743,
          0.35008482637798743,
          0.35008482637798743,
          0.35008482637798743,
          0.35008482637798743,
          0.35008482637798743,
          0.35008482637798743,
          0.35008482637798743,
          0.35008482637798743,
          0.35008482637798743,
          0.35008482637798743,
          0.35008482637798743,
          0.35008482637798743,
          0.35008482637798743,
          0.35008482637798743,
          0.35008482637798743,
          0.35008482637798743,
          0.35008482637798743,
          0.35008482637798743,
          0.35008482637798743,
          0.35008482637798743,
          0.35008482637798743,
          0.35008482637798743,
          0.35008482637798743,
          0.3639384168929174,
          0.3639384168929174,
          0.3639384168929174,
          0.3639384168929174,
          0.3639384168929174,
          0.3639384168929174,
          0.3639384168929174,
          0.3639384168929174,
          0.3639384168929174,
          0.3639384168929174,
          0.3639384168929174,
          0.3639384168929174,
          0.3639384168929174,
          0.3639384168929174,
          0.3639384168929174,
          0.3639384168929174,
          0.3639384168929174,
          0.3639384168929174,
          0.3639384168929174,
          0.3639384168929174,
          0.3639384168929174,
          0.3639384168929174,
          0.3639384168929174,
          0.3639384168929174,
          0.3639384168929174
         ],
         "yaxis": "y2"
        },
        {
         "customdata": [
          [
           "</br>id: Henry</br>prediction: 0.307</br>age: 47.0</br></br>gender: male</br>class: 1st</br>embarked: Cherbourg</br>fare: 25.0</br>sibsp: 0.0</br>parch: 0.0</br>_original_yhat_: 0.30672467296984096</br>"
          ]
         ],
         "hovertemplate": "%{customdata[0]}<extra></extra>",
         "legendgroup": "",
         "marker": {
          "color": "#371ea3",
          "size": 10,
          "symbol": "circle"
         },
         "mode": "markers",
         "name": "",
         "opacity": 1,
         "orientation": "v",
         "showlegend": false,
         "type": "scatter",
         "x": [
          47
         ],
         "xaxis": "x",
         "y": [
          0.30672467296984096
         ],
         "yaxis": "y"
        },
        {
         "customdata": [
          [
           "</br>id: Henry</br>prediction: 0.307</br>fare: 25.0</br></br>gender: male</br>age: 47.0</br>class: 1st</br>embarked: Cherbourg</br>sibsp: 0.0</br>parch: 0.0</br>_original_yhat_: 0.30672467296984096</br>"
          ]
         ],
         "hovertemplate": "%{customdata[0]}<extra></extra>",
         "legendgroup": "",
         "marker": {
          "color": "#371ea3",
          "size": 10,
          "symbol": "circle"
         },
         "mode": "markers",
         "name": "",
         "opacity": 1,
         "orientation": "v",
         "showlegend": false,
         "type": "scatter",
         "x": [
          25
         ],
         "xaxis": "x2",
         "y": [
          0.30672467296984096
         ],
         "yaxis": "y2"
        }
       ],
       "layout": {
        "annotations": [
         {
          "font": {
           "size": 13
          },
          "showarrow": false,
          "text": "age",
          "x": 0.2375,
          "xanchor": "center",
          "xref": "paper",
          "y": 1,
          "yanchor": "bottom",
          "yref": "paper"
         },
         {
          "font": {
           "size": 13
          },
          "showarrow": false,
          "text": "fare",
          "x": 0.7625,
          "xanchor": "center",
          "xref": "paper",
          "y": 1,
          "yanchor": "bottom",
          "yref": "paper"
         },
         {
          "font": {
           "size": 13
          },
          "showarrow": false,
          "text": "prediction",
          "textangle": -90,
          "x": -0.07,
          "xref": "paper",
          "y": 0.5,
          "yref": "paper"
         }
        ],
        "font": {
         "color": "#371ea3"
        },
        "height": 489,
        "hoverlabel": {
         "bgcolor": "rgba(0,0,0,0.8)"
        },
        "hovermode": "closest",
        "legend": {
         "font": {
          "size": 11
         },
         "itemsizing": "constant",
         "orientation": "h",
         "title": {
          "font": {
           "size": 12
          },
          "text": "label"
         },
         "tracegroupgap": 0,
         "x": 1,
         "xanchor": "right",
         "y": 1.0613496932515338,
         "yanchor": "bottom"
        },
        "margin": {
         "b": 71,
         "r": 30,
         "t": 78
        },
        "template": {
         "data": {
          "scatter": [
           {
            "type": "scatter"
           }
          ]
         }
        },
        "title": {
         "font": {
          "size": 16
         },
         "text": "Ceteris Paribus Profiles",
         "x": 0.15
        },
        "xaxis": {
         "anchor": "y",
         "automargin": true,
         "domain": [
          0,
          0.475
         ],
         "fixedrange": true,
         "gridwidth": 2,
         "showticklabels": true,
         "tickcolor": "white",
         "ticklen": 3,
         "ticks": "outside",
         "title": {
          "text": ""
         },
         "type": "linear",
         "zeroline": false
        },
        "xaxis2": {
         "anchor": "y2",
         "automargin": true,
         "domain": [
          0.525,
          1
         ],
         "fixedrange": true,
         "gridwidth": 2,
         "showticklabels": true,
         "tickcolor": "white",
         "ticklen": 3,
         "ticks": "outside",
         "title": {
          "text": ""
         },
         "type": "linear",
         "zeroline": false
        },
        "yaxis": {
         "anchor": "x",
         "automargin": true,
         "domain": [
          0,
          1
         ],
         "fixedrange": true,
         "gridwidth": 2,
         "range": [
          0.2747717606570268,
          0.46143348824906616
         ],
         "tickcolor": "white",
         "ticklen": 3,
         "ticks": "outside",
         "title": {
          "text": ""
         },
         "type": "linear",
         "zeroline": false
        },
        "yaxis2": {
         "anchor": "x2",
         "automargin": true,
         "domain": [
          0,
          1
         ],
         "fixedrange": true,
         "gridwidth": 2,
         "matches": "y",
         "range": [
          0.2747717606570268,
          0.46143348824906616
         ],
         "showticklabels": false,
         "tickcolor": "white",
         "ticklen": 3,
         "ticks": "outside",
         "title": {
          "text": ""
         },
         "type": "linear",
         "zeroline": false
        }
       }
      }
     },
     "metadata": {},
     "output_type": "display_data"
    }
   ],
   "source": [
    "cp_henry.plot(variables = ['age', 'fare'])"
   ]
  },
  {
   "cell_type": "code",
   "execution_count": 8,
   "metadata": {},
   "outputs": [
    {
     "data": {
      "application/vnd.plotly.v1+json": {
       "config": {
        "displaylogo": false,
        "modeBarButtonsToRemove": [
         "sendDataToCloud",
         "lasso2d",
         "autoScale2d",
         "select2d",
         "zoom2d",
         "pan2d",
         "zoomIn2d",
         "zoomOut2d",
         "resetScale2d",
         "toggleSpikelines",
         "hoverCompareCartesian",
         "hoverClosestCartesian"
        ],
        "plotlyServerURL": "https://plot.ly",
        "staticPlot": false,
        "toImageButtonOptions": {
         "height": null,
         "width": null
        }
       },
       "data": [
        {
         "alignmentgroup": "True",
         "base": [
          0.30672467296984096,
          0.30672467296984096,
          0.30672467296984096,
          0.30672467296984096,
          0.30672467296984096,
          0.30672467296984096,
          0.30672467296984096
         ],
         "customdata": [
          [
           "</br>id: Henry</br>prediction: 0.222</br>class: 3rd</br></br>gender: male</br>age: 47.0</br>embarked: Cherbourg</br>fare: 25.0</br>sibsp: 0.0</br>parch: 0.0</br>_original_yhat_: 0.30672467296984096</br>"
          ],
          [
           "</br>id: Henry</br>prediction: 0.236</br>class: 2nd</br></br>gender: male</br>age: 47.0</br>embarked: Cherbourg</br>fare: 25.0</br>sibsp: 0.0</br>parch: 0.0</br>_original_yhat_: 0.30672467296984096</br>"
          ],
          [
           "</br>id: Henry</br>prediction: 0.307</br>class: 1st</br></br>gender: male</br>age: 47.0</br>embarked: Cherbourg</br>fare: 25.0</br>sibsp: 0.0</br>parch: 0.0</br>_original_yhat_: 0.30672467296984096</br>"
          ],
          [
           "</br>id: Henry</br>prediction: 0.237</br>class: engineering crew</br></br>gender: male</br>age: 47.0</br>embarked: Cherbourg</br>fare: 25.0</br>sibsp: 0.0</br>parch: 0.0</br>_original_yhat_: 0.30672467296984096</br>"
          ],
          [
           "</br>id: Henry</br>prediction: 0.236</br>class: victualling crew</br></br>gender: male</br>age: 47.0</br>embarked: Cherbourg</br>fare: 25.0</br>sibsp: 0.0</br>parch: 0.0</br>_original_yhat_: 0.30672467296984096</br>"
          ],
          [
           "</br>id: Henry</br>prediction: 0.211</br>class: restaurant staff</br></br>gender: male</br>age: 47.0</br>embarked: Cherbourg</br>fare: 25.0</br>sibsp: 0.0</br>parch: 0.0</br>_original_yhat_: 0.30672467296984096</br>"
          ],
          [
           "</br>id: Henry</br>prediction: 0.355</br>class: deck crew</br></br>gender: male</br>age: 47.0</br>embarked: Cherbourg</br>fare: 25.0</br>sibsp: 0.0</br>parch: 0.0</br>_original_yhat_: 0.30672467296984096</br>"
          ]
         ],
         "hovertemplate": "%{customdata[0]}<extra></extra>",
         "legendgroup": "Titanic RF Pipeline",
         "marker": {
          "color": "#46bac2",
          "pattern": {
           "shape": ""
          }
         },
         "name": "Titanic RF Pipeline",
         "offsetgroup": "Titanic RF Pipeline",
         "opacity": 1,
         "orientation": "h",
         "showlegend": true,
         "textposition": "auto",
         "type": "bar",
         "x": [
          -0.08436335987005922,
          -0.0707408874455761,
          0,
          -0.06961991241759102,
          -0.07085455261310425,
          -0.09537999172254011,
          0.04820808647995678
         ],
         "xaxis": "x",
         "y": [
          "3rd",
          "2nd",
          "1st",
          "engineering crew",
          "victualling crew",
          "restaurant staff",
          "deck crew"
         ],
         "yaxis": "y"
        },
        {
         "alignmentgroup": "True",
         "base": [
          0.30672467296984096,
          0.30672467296984096,
          0.30672467296984096,
          0.30672467296984096
         ],
         "customdata": [
          [
           "</br>id: Henry</br>prediction: 0.273</br>embarked: Southampton</br></br>gender: male</br>age: 47.0</br>class: 1st</br>fare: 25.0</br>sibsp: 0.0</br>parch: 0.0</br>_original_yhat_: 0.30672467296984096</br>"
          ],
          [
           "</br>id: Henry</br>prediction: 0.307</br>embarked: Cherbourg</br></br>gender: male</br>age: 47.0</br>class: 1st</br>fare: 25.0</br>sibsp: 0.0</br>parch: 0.0</br>_original_yhat_: 0.30672467296984096</br>"
          ],
          [
           "</br>id: Henry</br>prediction: 0.263</br>embarked: Belfast</br></br>gender: male</br>age: 47.0</br>class: 1st</br>fare: 25.0</br>sibsp: 0.0</br>parch: 0.0</br>_original_yhat_: 0.30672467296984096</br>"
          ],
          [
           "</br>id: Henry</br>prediction: 0.275</br>embarked: Queenstown</br></br>gender: male</br>age: 47.0</br>class: 1st</br>fare: 25.0</br>sibsp: 0.0</br>parch: 0.0</br>_original_yhat_: 0.30672467296984096</br>"
          ]
         ],
         "hovertemplate": "%{customdata[0]}<extra></extra>",
         "legendgroup": "Titanic RF Pipeline",
         "marker": {
          "color": "#46bac2",
          "pattern": {
           "shape": ""
          }
         },
         "name": "Titanic RF Pipeline",
         "offsetgroup": "Titanic RF Pipeline",
         "opacity": 1,
         "orientation": "h",
         "showlegend": false,
         "textposition": "auto",
         "type": "bar",
         "x": [
          -0.03356667666475466,
          0,
          -0.04385609637881793,
          -0.031550974419365774
         ],
         "xaxis": "x2",
         "y": [
          "Southampton",
          "Cherbourg",
          "Belfast",
          "Queenstown"
         ],
         "yaxis": "y2"
        },
        {
         "customdata": [
          [
           "</br>id: Henry</br>prediction: 0.307</br>class: 1st</br></br>gender: male</br>age: 47.0</br>embarked: Cherbourg</br>fare: 25.0</br>sibsp: 0.0</br>parch: 0.0</br>_original_yhat_: 0.30672467296984096</br>"
          ]
         ],
         "hovertemplate": "%{customdata[0]}<extra></extra>",
         "legendgroup": "",
         "marker": {
          "color": "#371ea3",
          "size": 10,
          "symbol": "circle"
         },
         "mode": "markers",
         "name": "",
         "opacity": 1,
         "orientation": "h",
         "showlegend": false,
         "type": "scatter",
         "x": [
          0.30672467296984096
         ],
         "xaxis": "x",
         "y": [
          "1st"
         ],
         "yaxis": "y"
        },
        {
         "customdata": [
          [
           "</br>id: Henry</br>prediction: 0.307</br>embarked: Cherbourg</br></br>gender: male</br>age: 47.0</br>class: 1st</br>fare: 25.0</br>sibsp: 0.0</br>parch: 0.0</br>_original_yhat_: 0.30672467296984096</br>"
          ]
         ],
         "hovertemplate": "%{customdata[0]}<extra></extra>",
         "legendgroup": "",
         "marker": {
          "color": "#371ea3",
          "size": 10,
          "symbol": "circle"
         },
         "mode": "markers",
         "name": "",
         "opacity": 1,
         "orientation": "h",
         "showlegend": false,
         "type": "scatter",
         "x": [
          0.30672467296984096
         ],
         "xaxis": "x2",
         "y": [
          "Cherbourg"
         ],
         "yaxis": "y2"
        }
       ],
       "layout": {
        "annotations": [
         {
          "font": {
           "size": 13
          },
          "showarrow": false,
          "text": "class",
          "x": 0.225,
          "xanchor": "center",
          "xref": "paper",
          "y": 1,
          "yanchor": "bottom",
          "yref": "paper"
         },
         {
          "font": {
           "size": 13
          },
          "showarrow": false,
          "text": "embarked",
          "x": 0.775,
          "xanchor": "center",
          "xref": "paper",
          "y": 1,
          "yanchor": "bottom",
          "yref": "paper"
         },
         {
          "font": {
           "size": 13
          },
          "showarrow": false,
          "text": "prediction",
          "textangle": 0,
          "x": 0.5,
          "xref": "paper",
          "y": -0.12269938650306748,
          "yref": "paper"
         }
        ],
        "barmode": "group",
        "font": {
         "color": "#371ea3"
        },
        "height": 489,
        "hoverlabel": {
         "bgcolor": "rgba(0,0,0,0.8)"
        },
        "hovermode": "closest",
        "legend": {
         "font": {
          "size": 11
         },
         "itemsizing": "constant",
         "orientation": "h",
         "title": {
          "font": {
           "size": 12
          },
          "text": "label"
         },
         "tracegroupgap": 0,
         "x": 1,
         "xanchor": "right",
         "y": 1.0613496932515338,
         "yanchor": "bottom"
        },
        "margin": {
         "b": 71,
         "r": 30,
         "t": 78
        },
        "shapes": [
         {
          "layer": "below",
          "line": {
           "color": "#371ea3",
           "dash": "dot",
           "width": 1.5
          },
          "type": "line",
          "x0": 0.30672467296984096,
          "x1": 0.30672467296984096,
          "xref": "x",
          "y0": 0,
          "y1": 1,
          "yref": "y domain"
         },
         {
          "layer": "below",
          "line": {
           "color": "#371ea3",
           "dash": "dot",
           "width": 1.5
          },
          "type": "line",
          "x0": 0.30672467296984096,
          "x1": 0.30672467296984096,
          "xref": "x2",
          "y0": 0,
          "y1": 1,
          "yref": "y2 domain"
         },
         {
          "layer": "below",
          "line": {
           "color": "#371ea3",
           "dash": "dot",
           "width": 1.5
          },
          "type": "line",
          "x0": 0.30672467296984096,
          "x1": 0.30672467296984096,
          "xref": "x",
          "y0": 0,
          "y1": 1,
          "yref": "y domain"
         },
         {
          "layer": "below",
          "line": {
           "color": "#371ea3",
           "dash": "dot",
           "width": 1.5
          },
          "type": "line",
          "x0": 0.30672467296984096,
          "x1": 0.30672467296984096,
          "xref": "x2",
          "y0": 0,
          "y1": 1,
          "yref": "y2 domain"
         }
        ],
        "template": {
         "data": {
          "scatter": [
           {
            "type": "scatter"
           }
          ]
         }
        },
        "title": {
         "font": {
          "size": 16
         },
         "text": "Ceteris Paribus Profiles",
         "x": 0.15
        },
        "xaxis": {
         "anchor": "y",
         "automargin": true,
         "domain": [
          0,
          0.45
         ],
         "fixedrange": true,
         "gridwidth": 2,
         "range": [
          0.19698587342705115,
          0.3692915672700474
         ],
         "tickcolor": "white",
         "ticklen": 3,
         "ticks": "outside",
         "title": {
          "text": ""
         },
         "type": "linear",
         "zeroline": false
        },
        "xaxis2": {
         "anchor": "y2",
         "automargin": true,
         "domain": [
          0.55,
          1
         ],
         "fixedrange": true,
         "gridwidth": 2,
         "matches": "x",
         "range": [
          0.19698587342705115,
          0.3692915672700474
         ],
         "tickcolor": "white",
         "ticklen": 3,
         "ticks": "outside",
         "title": {
          "text": ""
         },
         "type": "linear",
         "zeroline": false
        },
        "yaxis": {
         "anchor": "x",
         "automargin": true,
         "domain": [
          0,
          1
         ],
         "fixedrange": true,
         "gridwidth": 2,
         "showticklabels": true,
         "tickcolor": "white",
         "ticklen": 10,
         "ticks": "outside",
         "title": {
          "text": ""
         },
         "type": "category"
        },
        "yaxis2": {
         "anchor": "x2",
         "automargin": true,
         "domain": [
          0,
          1
         ],
         "fixedrange": true,
         "gridwidth": 2,
         "showticklabels": true,
         "tickcolor": "white",
         "ticklen": 10,
         "ticks": "outside",
         "title": {
          "text": ""
         },
         "type": "category"
        }
       }
      }
     },
     "metadata": {},
     "output_type": "display_data"
    }
   ],
   "source": [
    "cp_henry.plot(variables = ['class', 'embarked'],\n",
    "               variable_type = 'categorical')"
   ]
  },
  {
   "cell_type": "code",
   "execution_count": 9,
   "metadata": {},
   "outputs": [
    {
     "name": "stdout",
     "output_type": "stream",
     "text": [
      "Preparation of a new explainer is initiated\n",
      "\n",
      "  -> data              : 2207 rows 7 cols\n",
      "  -> target variable   : Parameter 'y' was a pandas.Series. Converted to a numpy.ndarray.\n",
      "  -> target variable   : 2207 values\n",
      "  -> model_class       : sklearn.linear_model._logistic.LogisticRegression (default)\n",
      "  -> label             : Titanic LR Pipeline\n",
      "  -> predict function  : <function yhat_proba_default at 0x000001F4EAD7D0D0> will be used (default)\n",
      "  -> predict function  : Accepts only pandas.DataFrame, numpy.ndarray causes problems.\n",
      "  -> predicted values  : min = 0.009, mean = 0.322, max = 0.97\n",
      "  -> model type        : classification will be used (default)\n",
      "  -> residual function : difference between y and yhat (default)\n",
      "  -> residuals         : min = -0.96, mean = -5.83e-07, max = 0.964\n",
      "  -> model_info        : package sklearn\n",
      "\n",
      "A new explainer has been created!\n"
     ]
    }
   ],
   "source": [
    "from sklearn.linear_model import LogisticRegression\n",
    "\n",
    "titanic_lr = make_pipeline(\n",
    "    preprocess,\n",
    "    LogisticRegression(penalty = 'l2'))\n",
    "titanic_lr.fit(X, y)\n",
    "\n",
    "titanic_lr_exp = dx.Explainer(titanic_lr, \n",
    "                    X, y, label = \"Titanic LR Pipeline\")"
   ]
  },
  {
   "cell_type": "code",
   "execution_count": 10,
   "metadata": {},
   "outputs": [
    {
     "name": "stderr",
     "output_type": "stream",
     "text": [
      "Calculating ceteris paribus: 100%|██████████| 7/7 [00:00<00:00, 419.45it/s]\n"
     ]
    },
    {
     "data": {
      "application/vnd.plotly.v1+json": {
       "config": {
        "displaylogo": false,
        "modeBarButtonsToRemove": [
         "sendDataToCloud",
         "lasso2d",
         "autoScale2d",
         "select2d",
         "zoom2d",
         "pan2d",
         "zoomIn2d",
         "zoomOut2d",
         "resetScale2d",
         "toggleSpikelines",
         "hoverCompareCartesian",
         "hoverClosestCartesian"
        ],
        "plotlyServerURL": "https://plot.ly",
        "staticPlot": false,
        "toImageButtonOptions": {
         "height": null,
         "width": null
        }
       },
       "data": [
        {
         "customdata": [
          [
           "</br>id: Henry</br>prediction: 0.441</br>age: 0.1666666667</br></br>gender: male</br>class: 1st</br>embarked: Cherbourg</br>fare: 25.0</br>sibsp: 0.0</br>parch: 0.0</br>_original_yhat_: 0.30672467296984096</br>"
          ],
          [
           "</br>id: Henry</br>prediction: 0.446</br>age: 0.905000000033</br></br>gender: male</br>class: 1st</br>embarked: Cherbourg</br>fare: 25.0</br>sibsp: 0.0</br>parch: 0.0</br>_original_yhat_: 0.30672467296984096</br>"
          ],
          [
           "</br>id: Henry</br>prediction: 0.445</br>age: 1.643333333366</br></br>gender: male</br>class: 1st</br>embarked: Cherbourg</br>fare: 25.0</br>sibsp: 0.0</br>parch: 0.0</br>_original_yhat_: 0.30672467296984096</br>"
          ],
          [
           "</br>id: Henry</br>prediction: 0.445</br>age: 2.3816666666989996</br></br>gender: male</br>class: 1st</br>embarked: Cherbourg</br>fare: 25.0</br>sibsp: 0.0</br>parch: 0.0</br>_original_yhat_: 0.30672467296984096</br>"
          ],
          [
           "</br>id: Henry</br>prediction: 0.445</br>age: 3.120000000032</br></br>gender: male</br>class: 1st</br>embarked: Cherbourg</br>fare: 25.0</br>sibsp: 0.0</br>parch: 0.0</br>_original_yhat_: 0.30672467296984096</br>"
          ],
          [
           "</br>id: Henry</br>prediction: 0.441</br>age: 3.858333333365</br></br>gender: male</br>class: 1st</br>embarked: Cherbourg</br>fare: 25.0</br>sibsp: 0.0</br>parch: 0.0</br>_original_yhat_: 0.30672467296984096</br>"
          ],
          [
           "</br>id: Henry</br>prediction: 0.408</br>age: 4.596666666698</br></br>gender: male</br>class: 1st</br>embarked: Cherbourg</br>fare: 25.0</br>sibsp: 0.0</br>parch: 0.0</br>_original_yhat_: 0.30672467296984096</br>"
          ],
          [
           "</br>id: Henry</br>prediction: 0.408</br>age: 5.335000000031</br></br>gender: male</br>class: 1st</br>embarked: Cherbourg</br>fare: 25.0</br>sibsp: 0.0</br>parch: 0.0</br>_original_yhat_: 0.30672467296984096</br>"
          ],
          [
           "</br>id: Henry</br>prediction: 0.406</br>age: 6.073333333364</br></br>gender: male</br>class: 1st</br>embarked: Cherbourg</br>fare: 25.0</br>sibsp: 0.0</br>parch: 0.0</br>_original_yhat_: 0.30672467296984096</br>"
          ],
          [
           "</br>id: Henry</br>prediction: 0.394</br>age: 6.8116666666970005</br></br>gender: male</br>class: 1st</br>embarked: Cherbourg</br>fare: 25.0</br>sibsp: 0.0</br>parch: 0.0</br>_original_yhat_: 0.30672467296984096</br>"
          ],
          [
           "</br>id: Henry</br>prediction: 0.392</br>age: 7.550000000030001</br></br>gender: male</br>class: 1st</br>embarked: Cherbourg</br>fare: 25.0</br>sibsp: 0.0</br>parch: 0.0</br>_original_yhat_: 0.30672467296984096</br>"
          ],
          [
           "</br>id: Henry</br>prediction: 0.392</br>age: 8.288333333363</br></br>gender: male</br>class: 1st</br>embarked: Cherbourg</br>fare: 25.0</br>sibsp: 0.0</br>parch: 0.0</br>_original_yhat_: 0.30672467296984096</br>"
          ],
          [
           "</br>id: Henry</br>prediction: 0.386</br>age: 9.026666666695998</br></br>gender: male</br>class: 1st</br>embarked: Cherbourg</br>fare: 25.0</br>sibsp: 0.0</br>parch: 0.0</br>_original_yhat_: 0.30672467296984096</br>"
          ],
          [
           "</br>id: Henry</br>prediction: 0.359</br>age: 9.765000000029</br></br>gender: male</br>class: 1st</br>embarked: Cherbourg</br>fare: 25.0</br>sibsp: 0.0</br>parch: 0.0</br>_original_yhat_: 0.30672467296984096</br>"
          ],
          [
           "</br>id: Henry</br>prediction: 0.357</br>age: 10.503333333361999</br></br>gender: male</br>class: 1st</br>embarked: Cherbourg</br>fare: 25.0</br>sibsp: 0.0</br>parch: 0.0</br>_original_yhat_: 0.30672467296984096</br>"
          ],
          [
           "</br>id: Henry</br>prediction: 0.357</br>age: 11.241666666695</br></br>gender: male</br>class: 1st</br>embarked: Cherbourg</br>fare: 25.0</br>sibsp: 0.0</br>parch: 0.0</br>_original_yhat_: 0.30672467296984096</br>"
          ],
          [
           "</br>id: Henry</br>prediction: 0.357</br>age: 11.980000000028</br></br>gender: male</br>class: 1st</br>embarked: Cherbourg</br>fare: 25.0</br>sibsp: 0.0</br>parch: 0.0</br>_original_yhat_: 0.30672467296984096</br>"
          ],
          [
           "</br>id: Henry</br>prediction: 0.356</br>age: 12.718333333360999</br></br>gender: male</br>class: 1st</br>embarked: Cherbourg</br>fare: 25.0</br>sibsp: 0.0</br>parch: 0.0</br>_original_yhat_: 0.30672467296984096</br>"
          ],
          [
           "</br>id: Henry</br>prediction: 0.356</br>age: 13.456666666694</br></br>gender: male</br>class: 1st</br>embarked: Cherbourg</br>fare: 25.0</br>sibsp: 0.0</br>parch: 0.0</br>_original_yhat_: 0.30672467296984096</br>"
          ],
          [
           "</br>id: Henry</br>prediction: 0.34</br>age: 14.195000000027</br></br>gender: male</br>class: 1st</br>embarked: Cherbourg</br>fare: 25.0</br>sibsp: 0.0</br>parch: 0.0</br>_original_yhat_: 0.30672467296984096</br>"
          ],
          [
           "</br>id: Henry</br>prediction: 0.332</br>age: 14.93333333336</br></br>gender: male</br>class: 1st</br>embarked: Cherbourg</br>fare: 25.0</br>sibsp: 0.0</br>parch: 0.0</br>_original_yhat_: 0.30672467296984096</br>"
          ],
          [
           "</br>id: Henry</br>prediction: 0.325</br>age: 15.671666666693</br></br>gender: male</br>class: 1st</br>embarked: Cherbourg</br>fare: 25.0</br>sibsp: 0.0</br>parch: 0.0</br>_original_yhat_: 0.30672467296984096</br>"
          ],
          [
           "</br>id: Henry</br>prediction: 0.325</br>age: 16.410000000026</br></br>gender: male</br>class: 1st</br>embarked: Cherbourg</br>fare: 25.0</br>sibsp: 0.0</br>parch: 0.0</br>_original_yhat_: 0.30672467296984096</br>"
          ],
          [
           "</br>id: Henry</br>prediction: 0.324</br>age: 17.148333333359</br></br>gender: male</br>class: 1st</br>embarked: Cherbourg</br>fare: 25.0</br>sibsp: 0.0</br>parch: 0.0</br>_original_yhat_: 0.30672467296984096</br>"
          ],
          [
           "</br>id: Henry</br>prediction: 0.323</br>age: 17.886666666691998</br></br>gender: male</br>class: 1st</br>embarked: Cherbourg</br>fare: 25.0</br>sibsp: 0.0</br>parch: 0.0</br>_original_yhat_: 0.30672467296984096</br>"
          ],
          [
           "</br>id: Henry</br>prediction: 0.323</br>age: 18.625000000025</br></br>gender: male</br>class: 1st</br>embarked: Cherbourg</br>fare: 25.0</br>sibsp: 0.0</br>parch: 0.0</br>_original_yhat_: 0.30672467296984096</br>"
          ],
          [
           "</br>id: Henry</br>prediction: 0.323</br>age: 19.363333333358</br></br>gender: male</br>class: 1st</br>embarked: Cherbourg</br>fare: 25.0</br>sibsp: 0.0</br>parch: 0.0</br>_original_yhat_: 0.30672467296984096</br>"
          ],
          [
           "</br>id: Henry</br>prediction: 0.323</br>age: 20.101666666691</br></br>gender: male</br>class: 1st</br>embarked: Cherbourg</br>fare: 25.0</br>sibsp: 0.0</br>parch: 0.0</br>_original_yhat_: 0.30672467296984096</br>"
          ],
          [
           "</br>id: Henry</br>prediction: 0.321</br>age: 20.840000000024</br></br>gender: male</br>class: 1st</br>embarked: Cherbourg</br>fare: 25.0</br>sibsp: 0.0</br>parch: 0.0</br>_original_yhat_: 0.30672467296984096</br>"
          ],
          [
           "</br>id: Henry</br>prediction: 0.32</br>age: 21.578333333356998</br></br>gender: male</br>class: 1st</br>embarked: Cherbourg</br>fare: 25.0</br>sibsp: 0.0</br>parch: 0.0</br>_original_yhat_: 0.30672467296984096</br>"
          ],
          [
           "</br>id: Henry</br>prediction: 0.32</br>age: 22.31666666669</br></br>gender: male</br>class: 1st</br>embarked: Cherbourg</br>fare: 25.0</br>sibsp: 0.0</br>parch: 0.0</br>_original_yhat_: 0.30672467296984096</br>"
          ],
          [
           "</br>id: Henry</br>prediction: 0.32</br>age: 23.055000000023</br></br>gender: male</br>class: 1st</br>embarked: Cherbourg</br>fare: 25.0</br>sibsp: 0.0</br>parch: 0.0</br>_original_yhat_: 0.30672467296984096</br>"
          ],
          [
           "</br>id: Henry</br>prediction: 0.32</br>age: 23.793333333356</br></br>gender: male</br>class: 1st</br>embarked: Cherbourg</br>fare: 25.0</br>sibsp: 0.0</br>parch: 0.0</br>_original_yhat_: 0.30672467296984096</br>"
          ],
          [
           "</br>id: Henry</br>prediction: 0.32</br>age: 24.531666666689</br></br>gender: male</br>class: 1st</br>embarked: Cherbourg</br>fare: 25.0</br>sibsp: 0.0</br>parch: 0.0</br>_original_yhat_: 0.30672467296984096</br>"
          ],
          [
           "</br>id: Henry</br>prediction: 0.32</br>age: 25.270000000021998</br></br>gender: male</br>class: 1st</br>embarked: Cherbourg</br>fare: 25.0</br>sibsp: 0.0</br>parch: 0.0</br>_original_yhat_: 0.30672467296984096</br>"
          ],
          [
           "</br>id: Henry</br>prediction: 0.319</br>age: 26.008333333355</br></br>gender: male</br>class: 1st</br>embarked: Cherbourg</br>fare: 25.0</br>sibsp: 0.0</br>parch: 0.0</br>_original_yhat_: 0.30672467296984096</br>"
          ],
          [
           "</br>id: Henry</br>prediction: 0.318</br>age: 26.746666666688</br></br>gender: male</br>class: 1st</br>embarked: Cherbourg</br>fare: 25.0</br>sibsp: 0.0</br>parch: 0.0</br>_original_yhat_: 0.30672467296984096</br>"
          ],
          [
           "</br>id: Henry</br>prediction: 0.318</br>age: 27.485000000021</br></br>gender: male</br>class: 1st</br>embarked: Cherbourg</br>fare: 25.0</br>sibsp: 0.0</br>parch: 0.0</br>_original_yhat_: 0.30672467296984096</br>"
          ],
          [
           "</br>id: Henry</br>prediction: 0.317</br>age: 28.223333333354</br></br>gender: male</br>class: 1st</br>embarked: Cherbourg</br>fare: 25.0</br>sibsp: 0.0</br>parch: 0.0</br>_original_yhat_: 0.30672467296984096</br>"
          ],
          [
           "</br>id: Henry</br>prediction: 0.317</br>age: 28.961666666686998</br></br>gender: male</br>class: 1st</br>embarked: Cherbourg</br>fare: 25.0</br>sibsp: 0.0</br>parch: 0.0</br>_original_yhat_: 0.30672467296984096</br>"
          ],
          [
           "</br>id: Henry</br>prediction: 0.316</br>age: 29.70000000002</br></br>gender: male</br>class: 1st</br>embarked: Cherbourg</br>fare: 25.0</br>sibsp: 0.0</br>parch: 0.0</br>_original_yhat_: 0.30672467296984096</br>"
          ],
          [
           "</br>id: Henry</br>prediction: 0.316</br>age: 30.438333333353</br></br>gender: male</br>class: 1st</br>embarked: Cherbourg</br>fare: 25.0</br>sibsp: 0.0</br>parch: 0.0</br>_original_yhat_: 0.30672467296984096</br>"
          ],
          [
           "</br>id: Henry</br>prediction: 0.316</br>age: 31.176666666686</br></br>gender: male</br>class: 1st</br>embarked: Cherbourg</br>fare: 25.0</br>sibsp: 0.0</br>parch: 0.0</br>_original_yhat_: 0.30672467296984096</br>"
          ],
          [
           "</br>id: Henry</br>prediction: 0.316</br>age: 31.915000000019</br></br>gender: male</br>class: 1st</br>embarked: Cherbourg</br>fare: 25.0</br>sibsp: 0.0</br>parch: 0.0</br>_original_yhat_: 0.30672467296984096</br>"
          ],
          [
           "</br>id: Henry</br>prediction: 0.316</br>age: 32.653333333352</br></br>gender: male</br>class: 1st</br>embarked: Cherbourg</br>fare: 25.0</br>sibsp: 0.0</br>parch: 0.0</br>_original_yhat_: 0.30672467296984096</br>"
          ],
          [
           "</br>id: Henry</br>prediction: 0.316</br>age: 33.391666666685005</br></br>gender: male</br>class: 1st</br>embarked: Cherbourg</br>fare: 25.0</br>sibsp: 0.0</br>parch: 0.0</br>_original_yhat_: 0.30672467296984096</br>"
          ],
          [
           "</br>id: Henry</br>prediction: 0.316</br>age: 34.130000000018</br></br>gender: male</br>class: 1st</br>embarked: Cherbourg</br>fare: 25.0</br>sibsp: 0.0</br>parch: 0.0</br>_original_yhat_: 0.30672467296984096</br>"
          ],
          [
           "</br>id: Henry</br>prediction: 0.316</br>age: 34.868333333351</br></br>gender: male</br>class: 1st</br>embarked: Cherbourg</br>fare: 25.0</br>sibsp: 0.0</br>parch: 0.0</br>_original_yhat_: 0.30672467296984096</br>"
          ],
          [
           "</br>id: Henry</br>prediction: 0.311</br>age: 35.606666666684</br></br>gender: male</br>class: 1st</br>embarked: Cherbourg</br>fare: 25.0</br>sibsp: 0.0</br>parch: 0.0</br>_original_yhat_: 0.30672467296984096</br>"
          ],
          [
           "</br>id: Henry</br>prediction: 0.311</br>age: 36.345000000017</br></br>gender: male</br>class: 1st</br>embarked: Cherbourg</br>fare: 25.0</br>sibsp: 0.0</br>parch: 0.0</br>_original_yhat_: 0.30672467296984096</br>"
          ],
          [
           "</br>id: Henry</br>prediction: 0.309</br>age: 37.083333333350005</br></br>gender: male</br>class: 1st</br>embarked: Cherbourg</br>fare: 25.0</br>sibsp: 0.0</br>parch: 0.0</br>_original_yhat_: 0.30672467296984096</br>"
          ],
          [
           "</br>id: Henry</br>prediction: 0.309</br>age: 37.821666666683</br></br>gender: male</br>class: 1st</br>embarked: Cherbourg</br>fare: 25.0</br>sibsp: 0.0</br>parch: 0.0</br>_original_yhat_: 0.30672467296984096</br>"
          ],
          [
           "</br>id: Henry</br>prediction: 0.308</br>age: 38.560000000016004</br></br>gender: male</br>class: 1st</br>embarked: Cherbourg</br>fare: 25.0</br>sibsp: 0.0</br>parch: 0.0</br>_original_yhat_: 0.30672467296984096</br>"
          ],
          [
           "</br>id: Henry</br>prediction: 0.308</br>age: 39.298333333349</br></br>gender: male</br>class: 1st</br>embarked: Cherbourg</br>fare: 25.0</br>sibsp: 0.0</br>parch: 0.0</br>_original_yhat_: 0.30672467296984096</br>"
          ],
          [
           "</br>id: Henry</br>prediction: 0.307</br>age: 40.036666666682</br></br>gender: male</br>class: 1st</br>embarked: Cherbourg</br>fare: 25.0</br>sibsp: 0.0</br>parch: 0.0</br>_original_yhat_: 0.30672467296984096</br>"
          ],
          [
           "</br>id: Henry</br>prediction: 0.307</br>age: 40.775000000015005</br></br>gender: male</br>class: 1st</br>embarked: Cherbourg</br>fare: 25.0</br>sibsp: 0.0</br>parch: 0.0</br>_original_yhat_: 0.30672467296984096</br>"
          ],
          [
           "</br>id: Henry</br>prediction: 0.307</br>age: 41.513333333348</br></br>gender: male</br>class: 1st</br>embarked: Cherbourg</br>fare: 25.0</br>sibsp: 0.0</br>parch: 0.0</br>_original_yhat_: 0.30672467296984096</br>"
          ],
          [
           "</br>id: Henry</br>prediction: 0.307</br>age: 42.251666666681004</br></br>gender: male</br>class: 1st</br>embarked: Cherbourg</br>fare: 25.0</br>sibsp: 0.0</br>parch: 0.0</br>_original_yhat_: 0.30672467296984096</br>"
          ],
          [
           "</br>id: Henry</br>prediction: 0.307</br>age: 42.990000000014</br></br>gender: male</br>class: 1st</br>embarked: Cherbourg</br>fare: 25.0</br>sibsp: 0.0</br>parch: 0.0</br>_original_yhat_: 0.30672467296984096</br>"
          ],
          [
           "</br>id: Henry</br>prediction: 0.307</br>age: 43.728333333347</br></br>gender: male</br>class: 1st</br>embarked: Cherbourg</br>fare: 25.0</br>sibsp: 0.0</br>parch: 0.0</br>_original_yhat_: 0.30672467296984096</br>"
          ],
          [
           "</br>id: Henry</br>prediction: 0.307</br>age: 44.466666666680005</br></br>gender: male</br>class: 1st</br>embarked: Cherbourg</br>fare: 25.0</br>sibsp: 0.0</br>parch: 0.0</br>_original_yhat_: 0.30672467296984096</br>"
          ],
          [
           "</br>id: Henry</br>prediction: 0.307</br>age: 45.205000000013</br></br>gender: male</br>class: 1st</br>embarked: Cherbourg</br>fare: 25.0</br>sibsp: 0.0</br>parch: 0.0</br>_original_yhat_: 0.30672467296984096</br>"
          ],
          [
           "</br>id: Henry</br>prediction: 0.307</br>age: 45.943333333346004</br></br>gender: male</br>class: 1st</br>embarked: Cherbourg</br>fare: 25.0</br>sibsp: 0.0</br>parch: 0.0</br>_original_yhat_: 0.30672467296984096</br>"
          ],
          [
           "</br>id: Henry</br>prediction: 0.307</br>age: 46.681666666679</br></br>gender: male</br>class: 1st</br>embarked: Cherbourg</br>fare: 25.0</br>sibsp: 0.0</br>parch: 0.0</br>_original_yhat_: 0.30672467296984096</br>"
          ],
          [
           "</br>id: Henry</br>prediction: 0.307</br>age: 47.0</br></br>gender: male</br>class: 1st</br>embarked: Cherbourg</br>fare: 25.0</br>sibsp: 0.0</br>parch: 0.0</br>_original_yhat_: 0.30672467296984096</br>"
          ],
          [
           "</br>id: Henry</br>prediction: 0.307</br>age: 47.420000000012</br></br>gender: male</br>class: 1st</br>embarked: Cherbourg</br>fare: 25.0</br>sibsp: 0.0</br>parch: 0.0</br>_original_yhat_: 0.30672467296984096</br>"
          ],
          [
           "</br>id: Henry</br>prediction: 0.307</br>age: 48.158333333345006</br></br>gender: male</br>class: 1st</br>embarked: Cherbourg</br>fare: 25.0</br>sibsp: 0.0</br>parch: 0.0</br>_original_yhat_: 0.30672467296984096</br>"
          ],
          [
           "</br>id: Henry</br>prediction: 0.307</br>age: 48.896666666678</br></br>gender: male</br>class: 1st</br>embarked: Cherbourg</br>fare: 25.0</br>sibsp: 0.0</br>parch: 0.0</br>_original_yhat_: 0.30672467296984096</br>"
          ],
          [
           "</br>id: Henry</br>prediction: 0.306</br>age: 49.635000000011004</br></br>gender: male</br>class: 1st</br>embarked: Cherbourg</br>fare: 25.0</br>sibsp: 0.0</br>parch: 0.0</br>_original_yhat_: 0.30672467296984096</br>"
          ],
          [
           "</br>id: Henry</br>prediction: 0.306</br>age: 50.373333333344</br></br>gender: male</br>class: 1st</br>embarked: Cherbourg</br>fare: 25.0</br>sibsp: 0.0</br>parch: 0.0</br>_original_yhat_: 0.30672467296984096</br>"
          ],
          [
           "</br>id: Henry</br>prediction: 0.306</br>age: 51.111666666677</br></br>gender: male</br>class: 1st</br>embarked: Cherbourg</br>fare: 25.0</br>sibsp: 0.0</br>parch: 0.0</br>_original_yhat_: 0.30672467296984096</br>"
          ],
          [
           "</br>id: Henry</br>prediction: 0.306</br>age: 51.850000000010006</br></br>gender: male</br>class: 1st</br>embarked: Cherbourg</br>fare: 25.0</br>sibsp: 0.0</br>parch: 0.0</br>_original_yhat_: 0.30672467296984096</br>"
          ],
          [
           "</br>id: Henry</br>prediction: 0.306</br>age: 52.588333333343</br></br>gender: male</br>class: 1st</br>embarked: Cherbourg</br>fare: 25.0</br>sibsp: 0.0</br>parch: 0.0</br>_original_yhat_: 0.30672467296984096</br>"
          ],
          [
           "</br>id: Henry</br>prediction: 0.305</br>age: 53.326666666676005</br></br>gender: male</br>class: 1st</br>embarked: Cherbourg</br>fare: 25.0</br>sibsp: 0.0</br>parch: 0.0</br>_original_yhat_: 0.30672467296984096</br>"
          ],
          [
           "</br>id: Henry</br>prediction: 0.305</br>age: 54.065000000009</br></br>gender: male</br>class: 1st</br>embarked: Cherbourg</br>fare: 25.0</br>sibsp: 0.0</br>parch: 0.0</br>_original_yhat_: 0.30672467296984096</br>"
          ],
          [
           "</br>id: Henry</br>prediction: 0.299</br>age: 54.803333333342</br></br>gender: male</br>class: 1st</br>embarked: Cherbourg</br>fare: 25.0</br>sibsp: 0.0</br>parch: 0.0</br>_original_yhat_: 0.30672467296984096</br>"
          ],
          [
           "</br>id: Henry</br>prediction: 0.298</br>age: 55.541666666675006</br></br>gender: male</br>class: 1st</br>embarked: Cherbourg</br>fare: 25.0</br>sibsp: 0.0</br>parch: 0.0</br>_original_yhat_: 0.30672467296984096</br>"
          ],
          [
           "</br>id: Henry</br>prediction: 0.298</br>age: 56.280000000008</br></br>gender: male</br>class: 1st</br>embarked: Cherbourg</br>fare: 25.0</br>sibsp: 0.0</br>parch: 0.0</br>_original_yhat_: 0.30672467296984096</br>"
          ],
          [
           "</br>id: Henry</br>prediction: 0.298</br>age: 57.018333333341005</br></br>gender: male</br>class: 1st</br>embarked: Cherbourg</br>fare: 25.0</br>sibsp: 0.0</br>parch: 0.0</br>_original_yhat_: 0.30672467296984096</br>"
          ],
          [
           "</br>id: Henry</br>prediction: 0.298</br>age: 57.756666666674</br></br>gender: male</br>class: 1st</br>embarked: Cherbourg</br>fare: 25.0</br>sibsp: 0.0</br>parch: 0.0</br>_original_yhat_: 0.30672467296984096</br>"
          ],
          [
           "</br>id: Henry</br>prediction: 0.298</br>age: 58.495000000007</br></br>gender: male</br>class: 1st</br>embarked: Cherbourg</br>fare: 25.0</br>sibsp: 0.0</br>parch: 0.0</br>_original_yhat_: 0.30672467296984096</br>"
          ],
          [
           "</br>id: Henry</br>prediction: 0.298</br>age: 59.233333333340006</br></br>gender: male</br>class: 1st</br>embarked: Cherbourg</br>fare: 25.0</br>sibsp: 0.0</br>parch: 0.0</br>_original_yhat_: 0.30672467296984096</br>"
          ],
          [
           "</br>id: Henry</br>prediction: 0.298</br>age: 59.971666666673</br></br>gender: male</br>class: 1st</br>embarked: Cherbourg</br>fare: 25.0</br>sibsp: 0.0</br>parch: 0.0</br>_original_yhat_: 0.30672467296984096</br>"
          ],
          [
           "</br>id: Henry</br>prediction: 0.297</br>age: 60.710000000006005</br></br>gender: male</br>class: 1st</br>embarked: Cherbourg</br>fare: 25.0</br>sibsp: 0.0</br>parch: 0.0</br>_original_yhat_: 0.30672467296984096</br>"
          ],
          [
           "</br>id: Henry</br>prediction: 0.297</br>age: 61.448333333339</br></br>gender: male</br>class: 1st</br>embarked: Cherbourg</br>fare: 25.0</br>sibsp: 0.0</br>parch: 0.0</br>_original_yhat_: 0.30672467296984096</br>"
          ],
          [
           "</br>id: Henry</br>prediction: 0.296</br>age: 62.186666666672004</br></br>gender: male</br>class: 1st</br>embarked: Cherbourg</br>fare: 25.0</br>sibsp: 0.0</br>parch: 0.0</br>_original_yhat_: 0.30672467296984096</br>"
          ],
          [
           "</br>id: Henry</br>prediction: 0.293</br>age: 62.925000000005</br></br>gender: male</br>class: 1st</br>embarked: Cherbourg</br>fare: 25.0</br>sibsp: 0.0</br>parch: 0.0</br>_original_yhat_: 0.30672467296984096</br>"
          ],
          [
           "</br>id: Henry</br>prediction: 0.292</br>age: 63.663333333338</br></br>gender: male</br>class: 1st</br>embarked: Cherbourg</br>fare: 25.0</br>sibsp: 0.0</br>parch: 0.0</br>_original_yhat_: 0.30672467296984096</br>"
          ],
          [
           "</br>id: Henry</br>prediction: 0.292</br>age: 64.40166666667099</br></br>gender: male</br>class: 1st</br>embarked: Cherbourg</br>fare: 25.0</br>sibsp: 0.0</br>parch: 0.0</br>_original_yhat_: 0.30672467296984096</br>"
          ],
          [
           "</br>id: Henry</br>prediction: 0.29</br>age: 65.140000000004</br></br>gender: male</br>class: 1st</br>embarked: Cherbourg</br>fare: 25.0</br>sibsp: 0.0</br>parch: 0.0</br>_original_yhat_: 0.30672467296984096</br>"
          ],
          [
           "</br>id: Henry</br>prediction: 0.29</br>age: 65.878333333337</br></br>gender: male</br>class: 1st</br>embarked: Cherbourg</br>fare: 25.0</br>sibsp: 0.0</br>parch: 0.0</br>_original_yhat_: 0.30672467296984096</br>"
          ],
          [
           "</br>id: Henry</br>prediction: 0.29</br>age: 66.61666666667</br></br>gender: male</br>class: 1st</br>embarked: Cherbourg</br>fare: 25.0</br>sibsp: 0.0</br>parch: 0.0</br>_original_yhat_: 0.30672467296984096</br>"
          ],
          [
           "</br>id: Henry</br>prediction: 0.29</br>age: 67.355000000003</br></br>gender: male</br>class: 1st</br>embarked: Cherbourg</br>fare: 25.0</br>sibsp: 0.0</br>parch: 0.0</br>_original_yhat_: 0.30672467296984096</br>"
          ],
          [
           "</br>id: Henry</br>prediction: 0.29</br>age: 68.09333333333599</br></br>gender: male</br>class: 1st</br>embarked: Cherbourg</br>fare: 25.0</br>sibsp: 0.0</br>parch: 0.0</br>_original_yhat_: 0.30672467296984096</br>"
          ],
          [
           "</br>id: Henry</br>prediction: 0.29</br>age: 68.831666666669</br></br>gender: male</br>class: 1st</br>embarked: Cherbourg</br>fare: 25.0</br>sibsp: 0.0</br>parch: 0.0</br>_original_yhat_: 0.30672467296984096</br>"
          ],
          [
           "</br>id: Henry</br>prediction: 0.29</br>age: 69.570000000002</br></br>gender: male</br>class: 1st</br>embarked: Cherbourg</br>fare: 25.0</br>sibsp: 0.0</br>parch: 0.0</br>_original_yhat_: 0.30672467296984096</br>"
          ],
          [
           "</br>id: Henry</br>prediction: 0.29</br>age: 70.308333333335</br></br>gender: male</br>class: 1st</br>embarked: Cherbourg</br>fare: 25.0</br>sibsp: 0.0</br>parch: 0.0</br>_original_yhat_: 0.30672467296984096</br>"
          ],
          [
           "</br>id: Henry</br>prediction: 0.29</br>age: 71.04666666666799</br></br>gender: male</br>class: 1st</br>embarked: Cherbourg</br>fare: 25.0</br>sibsp: 0.0</br>parch: 0.0</br>_original_yhat_: 0.30672467296984096</br>"
          ],
          [
           "</br>id: Henry</br>prediction: 0.29</br>age: 71.78500000000099</br></br>gender: male</br>class: 1st</br>embarked: Cherbourg</br>fare: 25.0</br>sibsp: 0.0</br>parch: 0.0</br>_original_yhat_: 0.30672467296984096</br>"
          ],
          [
           "</br>id: Henry</br>prediction: 0.29</br>age: 72.523333333334</br></br>gender: male</br>class: 1st</br>embarked: Cherbourg</br>fare: 25.0</br>sibsp: 0.0</br>parch: 0.0</br>_original_yhat_: 0.30672467296984096</br>"
          ],
          [
           "</br>id: Henry</br>prediction: 0.29</br>age: 73.261666666667</br></br>gender: male</br>class: 1st</br>embarked: Cherbourg</br>fare: 25.0</br>sibsp: 0.0</br>parch: 0.0</br>_original_yhat_: 0.30672467296984096</br>"
          ],
          [
           "</br>id: Henry</br>prediction: 0.29</br>age: 74.0</br></br>gender: male</br>class: 1st</br>embarked: Cherbourg</br>fare: 25.0</br>sibsp: 0.0</br>parch: 0.0</br>_original_yhat_: 0.30672467296984096</br>"
          ]
         ],
         "hovertemplate": "%{customdata[0]}<extra></extra>",
         "legendgroup": "Titanic RF Pipeline",
         "line": {
          "color": "#8bdcbe",
          "dash": "solid",
          "width": 2
         },
         "marker": {
          "symbol": "circle"
         },
         "mode": "lines",
         "name": "Titanic RF Pipeline",
         "opacity": 1,
         "orientation": "v",
         "showlegend": true,
         "type": "scatter",
         "x": [
          0.1666666667,
          0.905000000033,
          1.643333333366,
          2.3816666666989996,
          3.120000000032,
          3.858333333365,
          4.596666666698,
          5.335000000031,
          6.073333333364,
          6.8116666666970005,
          7.550000000030001,
          8.288333333363,
          9.026666666695998,
          9.765000000029,
          10.503333333361999,
          11.241666666695,
          11.980000000028,
          12.718333333360999,
          13.456666666694,
          14.195000000027,
          14.93333333336,
          15.671666666693,
          16.410000000026,
          17.148333333359,
          17.886666666691998,
          18.625000000025,
          19.363333333358,
          20.101666666691,
          20.840000000024,
          21.578333333356998,
          22.31666666669,
          23.055000000023,
          23.793333333356,
          24.531666666689,
          25.270000000021998,
          26.008333333355,
          26.746666666688,
          27.485000000021,
          28.223333333354,
          28.961666666686998,
          29.70000000002,
          30.438333333353,
          31.176666666686,
          31.915000000019,
          32.653333333352,
          33.391666666685005,
          34.130000000018,
          34.868333333351,
          35.606666666684,
          36.345000000017,
          37.083333333350005,
          37.821666666683,
          38.560000000016004,
          39.298333333349,
          40.036666666682,
          40.775000000015005,
          41.513333333348,
          42.251666666681004,
          42.990000000014,
          43.728333333347,
          44.466666666680005,
          45.205000000013,
          45.943333333346004,
          46.681666666679,
          47,
          47.420000000012,
          48.158333333345006,
          48.896666666678,
          49.635000000011004,
          50.373333333344,
          51.111666666677,
          51.850000000010006,
          52.588333333343,
          53.326666666676005,
          54.065000000009,
          54.803333333342,
          55.541666666675006,
          56.280000000008,
          57.018333333341005,
          57.756666666674,
          58.495000000007,
          59.233333333340006,
          59.971666666673,
          60.710000000006005,
          61.448333333339,
          62.186666666672004,
          62.925000000005,
          63.663333333338,
          64.40166666667099,
          65.140000000004,
          65.878333333337,
          66.61666666667,
          67.355000000003,
          68.09333333333599,
          68.831666666669,
          69.570000000002,
          70.308333333335,
          71.04666666666799,
          71.78500000000099,
          72.523333333334,
          73.261666666667,
          74
         ],
         "xaxis": "x",
         "y": [
          0.4414839426395087,
          0.4458783442830629,
          0.4449293646912262,
          0.4449293646912262,
          0.4449293646912262,
          0.44087068029020005,
          0.40826500138018595,
          0.40826500138018595,
          0.4056963876978794,
          0.39383460425982186,
          0.3923660727912904,
          0.3923660727912904,
          0.38587581291849704,
          0.35929849675621217,
          0.3569944307730299,
          0.3569944307730299,
          0.3569944307730299,
          0.3557551205874728,
          0.3557551205874728,
          0.34011583280599683,
          0.3320685234043574,
          0.32514038344844925,
          0.32514038344844925,
          0.3243716336423271,
          0.3228829972786907,
          0.3228829972786907,
          0.3228829972786907,
          0.32312644440070776,
          0.32146953838050735,
          0.3203638565623255,
          0.3203638565623255,
          0.3203638565623255,
          0.3203638565623255,
          0.31991894513366514,
          0.31991894513366514,
          0.31946417403603694,
          0.31845962858149146,
          0.31845962858149146,
          0.3170523030465064,
          0.3170523030465064,
          0.31608995531671674,
          0.31608995531671674,
          0.31608995531671674,
          0.31608995531671674,
          0.31608995531671674,
          0.31608995531671674,
          0.31608995531671674,
          0.31608995531671674,
          0.311472444830306,
          0.311472444830306,
          0.3088448462609575,
          0.3088448462609575,
          0.3081702603100723,
          0.3081702603100723,
          0.3070831635358787,
          0.3070831635358787,
          0.3070831635358787,
          0.3070831635358787,
          0.3070831635358787,
          0.3070831635358787,
          0.3070831635358787,
          0.3070831635358787,
          0.30672467296984096,
          0.30672467296984096,
          0.30672467296984096,
          0.30672467296984096,
          0.30672467296984096,
          0.30672467296984096,
          0.30612151874281,
          0.30612151874281,
          0.30612151874281,
          0.30612151874281,
          0.30612151874281,
          0.3054626952133982,
          0.3050853602196249,
          0.29872772097113875,
          0.29764753140657424,
          0.29764753140657424,
          0.29764753140657424,
          0.29764753140657424,
          0.29764753140657424,
          0.29764753140657424,
          0.29764753140657424,
          0.29666116777021057,
          0.29666116777021057,
          0.2959083899924328,
          0.29327515935257964,
          0.2918233075007279,
          0.2918233075007279,
          0.29032690462303007,
          0.29032690462303007,
          0.29032690462303007,
          0.29032690462303007,
          0.29032690462303007,
          0.29032690462303007,
          0.29032690462303007,
          0.29032690462303007,
          0.29032690462303007,
          0.29032690462303007,
          0.29032690462303007,
          0.29032690462303007,
          0.29032690462303007
         ],
         "yaxis": "y"
        },
        {
         "customdata": [
          [
           "</br>id: Henry</br>prediction: 0.293</br>fare: 0.0</br></br>gender: male</br>age: 47.0</br>class: 1st</br>embarked: Cherbourg</br>sibsp: 0.0</br>parch: 0.0</br>_original_yhat_: 0.30672467296984096</br>"
          ],
          [
           "</br>id: Henry</br>prediction: 0.293</br>fare: 5.120607</br></br>gender: male</br>age: 47.0</br>class: 1st</br>embarked: Cherbourg</br>sibsp: 0.0</br>parch: 0.0</br>_original_yhat_: 0.30672467296984096</br>"
          ],
          [
           "</br>id: Henry</br>prediction: 0.295</br>fare: 10.241214</br></br>gender: male</br>age: 47.0</br>class: 1st</br>embarked: Cherbourg</br>sibsp: 0.0</br>parch: 0.0</br>_original_yhat_: 0.30672467296984096</br>"
          ],
          [
           "</br>id: Henry</br>prediction: 0.307</br>fare: 15.361820999999999</br></br>gender: male</br>age: 47.0</br>class: 1st</br>embarked: Cherbourg</br>sibsp: 0.0</br>parch: 0.0</br>_original_yhat_: 0.30672467296984096</br>"
          ],
          [
           "</br>id: Henry</br>prediction: 0.307</br>fare: 20.482428</br></br>gender: male</br>age: 47.0</br>class: 1st</br>embarked: Cherbourg</br>sibsp: 0.0</br>parch: 0.0</br>_original_yhat_: 0.30672467296984096</br>"
          ],
          [
           "</br>id: Henry</br>prediction: 0.307</br>fare: 25.0</br></br>gender: male</br>age: 47.0</br>class: 1st</br>embarked: Cherbourg</br>sibsp: 0.0</br>parch: 0.0</br>_original_yhat_: 0.30672467296984096</br>"
          ],
          [
           "</br>id: Henry</br>prediction: 0.307</br>fare: 25.603035</br></br>gender: male</br>age: 47.0</br>class: 1st</br>embarked: Cherbourg</br>sibsp: 0.0</br>parch: 0.0</br>_original_yhat_: 0.30672467296984096</br>"
          ],
          [
           "</br>id: Henry</br>prediction: 0.321</br>fare: 30.723641999999998</br></br>gender: male</br>age: 47.0</br>class: 1st</br>embarked: Cherbourg</br>sibsp: 0.0</br>parch: 0.0</br>_original_yhat_: 0.30672467296984096</br>"
          ],
          [
           "</br>id: Henry</br>prediction: 0.322</br>fare: 35.844249</br></br>gender: male</br>age: 47.0</br>class: 1st</br>embarked: Cherbourg</br>sibsp: 0.0</br>parch: 0.0</br>_original_yhat_: 0.30672467296984096</br>"
          ],
          [
           "</br>id: Henry</br>prediction: 0.322</br>fare: 40.964856</br></br>gender: male</br>age: 47.0</br>class: 1st</br>embarked: Cherbourg</br>sibsp: 0.0</br>parch: 0.0</br>_original_yhat_: 0.30672467296984096</br>"
          ],
          [
           "</br>id: Henry</br>prediction: 0.322</br>fare: 46.085463</br></br>gender: male</br>age: 47.0</br>class: 1st</br>embarked: Cherbourg</br>sibsp: 0.0</br>parch: 0.0</br>_original_yhat_: 0.30672467296984096</br>"
          ],
          [
           "</br>id: Henry</br>prediction: 0.327</br>fare: 51.20607</br></br>gender: male</br>age: 47.0</br>class: 1st</br>embarked: Cherbourg</br>sibsp: 0.0</br>parch: 0.0</br>_original_yhat_: 0.30672467296984096</br>"
          ],
          [
           "</br>id: Henry</br>prediction: 0.348</br>fare: 56.326677</br></br>gender: male</br>age: 47.0</br>class: 1st</br>embarked: Cherbourg</br>sibsp: 0.0</br>parch: 0.0</br>_original_yhat_: 0.30672467296984096</br>"
          ],
          [
           "</br>id: Henry</br>prediction: 0.345</br>fare: 61.447283999999996</br></br>gender: male</br>age: 47.0</br>class: 1st</br>embarked: Cherbourg</br>sibsp: 0.0</br>parch: 0.0</br>_original_yhat_: 0.30672467296984096</br>"
          ],
          [
           "</br>id: Henry</br>prediction: 0.345</br>fare: 66.567891</br></br>gender: male</br>age: 47.0</br>class: 1st</br>embarked: Cherbourg</br>sibsp: 0.0</br>parch: 0.0</br>_original_yhat_: 0.30672467296984096</br>"
          ],
          [
           "</br>id: Henry</br>prediction: 0.345</br>fare: 71.688498</br></br>gender: male</br>age: 47.0</br>class: 1st</br>embarked: Cherbourg</br>sibsp: 0.0</br>parch: 0.0</br>_original_yhat_: 0.30672467296984096</br>"
          ],
          [
           "</br>id: Henry</br>prediction: 0.347</br>fare: 76.80910499999999</br></br>gender: male</br>age: 47.0</br>class: 1st</br>embarked: Cherbourg</br>sibsp: 0.0</br>parch: 0.0</br>_original_yhat_: 0.30672467296984096</br>"
          ],
          [
           "</br>id: Henry</br>prediction: 0.348</br>fare: 81.929712</br></br>gender: male</br>age: 47.0</br>class: 1st</br>embarked: Cherbourg</br>sibsp: 0.0</br>parch: 0.0</br>_original_yhat_: 0.30672467296984096</br>"
          ],
          [
           "</br>id: Henry</br>prediction: 0.348</br>fare: 87.050319</br></br>gender: male</br>age: 47.0</br>class: 1st</br>embarked: Cherbourg</br>sibsp: 0.0</br>parch: 0.0</br>_original_yhat_: 0.30672467296984096</br>"
          ],
          [
           "</br>id: Henry</br>prediction: 0.35</br>fare: 92.170926</br></br>gender: male</br>age: 47.0</br>class: 1st</br>embarked: Cherbourg</br>sibsp: 0.0</br>parch: 0.0</br>_original_yhat_: 0.30672467296984096</br>"
          ],
          [
           "</br>id: Henry</br>prediction: 0.35</br>fare: 97.29153299999999</br></br>gender: male</br>age: 47.0</br>class: 1st</br>embarked: Cherbourg</br>sibsp: 0.0</br>parch: 0.0</br>_original_yhat_: 0.30672467296984096</br>"
          ],
          [
           "</br>id: Henry</br>prediction: 0.35</br>fare: 102.41214</br></br>gender: male</br>age: 47.0</br>class: 1st</br>embarked: Cherbourg</br>sibsp: 0.0</br>parch: 0.0</br>_original_yhat_: 0.30672467296984096</br>"
          ],
          [
           "</br>id: Henry</br>prediction: 0.35</br>fare: 107.532747</br></br>gender: male</br>age: 47.0</br>class: 1st</br>embarked: Cherbourg</br>sibsp: 0.0</br>parch: 0.0</br>_original_yhat_: 0.30672467296984096</br>"
          ],
          [
           "</br>id: Henry</br>prediction: 0.35</br>fare: 112.653354</br></br>gender: male</br>age: 47.0</br>class: 1st</br>embarked: Cherbourg</br>sibsp: 0.0</br>parch: 0.0</br>_original_yhat_: 0.30672467296984096</br>"
          ],
          [
           "</br>id: Henry</br>prediction: 0.35</br>fare: 117.77396099999999</br></br>gender: male</br>age: 47.0</br>class: 1st</br>embarked: Cherbourg</br>sibsp: 0.0</br>parch: 0.0</br>_original_yhat_: 0.30672467296984096</br>"
          ],
          [
           "</br>id: Henry</br>prediction: 0.35</br>fare: 122.89456799999999</br></br>gender: male</br>age: 47.0</br>class: 1st</br>embarked: Cherbourg</br>sibsp: 0.0</br>parch: 0.0</br>_original_yhat_: 0.30672467296984096</br>"
          ],
          [
           "</br>id: Henry</br>prediction: 0.35</br>fare: 128.015175</br></br>gender: male</br>age: 47.0</br>class: 1st</br>embarked: Cherbourg</br>sibsp: 0.0</br>parch: 0.0</br>_original_yhat_: 0.30672467296984096</br>"
          ],
          [
           "</br>id: Henry</br>prediction: 0.35</br>fare: 133.135782</br></br>gender: male</br>age: 47.0</br>class: 1st</br>embarked: Cherbourg</br>sibsp: 0.0</br>parch: 0.0</br>_original_yhat_: 0.30672467296984096</br>"
          ],
          [
           "</br>id: Henry</br>prediction: 0.35</br>fare: 138.25638899999998</br></br>gender: male</br>age: 47.0</br>class: 1st</br>embarked: Cherbourg</br>sibsp: 0.0</br>parch: 0.0</br>_original_yhat_: 0.30672467296984096</br>"
          ],
          [
           "</br>id: Henry</br>prediction: 0.35</br>fare: 143.376996</br></br>gender: male</br>age: 47.0</br>class: 1st</br>embarked: Cherbourg</br>sibsp: 0.0</br>parch: 0.0</br>_original_yhat_: 0.30672467296984096</br>"
          ],
          [
           "</br>id: Henry</br>prediction: 0.35</br>fare: 148.497603</br></br>gender: male</br>age: 47.0</br>class: 1st</br>embarked: Cherbourg</br>sibsp: 0.0</br>parch: 0.0</br>_original_yhat_: 0.30672467296984096</br>"
          ],
          [
           "</br>id: Henry</br>prediction: 0.35</br>fare: 153.61820999999998</br></br>gender: male</br>age: 47.0</br>class: 1st</br>embarked: Cherbourg</br>sibsp: 0.0</br>parch: 0.0</br>_original_yhat_: 0.30672467296984096</br>"
          ],
          [
           "</br>id: Henry</br>prediction: 0.349</br>fare: 158.73881699999998</br></br>gender: male</br>age: 47.0</br>class: 1st</br>embarked: Cherbourg</br>sibsp: 0.0</br>parch: 0.0</br>_original_yhat_: 0.30672467296984096</br>"
          ],
          [
           "</br>id: Henry</br>prediction: 0.349</br>fare: 163.859424</br></br>gender: male</br>age: 47.0</br>class: 1st</br>embarked: Cherbourg</br>sibsp: 0.0</br>parch: 0.0</br>_original_yhat_: 0.30672467296984096</br>"
          ],
          [
           "</br>id: Henry</br>prediction: 0.349</br>fare: 168.980031</br></br>gender: male</br>age: 47.0</br>class: 1st</br>embarked: Cherbourg</br>sibsp: 0.0</br>parch: 0.0</br>_original_yhat_: 0.30672467296984096</br>"
          ],
          [
           "</br>id: Henry</br>prediction: 0.349</br>fare: 174.100638</br></br>gender: male</br>age: 47.0</br>class: 1st</br>embarked: Cherbourg</br>sibsp: 0.0</br>parch: 0.0</br>_original_yhat_: 0.30672467296984096</br>"
          ],
          [
           "</br>id: Henry</br>prediction: 0.349</br>fare: 179.22124499999998</br></br>gender: male</br>age: 47.0</br>class: 1st</br>embarked: Cherbourg</br>sibsp: 0.0</br>parch: 0.0</br>_original_yhat_: 0.30672467296984096</br>"
          ],
          [
           "</br>id: Henry</br>prediction: 0.349</br>fare: 184.341852</br></br>gender: male</br>age: 47.0</br>class: 1st</br>embarked: Cherbourg</br>sibsp: 0.0</br>parch: 0.0</br>_original_yhat_: 0.30672467296984096</br>"
          ],
          [
           "</br>id: Henry</br>prediction: 0.349</br>fare: 189.462459</br></br>gender: male</br>age: 47.0</br>class: 1st</br>embarked: Cherbourg</br>sibsp: 0.0</br>parch: 0.0</br>_original_yhat_: 0.30672467296984096</br>"
          ],
          [
           "</br>id: Henry</br>prediction: 0.349</br>fare: 194.58306599999997</br></br>gender: male</br>age: 47.0</br>class: 1st</br>embarked: Cherbourg</br>sibsp: 0.0</br>parch: 0.0</br>_original_yhat_: 0.30672467296984096</br>"
          ],
          [
           "</br>id: Henry</br>prediction: 0.349</br>fare: 199.70367299999998</br></br>gender: male</br>age: 47.0</br>class: 1st</br>embarked: Cherbourg</br>sibsp: 0.0</br>parch: 0.0</br>_original_yhat_: 0.30672467296984096</br>"
          ],
          [
           "</br>id: Henry</br>prediction: 0.349</br>fare: 204.82428</br></br>gender: male</br>age: 47.0</br>class: 1st</br>embarked: Cherbourg</br>sibsp: 0.0</br>parch: 0.0</br>_original_yhat_: 0.30672467296984096</br>"
          ],
          [
           "</br>id: Henry</br>prediction: 0.349</br>fare: 209.944887</br></br>gender: male</br>age: 47.0</br>class: 1st</br>embarked: Cherbourg</br>sibsp: 0.0</br>parch: 0.0</br>_original_yhat_: 0.30672467296984096</br>"
          ],
          [
           "</br>id: Henry</br>prediction: 0.349</br>fare: 215.065494</br></br>gender: male</br>age: 47.0</br>class: 1st</br>embarked: Cherbourg</br>sibsp: 0.0</br>parch: 0.0</br>_original_yhat_: 0.30672467296984096</br>"
          ],
          [
           "</br>id: Henry</br>prediction: 0.349</br>fare: 220.18610099999998</br></br>gender: male</br>age: 47.0</br>class: 1st</br>embarked: Cherbourg</br>sibsp: 0.0</br>parch: 0.0</br>_original_yhat_: 0.30672467296984096</br>"
          ],
          [
           "</br>id: Henry</br>prediction: 0.349</br>fare: 225.306708</br></br>gender: male</br>age: 47.0</br>class: 1st</br>embarked: Cherbourg</br>sibsp: 0.0</br>parch: 0.0</br>_original_yhat_: 0.30672467296984096</br>"
          ],
          [
           "</br>id: Henry</br>prediction: 0.349</br>fare: 230.427315</br></br>gender: male</br>age: 47.0</br>class: 1st</br>embarked: Cherbourg</br>sibsp: 0.0</br>parch: 0.0</br>_original_yhat_: 0.30672467296984096</br>"
          ],
          [
           "</br>id: Henry</br>prediction: 0.349</br>fare: 235.54792199999997</br></br>gender: male</br>age: 47.0</br>class: 1st</br>embarked: Cherbourg</br>sibsp: 0.0</br>parch: 0.0</br>_original_yhat_: 0.30672467296984096</br>"
          ],
          [
           "</br>id: Henry</br>prediction: 0.349</br>fare: 240.66852899999998</br></br>gender: male</br>age: 47.0</br>class: 1st</br>embarked: Cherbourg</br>sibsp: 0.0</br>parch: 0.0</br>_original_yhat_: 0.30672467296984096</br>"
          ],
          [
           "</br>id: Henry</br>prediction: 0.349</br>fare: 245.78913599999998</br></br>gender: male</br>age: 47.0</br>class: 1st</br>embarked: Cherbourg</br>sibsp: 0.0</br>parch: 0.0</br>_original_yhat_: 0.30672467296984096</br>"
          ],
          [
           "</br>id: Henry</br>prediction: 0.349</br>fare: 250.909743</br></br>gender: male</br>age: 47.0</br>class: 1st</br>embarked: Cherbourg</br>sibsp: 0.0</br>parch: 0.0</br>_original_yhat_: 0.30672467296984096</br>"
          ],
          [
           "</br>id: Henry</br>prediction: 0.35</br>fare: 256.03035</br></br>gender: male</br>age: 47.0</br>class: 1st</br>embarked: Cherbourg</br>sibsp: 0.0</br>parch: 0.0</br>_original_yhat_: 0.30672467296984096</br>"
          ],
          [
           "</br>id: Henry</br>prediction: 0.35</br>fare: 261.150957</br></br>gender: male</br>age: 47.0</br>class: 1st</br>embarked: Cherbourg</br>sibsp: 0.0</br>parch: 0.0</br>_original_yhat_: 0.30672467296984096</br>"
          ],
          [
           "</br>id: Henry</br>prediction: 0.35</br>fare: 266.271564</br></br>gender: male</br>age: 47.0</br>class: 1st</br>embarked: Cherbourg</br>sibsp: 0.0</br>parch: 0.0</br>_original_yhat_: 0.30672467296984096</br>"
          ],
          [
           "</br>id: Henry</br>prediction: 0.35</br>fare: 271.39217099999996</br></br>gender: male</br>age: 47.0</br>class: 1st</br>embarked: Cherbourg</br>sibsp: 0.0</br>parch: 0.0</br>_original_yhat_: 0.30672467296984096</br>"
          ],
          [
           "</br>id: Henry</br>prediction: 0.35</br>fare: 276.51277799999997</br></br>gender: male</br>age: 47.0</br>class: 1st</br>embarked: Cherbourg</br>sibsp: 0.0</br>parch: 0.0</br>_original_yhat_: 0.30672467296984096</br>"
          ],
          [
           "</br>id: Henry</br>prediction: 0.35</br>fare: 281.633385</br></br>gender: male</br>age: 47.0</br>class: 1st</br>embarked: Cherbourg</br>sibsp: 0.0</br>parch: 0.0</br>_original_yhat_: 0.30672467296984096</br>"
          ],
          [
           "</br>id: Henry</br>prediction: 0.35</br>fare: 286.753992</br></br>gender: male</br>age: 47.0</br>class: 1st</br>embarked: Cherbourg</br>sibsp: 0.0</br>parch: 0.0</br>_original_yhat_: 0.30672467296984096</br>"
          ],
          [
           "</br>id: Henry</br>prediction: 0.35</br>fare: 291.874599</br></br>gender: male</br>age: 47.0</br>class: 1st</br>embarked: Cherbourg</br>sibsp: 0.0</br>parch: 0.0</br>_original_yhat_: 0.30672467296984096</br>"
          ],
          [
           "</br>id: Henry</br>prediction: 0.35</br>fare: 296.995206</br></br>gender: male</br>age: 47.0</br>class: 1st</br>embarked: Cherbourg</br>sibsp: 0.0</br>parch: 0.0</br>_original_yhat_: 0.30672467296984096</br>"
          ],
          [
           "</br>id: Henry</br>prediction: 0.35</br>fare: 302.115813</br></br>gender: male</br>age: 47.0</br>class: 1st</br>embarked: Cherbourg</br>sibsp: 0.0</br>parch: 0.0</br>_original_yhat_: 0.30672467296984096</br>"
          ],
          [
           "</br>id: Henry</br>prediction: 0.35</br>fare: 307.23641999999995</br></br>gender: male</br>age: 47.0</br>class: 1st</br>embarked: Cherbourg</br>sibsp: 0.0</br>parch: 0.0</br>_original_yhat_: 0.30672467296984096</br>"
          ],
          [
           "</br>id: Henry</br>prediction: 0.35</br>fare: 312.35702699999996</br></br>gender: male</br>age: 47.0</br>class: 1st</br>embarked: Cherbourg</br>sibsp: 0.0</br>parch: 0.0</br>_original_yhat_: 0.30672467296984096</br>"
          ],
          [
           "</br>id: Henry</br>prediction: 0.35</br>fare: 317.47763399999997</br></br>gender: male</br>age: 47.0</br>class: 1st</br>embarked: Cherbourg</br>sibsp: 0.0</br>parch: 0.0</br>_original_yhat_: 0.30672467296984096</br>"
          ],
          [
           "</br>id: Henry</br>prediction: 0.35</br>fare: 322.598241</br></br>gender: male</br>age: 47.0</br>class: 1st</br>embarked: Cherbourg</br>sibsp: 0.0</br>parch: 0.0</br>_original_yhat_: 0.30672467296984096</br>"
          ],
          [
           "</br>id: Henry</br>prediction: 0.35</br>fare: 327.718848</br></br>gender: male</br>age: 47.0</br>class: 1st</br>embarked: Cherbourg</br>sibsp: 0.0</br>parch: 0.0</br>_original_yhat_: 0.30672467296984096</br>"
          ],
          [
           "</br>id: Henry</br>prediction: 0.35</br>fare: 332.839455</br></br>gender: male</br>age: 47.0</br>class: 1st</br>embarked: Cherbourg</br>sibsp: 0.0</br>parch: 0.0</br>_original_yhat_: 0.30672467296984096</br>"
          ],
          [
           "</br>id: Henry</br>prediction: 0.35</br>fare: 337.960062</br></br>gender: male</br>age: 47.0</br>class: 1st</br>embarked: Cherbourg</br>sibsp: 0.0</br>parch: 0.0</br>_original_yhat_: 0.30672467296984096</br>"
          ],
          [
           "</br>id: Henry</br>prediction: 0.35</br>fare: 343.080669</br></br>gender: male</br>age: 47.0</br>class: 1st</br>embarked: Cherbourg</br>sibsp: 0.0</br>parch: 0.0</br>_original_yhat_: 0.30672467296984096</br>"
          ],
          [
           "</br>id: Henry</br>prediction: 0.35</br>fare: 348.201276</br></br>gender: male</br>age: 47.0</br>class: 1st</br>embarked: Cherbourg</br>sibsp: 0.0</br>parch: 0.0</br>_original_yhat_: 0.30672467296984096</br>"
          ],
          [
           "</br>id: Henry</br>prediction: 0.35</br>fare: 353.32188299999996</br></br>gender: male</br>age: 47.0</br>class: 1st</br>embarked: Cherbourg</br>sibsp: 0.0</br>parch: 0.0</br>_original_yhat_: 0.30672467296984096</br>"
          ],
          [
           "</br>id: Henry</br>prediction: 0.35</br>fare: 358.44248999999996</br></br>gender: male</br>age: 47.0</br>class: 1st</br>embarked: Cherbourg</br>sibsp: 0.0</br>parch: 0.0</br>_original_yhat_: 0.30672467296984096</br>"
          ],
          [
           "</br>id: Henry</br>prediction: 0.35</br>fare: 363.56309699999997</br></br>gender: male</br>age: 47.0</br>class: 1st</br>embarked: Cherbourg</br>sibsp: 0.0</br>parch: 0.0</br>_original_yhat_: 0.30672467296984096</br>"
          ],
          [
           "</br>id: Henry</br>prediction: 0.35</br>fare: 368.683704</br></br>gender: male</br>age: 47.0</br>class: 1st</br>embarked: Cherbourg</br>sibsp: 0.0</br>parch: 0.0</br>_original_yhat_: 0.30672467296984096</br>"
          ],
          [
           "</br>id: Henry</br>prediction: 0.35</br>fare: 373.804311</br></br>gender: male</br>age: 47.0</br>class: 1st</br>embarked: Cherbourg</br>sibsp: 0.0</br>parch: 0.0</br>_original_yhat_: 0.30672467296984096</br>"
          ],
          [
           "</br>id: Henry</br>prediction: 0.35</br>fare: 378.924918</br></br>gender: male</br>age: 47.0</br>class: 1st</br>embarked: Cherbourg</br>sibsp: 0.0</br>parch: 0.0</br>_original_yhat_: 0.30672467296984096</br>"
          ],
          [
           "</br>id: Henry</br>prediction: 0.35</br>fare: 384.045525</br></br>gender: male</br>age: 47.0</br>class: 1st</br>embarked: Cherbourg</br>sibsp: 0.0</br>parch: 0.0</br>_original_yhat_: 0.30672467296984096</br>"
          ],
          [
           "</br>id: Henry</br>prediction: 0.364</br>fare: 389.16613199999995</br></br>gender: male</br>age: 47.0</br>class: 1st</br>embarked: Cherbourg</br>sibsp: 0.0</br>parch: 0.0</br>_original_yhat_: 0.30672467296984096</br>"
          ],
          [
           "</br>id: Henry</br>prediction: 0.364</br>fare: 394.28673899999995</br></br>gender: male</br>age: 47.0</br>class: 1st</br>embarked: Cherbourg</br>sibsp: 0.0</br>parch: 0.0</br>_original_yhat_: 0.30672467296984096</br>"
          ],
          [
           "</br>id: Henry</br>prediction: 0.364</br>fare: 399.40734599999996</br></br>gender: male</br>age: 47.0</br>class: 1st</br>embarked: Cherbourg</br>sibsp: 0.0</br>parch: 0.0</br>_original_yhat_: 0.30672467296984096</br>"
          ],
          [
           "</br>id: Henry</br>prediction: 0.364</br>fare: 404.52795299999997</br></br>gender: male</br>age: 47.0</br>class: 1st</br>embarked: Cherbourg</br>sibsp: 0.0</br>parch: 0.0</br>_original_yhat_: 0.30672467296984096</br>"
          ],
          [
           "</br>id: Henry</br>prediction: 0.364</br>fare: 409.64856</br></br>gender: male</br>age: 47.0</br>class: 1st</br>embarked: Cherbourg</br>sibsp: 0.0</br>parch: 0.0</br>_original_yhat_: 0.30672467296984096</br>"
          ],
          [
           "</br>id: Henry</br>prediction: 0.364</br>fare: 414.769167</br></br>gender: male</br>age: 47.0</br>class: 1st</br>embarked: Cherbourg</br>sibsp: 0.0</br>parch: 0.0</br>_original_yhat_: 0.30672467296984096</br>"
          ],
          [
           "</br>id: Henry</br>prediction: 0.364</br>fare: 419.889774</br></br>gender: male</br>age: 47.0</br>class: 1st</br>embarked: Cherbourg</br>sibsp: 0.0</br>parch: 0.0</br>_original_yhat_: 0.30672467296984096</br>"
          ],
          [
           "</br>id: Henry</br>prediction: 0.364</br>fare: 425.010381</br></br>gender: male</br>age: 47.0</br>class: 1st</br>embarked: Cherbourg</br>sibsp: 0.0</br>parch: 0.0</br>_original_yhat_: 0.30672467296984096</br>"
          ],
          [
           "</br>id: Henry</br>prediction: 0.364</br>fare: 430.130988</br></br>gender: male</br>age: 47.0</br>class: 1st</br>embarked: Cherbourg</br>sibsp: 0.0</br>parch: 0.0</br>_original_yhat_: 0.30672467296984096</br>"
          ],
          [
           "</br>id: Henry</br>prediction: 0.364</br>fare: 435.25159499999995</br></br>gender: male</br>age: 47.0</br>class: 1st</br>embarked: Cherbourg</br>sibsp: 0.0</br>parch: 0.0</br>_original_yhat_: 0.30672467296984096</br>"
          ],
          [
           "</br>id: Henry</br>prediction: 0.364</br>fare: 440.37220199999996</br></br>gender: male</br>age: 47.0</br>class: 1st</br>embarked: Cherbourg</br>sibsp: 0.0</br>parch: 0.0</br>_original_yhat_: 0.30672467296984096</br>"
          ],
          [
           "</br>id: Henry</br>prediction: 0.364</br>fare: 445.49280899999997</br></br>gender: male</br>age: 47.0</br>class: 1st</br>embarked: Cherbourg</br>sibsp: 0.0</br>parch: 0.0</br>_original_yhat_: 0.30672467296984096</br>"
          ],
          [
           "</br>id: Henry</br>prediction: 0.364</br>fare: 450.613416</br></br>gender: male</br>age: 47.0</br>class: 1st</br>embarked: Cherbourg</br>sibsp: 0.0</br>parch: 0.0</br>_original_yhat_: 0.30672467296984096</br>"
          ],
          [
           "</br>id: Henry</br>prediction: 0.364</br>fare: 455.734023</br></br>gender: male</br>age: 47.0</br>class: 1st</br>embarked: Cherbourg</br>sibsp: 0.0</br>parch: 0.0</br>_original_yhat_: 0.30672467296984096</br>"
          ],
          [
           "</br>id: Henry</br>prediction: 0.364</br>fare: 460.85463</br></br>gender: male</br>age: 47.0</br>class: 1st</br>embarked: Cherbourg</br>sibsp: 0.0</br>parch: 0.0</br>_original_yhat_: 0.30672467296984096</br>"
          ],
          [
           "</br>id: Henry</br>prediction: 0.364</br>fare: 465.975237</br></br>gender: male</br>age: 47.0</br>class: 1st</br>embarked: Cherbourg</br>sibsp: 0.0</br>parch: 0.0</br>_original_yhat_: 0.30672467296984096</br>"
          ],
          [
           "</br>id: Henry</br>prediction: 0.364</br>fare: 471.09584399999994</br></br>gender: male</br>age: 47.0</br>class: 1st</br>embarked: Cherbourg</br>sibsp: 0.0</br>parch: 0.0</br>_original_yhat_: 0.30672467296984096</br>"
          ],
          [
           "</br>id: Henry</br>prediction: 0.364</br>fare: 476.21645099999995</br></br>gender: male</br>age: 47.0</br>class: 1st</br>embarked: Cherbourg</br>sibsp: 0.0</br>parch: 0.0</br>_original_yhat_: 0.30672467296984096</br>"
          ],
          [
           "</br>id: Henry</br>prediction: 0.364</br>fare: 481.33705799999996</br></br>gender: male</br>age: 47.0</br>class: 1st</br>embarked: Cherbourg</br>sibsp: 0.0</br>parch: 0.0</br>_original_yhat_: 0.30672467296984096</br>"
          ],
          [
           "</br>id: Henry</br>prediction: 0.364</br>fare: 486.45766499999996</br></br>gender: male</br>age: 47.0</br>class: 1st</br>embarked: Cherbourg</br>sibsp: 0.0</br>parch: 0.0</br>_original_yhat_: 0.30672467296984096</br>"
          ],
          [
           "</br>id: Henry</br>prediction: 0.364</br>fare: 491.57827199999997</br></br>gender: male</br>age: 47.0</br>class: 1st</br>embarked: Cherbourg</br>sibsp: 0.0</br>parch: 0.0</br>_original_yhat_: 0.30672467296984096</br>"
          ],
          [
           "</br>id: Henry</br>prediction: 0.364</br>fare: 496.698879</br></br>gender: male</br>age: 47.0</br>class: 1st</br>embarked: Cherbourg</br>sibsp: 0.0</br>parch: 0.0</br>_original_yhat_: 0.30672467296984096</br>"
          ],
          [
           "</br>id: Henry</br>prediction: 0.364</br>fare: 501.819486</br></br>gender: male</br>age: 47.0</br>class: 1st</br>embarked: Cherbourg</br>sibsp: 0.0</br>parch: 0.0</br>_original_yhat_: 0.30672467296984096</br>"
          ],
          [
           "</br>id: Henry</br>prediction: 0.364</br>fare: 506.940093</br></br>gender: male</br>age: 47.0</br>class: 1st</br>embarked: Cherbourg</br>sibsp: 0.0</br>parch: 0.0</br>_original_yhat_: 0.30672467296984096</br>"
          ],
          [
           "</br>id: Henry</br>prediction: 0.364</br>fare: 512.0607</br></br>gender: male</br>age: 47.0</br>class: 1st</br>embarked: Cherbourg</br>sibsp: 0.0</br>parch: 0.0</br>_original_yhat_: 0.30672467296984096</br>"
          ]
         ],
         "hovertemplate": "%{customdata[0]}<extra></extra>",
         "legendgroup": "Titanic RF Pipeline",
         "line": {
          "color": "#8bdcbe",
          "dash": "solid",
          "width": 2
         },
         "marker": {
          "symbol": "circle"
         },
         "mode": "lines",
         "name": "Titanic RF Pipeline",
         "opacity": 1,
         "orientation": "v",
         "showlegend": false,
         "type": "scatter",
         "x": [
          0,
          5.120607,
          10.241214,
          15.361820999999999,
          20.482428,
          25,
          25.603035,
          30.723641999999998,
          35.844249,
          40.964856,
          46.085463,
          51.20607,
          56.326677,
          61.447283999999996,
          66.567891,
          71.688498,
          76.80910499999999,
          81.929712,
          87.050319,
          92.170926,
          97.29153299999999,
          102.41214,
          107.532747,
          112.653354,
          117.77396099999999,
          122.89456799999999,
          128.015175,
          133.135782,
          138.25638899999998,
          143.376996,
          148.497603,
          153.61820999999998,
          158.73881699999998,
          163.859424,
          168.980031,
          174.100638,
          179.22124499999998,
          184.341852,
          189.462459,
          194.58306599999997,
          199.70367299999998,
          204.82428,
          209.944887,
          215.065494,
          220.18610099999998,
          225.306708,
          230.427315,
          235.54792199999997,
          240.66852899999998,
          245.78913599999998,
          250.909743,
          256.03035,
          261.150957,
          266.271564,
          271.39217099999996,
          276.51277799999997,
          281.633385,
          286.753992,
          291.874599,
          296.995206,
          302.115813,
          307.23641999999995,
          312.35702699999996,
          317.47763399999997,
          322.598241,
          327.718848,
          332.839455,
          337.960062,
          343.080669,
          348.201276,
          353.32188299999996,
          358.44248999999996,
          363.56309699999997,
          368.683704,
          373.804311,
          378.924918,
          384.045525,
          389.16613199999995,
          394.28673899999995,
          399.40734599999996,
          404.52795299999997,
          409.64856,
          414.769167,
          419.889774,
          425.010381,
          430.130988,
          435.25159499999995,
          440.37220199999996,
          445.49280899999997,
          450.613416,
          455.734023,
          460.85463,
          465.975237,
          471.09584399999994,
          476.21645099999995,
          481.33705799999996,
          486.45766499999996,
          491.57827199999997,
          496.698879,
          501.819486,
          506.940093,
          512.0607
         ],
         "xaxis": "x2",
         "y": [
          0.2933115080443708,
          0.29266382603381214,
          0.29498822108049444,
          0.3065695023126836,
          0.3065695023126836,
          0.30672467296984096,
          0.3071074402222215,
          0.32102201842089595,
          0.32151877357215086,
          0.32228171102863834,
          0.32228171102863834,
          0.3274497934845122,
          0.34807866932497505,
          0.34533119998090683,
          0.34533119998090683,
          0.34533119998090683,
          0.34717710801229995,
          0.3480513189937094,
          0.3480513189937094,
          0.3496706170857899,
          0.3496706170857899,
          0.3496706170857899,
          0.3496706170857899,
          0.3504000314406996,
          0.3504000314406996,
          0.3504000314406996,
          0.3504000314406996,
          0.3504000314406996,
          0.3496813160475656,
          0.3496813160475656,
          0.3496813160475656,
          0.3496813160475656,
          0.34900144183372905,
          0.34900144183372905,
          0.34900144183372905,
          0.34900144183372905,
          0.34900144183372905,
          0.34900144183372905,
          0.34900144183372905,
          0.34900144183372905,
          0.34900144183372905,
          0.34900144183372905,
          0.34900144183372905,
          0.34900144183372905,
          0.34900144183372905,
          0.34900144183372905,
          0.34900144183372905,
          0.34939533919850024,
          0.34939533919850024,
          0.34939533919850024,
          0.34939533919850024,
          0.35008482637798743,
          0.35008482637798743,
          0.35008482637798743,
          0.35008482637798743,
          0.35008482637798743,
          0.35008482637798743,
          0.35008482637798743,
          0.35008482637798743,
          0.35008482637798743,
          0.35008482637798743,
          0.35008482637798743,
          0.35008482637798743,
          0.35008482637798743,
          0.35008482637798743,
          0.35008482637798743,
          0.35008482637798743,
          0.35008482637798743,
          0.35008482637798743,
          0.35008482637798743,
          0.35008482637798743,
          0.35008482637798743,
          0.35008482637798743,
          0.35008482637798743,
          0.35008482637798743,
          0.35008482637798743,
          0.35008482637798743,
          0.3639384168929174,
          0.3639384168929174,
          0.3639384168929174,
          0.3639384168929174,
          0.3639384168929174,
          0.3639384168929174,
          0.3639384168929174,
          0.3639384168929174,
          0.3639384168929174,
          0.3639384168929174,
          0.3639384168929174,
          0.3639384168929174,
          0.3639384168929174,
          0.3639384168929174,
          0.3639384168929174,
          0.3639384168929174,
          0.3639384168929174,
          0.3639384168929174,
          0.3639384168929174,
          0.3639384168929174,
          0.3639384168929174,
          0.3639384168929174,
          0.3639384168929174,
          0.3639384168929174,
          0.3639384168929174
         ],
         "yaxis": "y2"
        },
        {
         "customdata": [
          [
           "</br>id: Henry</br>prediction: 0.795</br>age: 0.1666666667</br></br>gender: male</br>class: 1st</br>embarked: Cherbourg</br>fare: 25.0</br>sibsp: 0.0</br>parch: 0.0</br>_original_yhat_: 0.432015785389703</br>"
          ],
          [
           "</br>id: Henry</br>prediction: 0.79</br>age: 0.905000000033</br></br>gender: male</br>class: 1st</br>embarked: Cherbourg</br>fare: 25.0</br>sibsp: 0.0</br>parch: 0.0</br>_original_yhat_: 0.432015785389703</br>"
          ],
          [
           "</br>id: Henry</br>prediction: 0.786</br>age: 1.643333333366</br></br>gender: male</br>class: 1st</br>embarked: Cherbourg</br>fare: 25.0</br>sibsp: 0.0</br>parch: 0.0</br>_original_yhat_: 0.432015785389703</br>"
          ],
          [
           "</br>id: Henry</br>prediction: 0.782</br>age: 2.3816666666989996</br></br>gender: male</br>class: 1st</br>embarked: Cherbourg</br>fare: 25.0</br>sibsp: 0.0</br>parch: 0.0</br>_original_yhat_: 0.432015785389703</br>"
          ],
          [
           "</br>id: Henry</br>prediction: 0.777</br>age: 3.120000000032</br></br>gender: male</br>class: 1st</br>embarked: Cherbourg</br>fare: 25.0</br>sibsp: 0.0</br>parch: 0.0</br>_original_yhat_: 0.432015785389703</br>"
          ],
          [
           "</br>id: Henry</br>prediction: 0.773</br>age: 3.858333333365</br></br>gender: male</br>class: 1st</br>embarked: Cherbourg</br>fare: 25.0</br>sibsp: 0.0</br>parch: 0.0</br>_original_yhat_: 0.432015785389703</br>"
          ],
          [
           "</br>id: Henry</br>prediction: 0.768</br>age: 4.596666666698</br></br>gender: male</br>class: 1st</br>embarked: Cherbourg</br>fare: 25.0</br>sibsp: 0.0</br>parch: 0.0</br>_original_yhat_: 0.432015785389703</br>"
          ],
          [
           "</br>id: Henry</br>prediction: 0.764</br>age: 5.335000000031</br></br>gender: male</br>class: 1st</br>embarked: Cherbourg</br>fare: 25.0</br>sibsp: 0.0</br>parch: 0.0</br>_original_yhat_: 0.432015785389703</br>"
          ],
          [
           "</br>id: Henry</br>prediction: 0.759</br>age: 6.073333333364</br></br>gender: male</br>class: 1st</br>embarked: Cherbourg</br>fare: 25.0</br>sibsp: 0.0</br>parch: 0.0</br>_original_yhat_: 0.432015785389703</br>"
          ],
          [
           "</br>id: Henry</br>prediction: 0.754</br>age: 6.8116666666970005</br></br>gender: male</br>class: 1st</br>embarked: Cherbourg</br>fare: 25.0</br>sibsp: 0.0</br>parch: 0.0</br>_original_yhat_: 0.432015785389703</br>"
          ],
          [
           "</br>id: Henry</br>prediction: 0.75</br>age: 7.550000000030001</br></br>gender: male</br>class: 1st</br>embarked: Cherbourg</br>fare: 25.0</br>sibsp: 0.0</br>parch: 0.0</br>_original_yhat_: 0.432015785389703</br>"
          ],
          [
           "</br>id: Henry</br>prediction: 0.745</br>age: 8.288333333363</br></br>gender: male</br>class: 1st</br>embarked: Cherbourg</br>fare: 25.0</br>sibsp: 0.0</br>parch: 0.0</br>_original_yhat_: 0.432015785389703</br>"
          ],
          [
           "</br>id: Henry</br>prediction: 0.74</br>age: 9.026666666695998</br></br>gender: male</br>class: 1st</br>embarked: Cherbourg</br>fare: 25.0</br>sibsp: 0.0</br>parch: 0.0</br>_original_yhat_: 0.432015785389703</br>"
          ],
          [
           "</br>id: Henry</br>prediction: 0.735</br>age: 9.765000000029</br></br>gender: male</br>class: 1st</br>embarked: Cherbourg</br>fare: 25.0</br>sibsp: 0.0</br>parch: 0.0</br>_original_yhat_: 0.432015785389703</br>"
          ],
          [
           "</br>id: Henry</br>prediction: 0.73</br>age: 10.503333333361999</br></br>gender: male</br>class: 1st</br>embarked: Cherbourg</br>fare: 25.0</br>sibsp: 0.0</br>parch: 0.0</br>_original_yhat_: 0.432015785389703</br>"
          ],
          [
           "</br>id: Henry</br>prediction: 0.725</br>age: 11.241666666695</br></br>gender: male</br>class: 1st</br>embarked: Cherbourg</br>fare: 25.0</br>sibsp: 0.0</br>parch: 0.0</br>_original_yhat_: 0.432015785389703</br>"
          ],
          [
           "</br>id: Henry</br>prediction: 0.72</br>age: 11.980000000028</br></br>gender: male</br>class: 1st</br>embarked: Cherbourg</br>fare: 25.0</br>sibsp: 0.0</br>parch: 0.0</br>_original_yhat_: 0.432015785389703</br>"
          ],
          [
           "</br>id: Henry</br>prediction: 0.714</br>age: 12.718333333360999</br></br>gender: male</br>class: 1st</br>embarked: Cherbourg</br>fare: 25.0</br>sibsp: 0.0</br>parch: 0.0</br>_original_yhat_: 0.432015785389703</br>"
          ],
          [
           "</br>id: Henry</br>prediction: 0.709</br>age: 13.456666666694</br></br>gender: male</br>class: 1st</br>embarked: Cherbourg</br>fare: 25.0</br>sibsp: 0.0</br>parch: 0.0</br>_original_yhat_: 0.432015785389703</br>"
          ],
          [
           "</br>id: Henry</br>prediction: 0.704</br>age: 14.195000000027</br></br>gender: male</br>class: 1st</br>embarked: Cherbourg</br>fare: 25.0</br>sibsp: 0.0</br>parch: 0.0</br>_original_yhat_: 0.432015785389703</br>"
          ],
          [
           "</br>id: Henry</br>prediction: 0.699</br>age: 14.93333333336</br></br>gender: male</br>class: 1st</br>embarked: Cherbourg</br>fare: 25.0</br>sibsp: 0.0</br>parch: 0.0</br>_original_yhat_: 0.432015785389703</br>"
          ],
          [
           "</br>id: Henry</br>prediction: 0.693</br>age: 15.671666666693</br></br>gender: male</br>class: 1st</br>embarked: Cherbourg</br>fare: 25.0</br>sibsp: 0.0</br>parch: 0.0</br>_original_yhat_: 0.432015785389703</br>"
          ],
          [
           "</br>id: Henry</br>prediction: 0.688</br>age: 16.410000000026</br></br>gender: male</br>class: 1st</br>embarked: Cherbourg</br>fare: 25.0</br>sibsp: 0.0</br>parch: 0.0</br>_original_yhat_: 0.432015785389703</br>"
          ],
          [
           "</br>id: Henry</br>prediction: 0.682</br>age: 17.148333333359</br></br>gender: male</br>class: 1st</br>embarked: Cherbourg</br>fare: 25.0</br>sibsp: 0.0</br>parch: 0.0</br>_original_yhat_: 0.432015785389703</br>"
          ],
          [
           "</br>id: Henry</br>prediction: 0.676</br>age: 17.886666666691998</br></br>gender: male</br>class: 1st</br>embarked: Cherbourg</br>fare: 25.0</br>sibsp: 0.0</br>parch: 0.0</br>_original_yhat_: 0.432015785389703</br>"
          ],
          [
           "</br>id: Henry</br>prediction: 0.671</br>age: 18.625000000025</br></br>gender: male</br>class: 1st</br>embarked: Cherbourg</br>fare: 25.0</br>sibsp: 0.0</br>parch: 0.0</br>_original_yhat_: 0.432015785389703</br>"
          ],
          [
           "</br>id: Henry</br>prediction: 0.665</br>age: 19.363333333358</br></br>gender: male</br>class: 1st</br>embarked: Cherbourg</br>fare: 25.0</br>sibsp: 0.0</br>parch: 0.0</br>_original_yhat_: 0.432015785389703</br>"
          ],
          [
           "</br>id: Henry</br>prediction: 0.659</br>age: 20.101666666691</br></br>gender: male</br>class: 1st</br>embarked: Cherbourg</br>fare: 25.0</br>sibsp: 0.0</br>parch: 0.0</br>_original_yhat_: 0.432015785389703</br>"
          ],
          [
           "</br>id: Henry</br>prediction: 0.654</br>age: 20.840000000024</br></br>gender: male</br>class: 1st</br>embarked: Cherbourg</br>fare: 25.0</br>sibsp: 0.0</br>parch: 0.0</br>_original_yhat_: 0.432015785389703</br>"
          ],
          [
           "</br>id: Henry</br>prediction: 0.648</br>age: 21.578333333356998</br></br>gender: male</br>class: 1st</br>embarked: Cherbourg</br>fare: 25.0</br>sibsp: 0.0</br>parch: 0.0</br>_original_yhat_: 0.432015785389703</br>"
          ],
          [
           "</br>id: Henry</br>prediction: 0.642</br>age: 22.31666666669</br></br>gender: male</br>class: 1st</br>embarked: Cherbourg</br>fare: 25.0</br>sibsp: 0.0</br>parch: 0.0</br>_original_yhat_: 0.432015785389703</br>"
          ],
          [
           "</br>id: Henry</br>prediction: 0.636</br>age: 23.055000000023</br></br>gender: male</br>class: 1st</br>embarked: Cherbourg</br>fare: 25.0</br>sibsp: 0.0</br>parch: 0.0</br>_original_yhat_: 0.432015785389703</br>"
          ],
          [
           "</br>id: Henry</br>prediction: 0.63</br>age: 23.793333333356</br></br>gender: male</br>class: 1st</br>embarked: Cherbourg</br>fare: 25.0</br>sibsp: 0.0</br>parch: 0.0</br>_original_yhat_: 0.432015785389703</br>"
          ],
          [
           "</br>id: Henry</br>prediction: 0.624</br>age: 24.531666666689</br></br>gender: male</br>class: 1st</br>embarked: Cherbourg</br>fare: 25.0</br>sibsp: 0.0</br>parch: 0.0</br>_original_yhat_: 0.432015785389703</br>"
          ],
          [
           "</br>id: Henry</br>prediction: 0.618</br>age: 25.270000000021998</br></br>gender: male</br>class: 1st</br>embarked: Cherbourg</br>fare: 25.0</br>sibsp: 0.0</br>parch: 0.0</br>_original_yhat_: 0.432015785389703</br>"
          ],
          [
           "</br>id: Henry</br>prediction: 0.612</br>age: 26.008333333355</br></br>gender: male</br>class: 1st</br>embarked: Cherbourg</br>fare: 25.0</br>sibsp: 0.0</br>parch: 0.0</br>_original_yhat_: 0.432015785389703</br>"
          ],
          [
           "</br>id: Henry</br>prediction: 0.606</br>age: 26.746666666688</br></br>gender: male</br>class: 1st</br>embarked: Cherbourg</br>fare: 25.0</br>sibsp: 0.0</br>parch: 0.0</br>_original_yhat_: 0.432015785389703</br>"
          ],
          [
           "</br>id: Henry</br>prediction: 0.6</br>age: 27.485000000021</br></br>gender: male</br>class: 1st</br>embarked: Cherbourg</br>fare: 25.0</br>sibsp: 0.0</br>parch: 0.0</br>_original_yhat_: 0.432015785389703</br>"
          ],
          [
           "</br>id: Henry</br>prediction: 0.594</br>age: 28.223333333354</br></br>gender: male</br>class: 1st</br>embarked: Cherbourg</br>fare: 25.0</br>sibsp: 0.0</br>parch: 0.0</br>_original_yhat_: 0.432015785389703</br>"
          ],
          [
           "</br>id: Henry</br>prediction: 0.587</br>age: 28.961666666686998</br></br>gender: male</br>class: 1st</br>embarked: Cherbourg</br>fare: 25.0</br>sibsp: 0.0</br>parch: 0.0</br>_original_yhat_: 0.432015785389703</br>"
          ],
          [
           "</br>id: Henry</br>prediction: 0.581</br>age: 29.70000000002</br></br>gender: male</br>class: 1st</br>embarked: Cherbourg</br>fare: 25.0</br>sibsp: 0.0</br>parch: 0.0</br>_original_yhat_: 0.432015785389703</br>"
          ],
          [
           "</br>id: Henry</br>prediction: 0.575</br>age: 30.438333333353</br></br>gender: male</br>class: 1st</br>embarked: Cherbourg</br>fare: 25.0</br>sibsp: 0.0</br>parch: 0.0</br>_original_yhat_: 0.432015785389703</br>"
          ],
          [
           "</br>id: Henry</br>prediction: 0.569</br>age: 31.176666666686</br></br>gender: male</br>class: 1st</br>embarked: Cherbourg</br>fare: 25.0</br>sibsp: 0.0</br>parch: 0.0</br>_original_yhat_: 0.432015785389703</br>"
          ],
          [
           "</br>id: Henry</br>prediction: 0.562</br>age: 31.915000000019</br></br>gender: male</br>class: 1st</br>embarked: Cherbourg</br>fare: 25.0</br>sibsp: 0.0</br>parch: 0.0</br>_original_yhat_: 0.432015785389703</br>"
          ],
          [
           "</br>id: Henry</br>prediction: 0.556</br>age: 32.653333333352</br></br>gender: male</br>class: 1st</br>embarked: Cherbourg</br>fare: 25.0</br>sibsp: 0.0</br>parch: 0.0</br>_original_yhat_: 0.432015785389703</br>"
          ],
          [
           "</br>id: Henry</br>prediction: 0.55</br>age: 33.391666666685005</br></br>gender: male</br>class: 1st</br>embarked: Cherbourg</br>fare: 25.0</br>sibsp: 0.0</br>parch: 0.0</br>_original_yhat_: 0.432015785389703</br>"
          ],
          [
           "</br>id: Henry</br>prediction: 0.543</br>age: 34.130000000018</br></br>gender: male</br>class: 1st</br>embarked: Cherbourg</br>fare: 25.0</br>sibsp: 0.0</br>parch: 0.0</br>_original_yhat_: 0.432015785389703</br>"
          ],
          [
           "</br>id: Henry</br>prediction: 0.537</br>age: 34.868333333351</br></br>gender: male</br>class: 1st</br>embarked: Cherbourg</br>fare: 25.0</br>sibsp: 0.0</br>parch: 0.0</br>_original_yhat_: 0.432015785389703</br>"
          ],
          [
           "</br>id: Henry</br>prediction: 0.53</br>age: 35.606666666684</br></br>gender: male</br>class: 1st</br>embarked: Cherbourg</br>fare: 25.0</br>sibsp: 0.0</br>parch: 0.0</br>_original_yhat_: 0.432015785389703</br>"
          ],
          [
           "</br>id: Henry</br>prediction: 0.524</br>age: 36.345000000017</br></br>gender: male</br>class: 1st</br>embarked: Cherbourg</br>fare: 25.0</br>sibsp: 0.0</br>parch: 0.0</br>_original_yhat_: 0.432015785389703</br>"
          ],
          [
           "</br>id: Henry</br>prediction: 0.518</br>age: 37.083333333350005</br></br>gender: male</br>class: 1st</br>embarked: Cherbourg</br>fare: 25.0</br>sibsp: 0.0</br>parch: 0.0</br>_original_yhat_: 0.432015785389703</br>"
          ],
          [
           "</br>id: Henry</br>prediction: 0.511</br>age: 37.821666666683</br></br>gender: male</br>class: 1st</br>embarked: Cherbourg</br>fare: 25.0</br>sibsp: 0.0</br>parch: 0.0</br>_original_yhat_: 0.432015785389703</br>"
          ],
          [
           "</br>id: Henry</br>prediction: 0.505</br>age: 38.560000000016004</br></br>gender: male</br>class: 1st</br>embarked: Cherbourg</br>fare: 25.0</br>sibsp: 0.0</br>parch: 0.0</br>_original_yhat_: 0.432015785389703</br>"
          ],
          [
           "</br>id: Henry</br>prediction: 0.498</br>age: 39.298333333349</br></br>gender: male</br>class: 1st</br>embarked: Cherbourg</br>fare: 25.0</br>sibsp: 0.0</br>parch: 0.0</br>_original_yhat_: 0.432015785389703</br>"
          ],
          [
           "</br>id: Henry</br>prediction: 0.492</br>age: 40.036666666682</br></br>gender: male</br>class: 1st</br>embarked: Cherbourg</br>fare: 25.0</br>sibsp: 0.0</br>parch: 0.0</br>_original_yhat_: 0.432015785389703</br>"
          ],
          [
           "</br>id: Henry</br>prediction: 0.486</br>age: 40.775000000015005</br></br>gender: male</br>class: 1st</br>embarked: Cherbourg</br>fare: 25.0</br>sibsp: 0.0</br>parch: 0.0</br>_original_yhat_: 0.432015785389703</br>"
          ],
          [
           "</br>id: Henry</br>prediction: 0.479</br>age: 41.513333333348</br></br>gender: male</br>class: 1st</br>embarked: Cherbourg</br>fare: 25.0</br>sibsp: 0.0</br>parch: 0.0</br>_original_yhat_: 0.432015785389703</br>"
          ],
          [
           "</br>id: Henry</br>prediction: 0.473</br>age: 42.251666666681004</br></br>gender: male</br>class: 1st</br>embarked: Cherbourg</br>fare: 25.0</br>sibsp: 0.0</br>parch: 0.0</br>_original_yhat_: 0.432015785389703</br>"
          ],
          [
           "</br>id: Henry</br>prediction: 0.466</br>age: 42.990000000014</br></br>gender: male</br>class: 1st</br>embarked: Cherbourg</br>fare: 25.0</br>sibsp: 0.0</br>parch: 0.0</br>_original_yhat_: 0.432015785389703</br>"
          ],
          [
           "</br>id: Henry</br>prediction: 0.46</br>age: 43.728333333347</br></br>gender: male</br>class: 1st</br>embarked: Cherbourg</br>fare: 25.0</br>sibsp: 0.0</br>parch: 0.0</br>_original_yhat_: 0.432015785389703</br>"
          ],
          [
           "</br>id: Henry</br>prediction: 0.454</br>age: 44.466666666680005</br></br>gender: male</br>class: 1st</br>embarked: Cherbourg</br>fare: 25.0</br>sibsp: 0.0</br>parch: 0.0</br>_original_yhat_: 0.432015785389703</br>"
          ],
          [
           "</br>id: Henry</br>prediction: 0.447</br>age: 45.205000000013</br></br>gender: male</br>class: 1st</br>embarked: Cherbourg</br>fare: 25.0</br>sibsp: 0.0</br>parch: 0.0</br>_original_yhat_: 0.432015785389703</br>"
          ],
          [
           "</br>id: Henry</br>prediction: 0.441</br>age: 45.943333333346004</br></br>gender: male</br>class: 1st</br>embarked: Cherbourg</br>fare: 25.0</br>sibsp: 0.0</br>parch: 0.0</br>_original_yhat_: 0.432015785389703</br>"
          ],
          [
           "</br>id: Henry</br>prediction: 0.435</br>age: 46.681666666679</br></br>gender: male</br>class: 1st</br>embarked: Cherbourg</br>fare: 25.0</br>sibsp: 0.0</br>parch: 0.0</br>_original_yhat_: 0.432015785389703</br>"
          ],
          [
           "</br>id: Henry</br>prediction: 0.432</br>age: 47.0</br></br>gender: male</br>class: 1st</br>embarked: Cherbourg</br>fare: 25.0</br>sibsp: 0.0</br>parch: 0.0</br>_original_yhat_: 0.432015785389703</br>"
          ],
          [
           "</br>id: Henry</br>prediction: 0.428</br>age: 47.420000000012</br></br>gender: male</br>class: 1st</br>embarked: Cherbourg</br>fare: 25.0</br>sibsp: 0.0</br>parch: 0.0</br>_original_yhat_: 0.432015785389703</br>"
          ],
          [
           "</br>id: Henry</br>prediction: 0.422</br>age: 48.158333333345006</br></br>gender: male</br>class: 1st</br>embarked: Cherbourg</br>fare: 25.0</br>sibsp: 0.0</br>parch: 0.0</br>_original_yhat_: 0.432015785389703</br>"
          ],
          [
           "</br>id: Henry</br>prediction: 0.416</br>age: 48.896666666678</br></br>gender: male</br>class: 1st</br>embarked: Cherbourg</br>fare: 25.0</br>sibsp: 0.0</br>parch: 0.0</br>_original_yhat_: 0.432015785389703</br>"
          ],
          [
           "</br>id: Henry</br>prediction: 0.41</br>age: 49.635000000011004</br></br>gender: male</br>class: 1st</br>embarked: Cherbourg</br>fare: 25.0</br>sibsp: 0.0</br>parch: 0.0</br>_original_yhat_: 0.432015785389703</br>"
          ],
          [
           "</br>id: Henry</br>prediction: 0.404</br>age: 50.373333333344</br></br>gender: male</br>class: 1st</br>embarked: Cherbourg</br>fare: 25.0</br>sibsp: 0.0</br>parch: 0.0</br>_original_yhat_: 0.432015785389703</br>"
          ],
          [
           "</br>id: Henry</br>prediction: 0.397</br>age: 51.111666666677</br></br>gender: male</br>class: 1st</br>embarked: Cherbourg</br>fare: 25.0</br>sibsp: 0.0</br>parch: 0.0</br>_original_yhat_: 0.432015785389703</br>"
          ],
          [
           "</br>id: Henry</br>prediction: 0.391</br>age: 51.850000000010006</br></br>gender: male</br>class: 1st</br>embarked: Cherbourg</br>fare: 25.0</br>sibsp: 0.0</br>parch: 0.0</br>_original_yhat_: 0.432015785389703</br>"
          ],
          [
           "</br>id: Henry</br>prediction: 0.385</br>age: 52.588333333343</br></br>gender: male</br>class: 1st</br>embarked: Cherbourg</br>fare: 25.0</br>sibsp: 0.0</br>parch: 0.0</br>_original_yhat_: 0.432015785389703</br>"
          ],
          [
           "</br>id: Henry</br>prediction: 0.379</br>age: 53.326666666676005</br></br>gender: male</br>class: 1st</br>embarked: Cherbourg</br>fare: 25.0</br>sibsp: 0.0</br>parch: 0.0</br>_original_yhat_: 0.432015785389703</br>"
          ],
          [
           "</br>id: Henry</br>prediction: 0.373</br>age: 54.065000000009</br></br>gender: male</br>class: 1st</br>embarked: Cherbourg</br>fare: 25.0</br>sibsp: 0.0</br>parch: 0.0</br>_original_yhat_: 0.432015785389703</br>"
          ],
          [
           "</br>id: Henry</br>prediction: 0.367</br>age: 54.803333333342</br></br>gender: male</br>class: 1st</br>embarked: Cherbourg</br>fare: 25.0</br>sibsp: 0.0</br>parch: 0.0</br>_original_yhat_: 0.432015785389703</br>"
          ],
          [
           "</br>id: Henry</br>prediction: 0.361</br>age: 55.541666666675006</br></br>gender: male</br>class: 1st</br>embarked: Cherbourg</br>fare: 25.0</br>sibsp: 0.0</br>parch: 0.0</br>_original_yhat_: 0.432015785389703</br>"
          ],
          [
           "</br>id: Henry</br>prediction: 0.355</br>age: 56.280000000008</br></br>gender: male</br>class: 1st</br>embarked: Cherbourg</br>fare: 25.0</br>sibsp: 0.0</br>parch: 0.0</br>_original_yhat_: 0.432015785389703</br>"
          ],
          [
           "</br>id: Henry</br>prediction: 0.349</br>age: 57.018333333341005</br></br>gender: male</br>class: 1st</br>embarked: Cherbourg</br>fare: 25.0</br>sibsp: 0.0</br>parch: 0.0</br>_original_yhat_: 0.432015785389703</br>"
          ],
          [
           "</br>id: Henry</br>prediction: 0.344</br>age: 57.756666666674</br></br>gender: male</br>class: 1st</br>embarked: Cherbourg</br>fare: 25.0</br>sibsp: 0.0</br>parch: 0.0</br>_original_yhat_: 0.432015785389703</br>"
          ],
          [
           "</br>id: Henry</br>prediction: 0.338</br>age: 58.495000000007</br></br>gender: male</br>class: 1st</br>embarked: Cherbourg</br>fare: 25.0</br>sibsp: 0.0</br>parch: 0.0</br>_original_yhat_: 0.432015785389703</br>"
          ],
          [
           "</br>id: Henry</br>prediction: 0.332</br>age: 59.233333333340006</br></br>gender: male</br>class: 1st</br>embarked: Cherbourg</br>fare: 25.0</br>sibsp: 0.0</br>parch: 0.0</br>_original_yhat_: 0.432015785389703</br>"
          ],
          [
           "</br>id: Henry</br>prediction: 0.326</br>age: 59.971666666673</br></br>gender: male</br>class: 1st</br>embarked: Cherbourg</br>fare: 25.0</br>sibsp: 0.0</br>parch: 0.0</br>_original_yhat_: 0.432015785389703</br>"
          ],
          [
           "</br>id: Henry</br>prediction: 0.321</br>age: 60.710000000006005</br></br>gender: male</br>class: 1st</br>embarked: Cherbourg</br>fare: 25.0</br>sibsp: 0.0</br>parch: 0.0</br>_original_yhat_: 0.432015785389703</br>"
          ],
          [
           "</br>id: Henry</br>prediction: 0.315</br>age: 61.448333333339</br></br>gender: male</br>class: 1st</br>embarked: Cherbourg</br>fare: 25.0</br>sibsp: 0.0</br>parch: 0.0</br>_original_yhat_: 0.432015785389703</br>"
          ],
          [
           "</br>id: Henry</br>prediction: 0.31</br>age: 62.186666666672004</br></br>gender: male</br>class: 1st</br>embarked: Cherbourg</br>fare: 25.0</br>sibsp: 0.0</br>parch: 0.0</br>_original_yhat_: 0.432015785389703</br>"
          ],
          [
           "</br>id: Henry</br>prediction: 0.304</br>age: 62.925000000005</br></br>gender: male</br>class: 1st</br>embarked: Cherbourg</br>fare: 25.0</br>sibsp: 0.0</br>parch: 0.0</br>_original_yhat_: 0.432015785389703</br>"
          ],
          [
           "</br>id: Henry</br>prediction: 0.299</br>age: 63.663333333338</br></br>gender: male</br>class: 1st</br>embarked: Cherbourg</br>fare: 25.0</br>sibsp: 0.0</br>parch: 0.0</br>_original_yhat_: 0.432015785389703</br>"
          ],
          [
           "</br>id: Henry</br>prediction: 0.294</br>age: 64.40166666667099</br></br>gender: male</br>class: 1st</br>embarked: Cherbourg</br>fare: 25.0</br>sibsp: 0.0</br>parch: 0.0</br>_original_yhat_: 0.432015785389703</br>"
          ],
          [
           "</br>id: Henry</br>prediction: 0.288</br>age: 65.140000000004</br></br>gender: male</br>class: 1st</br>embarked: Cherbourg</br>fare: 25.0</br>sibsp: 0.0</br>parch: 0.0</br>_original_yhat_: 0.432015785389703</br>"
          ],
          [
           "</br>id: Henry</br>prediction: 0.283</br>age: 65.878333333337</br></br>gender: male</br>class: 1st</br>embarked: Cherbourg</br>fare: 25.0</br>sibsp: 0.0</br>parch: 0.0</br>_original_yhat_: 0.432015785389703</br>"
          ],
          [
           "</br>id: Henry</br>prediction: 0.278</br>age: 66.61666666667</br></br>gender: male</br>class: 1st</br>embarked: Cherbourg</br>fare: 25.0</br>sibsp: 0.0</br>parch: 0.0</br>_original_yhat_: 0.432015785389703</br>"
          ],
          [
           "</br>id: Henry</br>prediction: 0.273</br>age: 67.355000000003</br></br>gender: male</br>class: 1st</br>embarked: Cherbourg</br>fare: 25.0</br>sibsp: 0.0</br>parch: 0.0</br>_original_yhat_: 0.432015785389703</br>"
          ],
          [
           "</br>id: Henry</br>prediction: 0.268</br>age: 68.09333333333599</br></br>gender: male</br>class: 1st</br>embarked: Cherbourg</br>fare: 25.0</br>sibsp: 0.0</br>parch: 0.0</br>_original_yhat_: 0.432015785389703</br>"
          ],
          [
           "</br>id: Henry</br>prediction: 0.263</br>age: 68.831666666669</br></br>gender: male</br>class: 1st</br>embarked: Cherbourg</br>fare: 25.0</br>sibsp: 0.0</br>parch: 0.0</br>_original_yhat_: 0.432015785389703</br>"
          ],
          [
           "</br>id: Henry</br>prediction: 0.258</br>age: 69.570000000002</br></br>gender: male</br>class: 1st</br>embarked: Cherbourg</br>fare: 25.0</br>sibsp: 0.0</br>parch: 0.0</br>_original_yhat_: 0.432015785389703</br>"
          ],
          [
           "</br>id: Henry</br>prediction: 0.253</br>age: 70.308333333335</br></br>gender: male</br>class: 1st</br>embarked: Cherbourg</br>fare: 25.0</br>sibsp: 0.0</br>parch: 0.0</br>_original_yhat_: 0.432015785389703</br>"
          ],
          [
           "</br>id: Henry</br>prediction: 0.248</br>age: 71.04666666666799</br></br>gender: male</br>class: 1st</br>embarked: Cherbourg</br>fare: 25.0</br>sibsp: 0.0</br>parch: 0.0</br>_original_yhat_: 0.432015785389703</br>"
          ],
          [
           "</br>id: Henry</br>prediction: 0.243</br>age: 71.78500000000099</br></br>gender: male</br>class: 1st</br>embarked: Cherbourg</br>fare: 25.0</br>sibsp: 0.0</br>parch: 0.0</br>_original_yhat_: 0.432015785389703</br>"
          ],
          [
           "</br>id: Henry</br>prediction: 0.239</br>age: 72.523333333334</br></br>gender: male</br>class: 1st</br>embarked: Cherbourg</br>fare: 25.0</br>sibsp: 0.0</br>parch: 0.0</br>_original_yhat_: 0.432015785389703</br>"
          ],
          [
           "</br>id: Henry</br>prediction: 0.234</br>age: 73.261666666667</br></br>gender: male</br>class: 1st</br>embarked: Cherbourg</br>fare: 25.0</br>sibsp: 0.0</br>parch: 0.0</br>_original_yhat_: 0.432015785389703</br>"
          ],
          [
           "</br>id: Henry</br>prediction: 0.229</br>age: 74.0</br></br>gender: male</br>class: 1st</br>embarked: Cherbourg</br>fare: 25.0</br>sibsp: 0.0</br>parch: 0.0</br>_original_yhat_: 0.432015785389703</br>"
          ]
         ],
         "hovertemplate": "%{customdata[0]}<extra></extra>",
         "legendgroup": "Titanic LR Pipeline",
         "line": {
          "color": "#4378bf",
          "dash": "solid",
          "width": 2
         },
         "marker": {
          "symbol": "circle"
         },
         "mode": "lines",
         "name": "Titanic LR Pipeline",
         "opacity": 1,
         "orientation": "v",
         "showlegend": true,
         "type": "scatter",
         "x": [
          0.1666666667,
          0.905000000033,
          1.643333333366,
          2.3816666666989996,
          3.120000000032,
          3.858333333365,
          4.596666666698,
          5.335000000031,
          6.073333333364,
          6.8116666666970005,
          7.550000000030001,
          8.288333333363,
          9.026666666695998,
          9.765000000029,
          10.503333333361999,
          11.241666666695,
          11.980000000028,
          12.718333333360999,
          13.456666666694,
          14.195000000027,
          14.93333333336,
          15.671666666693,
          16.410000000026,
          17.148333333359,
          17.886666666691998,
          18.625000000025,
          19.363333333358,
          20.101666666691,
          20.840000000024,
          21.578333333356998,
          22.31666666669,
          23.055000000023,
          23.793333333356,
          24.531666666689,
          25.270000000021998,
          26.008333333355,
          26.746666666688,
          27.485000000021,
          28.223333333354,
          28.961666666686998,
          29.70000000002,
          30.438333333353,
          31.176666666686,
          31.915000000019,
          32.653333333352,
          33.391666666685005,
          34.130000000018,
          34.868333333351,
          35.606666666684,
          36.345000000017,
          37.083333333350005,
          37.821666666683,
          38.560000000016004,
          39.298333333349,
          40.036666666682,
          40.775000000015005,
          41.513333333348,
          42.251666666681004,
          42.990000000014,
          43.728333333347,
          44.466666666680005,
          45.205000000013,
          45.943333333346004,
          46.681666666679,
          47,
          47.420000000012,
          48.158333333345006,
          48.896666666678,
          49.635000000011004,
          50.373333333344,
          51.111666666677,
          51.850000000010006,
          52.588333333343,
          53.326666666676005,
          54.065000000009,
          54.803333333342,
          55.541666666675006,
          56.280000000008,
          57.018333333341005,
          57.756666666674,
          58.495000000007,
          59.233333333340006,
          59.971666666673,
          60.710000000006005,
          61.448333333339,
          62.186666666672004,
          62.925000000005,
          63.663333333338,
          64.40166666667099,
          65.140000000004,
          65.878333333337,
          66.61666666667,
          67.355000000003,
          68.09333333333599,
          68.831666666669,
          69.570000000002,
          70.308333333335,
          71.04666666666799,
          71.78500000000099,
          72.523333333334,
          73.261666666667,
          74
         ],
         "xaxis": "x",
         "y": [
          0.7946389602003449,
          0.7904222262516,
          0.7861422107656807,
          0.7817989176482156,
          0.7773923931478828,
          0.7729227270559468,
          0.7683900538718299,
          0.763794553930482,
          0.759136454487243,
          0.7544160307558387,
          0.7496336068951127,
          0.7447895569400751,
          0.7398843056728482,
          0.7349183294291028,
          0.7298921568356171,
          0.7248063694746433,
          0.7196616024708522,
          0.7144585449967203,
          0.7091979406923498,
          0.7038805879958587,
          0.69850734038065,
          0.6930791064960566,
          0.6875968502080845,
          0.6820615905372069,
          0.6764744014904355,
          0.6708364117851714,
          0.6651488044626531,
          0.6594128163891422,
          0.6536297376433352,
          0.6478009107888619,
          0.6419277300311016,
          0.6360116402579611,
          0.630054135964658,
          0.624056760062983,
          0.618021102575942,
          0.6119487992191244,
          0.605841529870581,
          0.5997010169314476,
          0.5935290235799904,
          0.5873273519221966,
          0.5810978410424703,
          0.5748423649584166,
          0.5685628304841236,
          0.5622611750067477,
          0.5559393641815977,
          0.5495993895512811,
          0.5432432660948212,
          0.536873029712976,
          0.5304907346562868,
          0.5240984509026487,
          0.517698261491437,
          0.5112922598214253,
          0.5048825469199015,
          0.49847122869053295,
          0.4920604131476223,
          0.4856522076444704,
          0.47924871610358544,
          0.47285203625646816,
          0.46646425690066495,
          0.46008745518168437,
          0.45372369390726863,
          0.44737501890134707,
          0.44104345640481535,
          0.43473101053006447,
          0.432015785389703,
          0.42843966077592677,
          0.4221713596094323,
          0.41592803012045126,
          0.40971156375497386,
          0.4035238181324156,
          0.39736661495195935,
          0.3912417379925561,
          0.3851509312107862,
          0.3790958969403699,
          0.37307829419667693,
          0.3670997370891439,
          0.36116179334407045,
          0.35526598293981015,
          0.3494137768559338,
          0.3436065959374958,
          0.3378458098751013,
          0.3321327363010412,
          0.32646864000134573,
          0.3208547322432019,
          0.3152921702167891,
          0.30978205659021085,
          0.30432543917584487,
          0.2989233107060953,
          0.2935766087162106,
          0.2882862155315362,
          0.2830529583562942,
          0.27787760946073037,
          0.27276088646324087,
          0.2677034527038814,
          0.26270591770548474,
          0.25776883771845,
          0.2528927163451304,
          0.2480780052396384,
          0.24332510487879314,
          0.2386343653998677,
          0.23400608750074825,
          0.22944052339808932
         ],
         "yaxis": "y"
        },
        {
         "customdata": [
          [
           "</br>id: Henry</br>prediction: 0.425</br>fare: 0.0</br></br>gender: male</br>age: 47.0</br>class: 1st</br>embarked: Cherbourg</br>sibsp: 0.0</br>parch: 0.0</br>_original_yhat_: 0.432015785389703</br>"
          ],
          [
           "</br>id: Henry</br>prediction: 0.427</br>fare: 5.120607</br></br>gender: male</br>age: 47.0</br>class: 1st</br>embarked: Cherbourg</br>sibsp: 0.0</br>parch: 0.0</br>_original_yhat_: 0.432015785389703</br>"
          ],
          [
           "</br>id: Henry</br>prediction: 0.428</br>fare: 10.241214</br></br>gender: male</br>age: 47.0</br>class: 1st</br>embarked: Cherbourg</br>sibsp: 0.0</br>parch: 0.0</br>_original_yhat_: 0.432015785389703</br>"
          ],
          [
           "</br>id: Henry</br>prediction: 0.429</br>fare: 15.361820999999999</br></br>gender: male</br>age: 47.0</br>class: 1st</br>embarked: Cherbourg</br>sibsp: 0.0</br>parch: 0.0</br>_original_yhat_: 0.432015785389703</br>"
          ],
          [
           "</br>id: Henry</br>prediction: 0.431</br>fare: 20.482428</br></br>gender: male</br>age: 47.0</br>class: 1st</br>embarked: Cherbourg</br>sibsp: 0.0</br>parch: 0.0</br>_original_yhat_: 0.432015785389703</br>"
          ],
          [
           "</br>id: Henry</br>prediction: 0.432</br>fare: 25.0</br></br>gender: male</br>age: 47.0</br>class: 1st</br>embarked: Cherbourg</br>sibsp: 0.0</br>parch: 0.0</br>_original_yhat_: 0.432015785389703</br>"
          ],
          [
           "</br>id: Henry</br>prediction: 0.432</br>fare: 25.603035</br></br>gender: male</br>age: 47.0</br>class: 1st</br>embarked: Cherbourg</br>sibsp: 0.0</br>parch: 0.0</br>_original_yhat_: 0.432015785389703</br>"
          ],
          [
           "</br>id: Henry</br>prediction: 0.434</br>fare: 30.723641999999998</br></br>gender: male</br>age: 47.0</br>class: 1st</br>embarked: Cherbourg</br>sibsp: 0.0</br>parch: 0.0</br>_original_yhat_: 0.432015785389703</br>"
          ],
          [
           "</br>id: Henry</br>prediction: 0.435</br>fare: 35.844249</br></br>gender: male</br>age: 47.0</br>class: 1st</br>embarked: Cherbourg</br>sibsp: 0.0</br>parch: 0.0</br>_original_yhat_: 0.432015785389703</br>"
          ],
          [
           "</br>id: Henry</br>prediction: 0.436</br>fare: 40.964856</br></br>gender: male</br>age: 47.0</br>class: 1st</br>embarked: Cherbourg</br>sibsp: 0.0</br>parch: 0.0</br>_original_yhat_: 0.432015785389703</br>"
          ],
          [
           "</br>id: Henry</br>prediction: 0.438</br>fare: 46.085463</br></br>gender: male</br>age: 47.0</br>class: 1st</br>embarked: Cherbourg</br>sibsp: 0.0</br>parch: 0.0</br>_original_yhat_: 0.432015785389703</br>"
          ],
          [
           "</br>id: Henry</br>prediction: 0.439</br>fare: 51.20607</br></br>gender: male</br>age: 47.0</br>class: 1st</br>embarked: Cherbourg</br>sibsp: 0.0</br>parch: 0.0</br>_original_yhat_: 0.432015785389703</br>"
          ],
          [
           "</br>id: Henry</br>prediction: 0.44</br>fare: 56.326677</br></br>gender: male</br>age: 47.0</br>class: 1st</br>embarked: Cherbourg</br>sibsp: 0.0</br>parch: 0.0</br>_original_yhat_: 0.432015785389703</br>"
          ],
          [
           "</br>id: Henry</br>prediction: 0.442</br>fare: 61.447283999999996</br></br>gender: male</br>age: 47.0</br>class: 1st</br>embarked: Cherbourg</br>sibsp: 0.0</br>parch: 0.0</br>_original_yhat_: 0.432015785389703</br>"
          ],
          [
           "</br>id: Henry</br>prediction: 0.443</br>fare: 66.567891</br></br>gender: male</br>age: 47.0</br>class: 1st</br>embarked: Cherbourg</br>sibsp: 0.0</br>parch: 0.0</br>_original_yhat_: 0.432015785389703</br>"
          ],
          [
           "</br>id: Henry</br>prediction: 0.445</br>fare: 71.688498</br></br>gender: male</br>age: 47.0</br>class: 1st</br>embarked: Cherbourg</br>sibsp: 0.0</br>parch: 0.0</br>_original_yhat_: 0.432015785389703</br>"
          ],
          [
           "</br>id: Henry</br>prediction: 0.446</br>fare: 76.80910499999999</br></br>gender: male</br>age: 47.0</br>class: 1st</br>embarked: Cherbourg</br>sibsp: 0.0</br>parch: 0.0</br>_original_yhat_: 0.432015785389703</br>"
          ],
          [
           "</br>id: Henry</br>prediction: 0.447</br>fare: 81.929712</br></br>gender: male</br>age: 47.0</br>class: 1st</br>embarked: Cherbourg</br>sibsp: 0.0</br>parch: 0.0</br>_original_yhat_: 0.432015785389703</br>"
          ],
          [
           "</br>id: Henry</br>prediction: 0.449</br>fare: 87.050319</br></br>gender: male</br>age: 47.0</br>class: 1st</br>embarked: Cherbourg</br>sibsp: 0.0</br>parch: 0.0</br>_original_yhat_: 0.432015785389703</br>"
          ],
          [
           "</br>id: Henry</br>prediction: 0.45</br>fare: 92.170926</br></br>gender: male</br>age: 47.0</br>class: 1st</br>embarked: Cherbourg</br>sibsp: 0.0</br>parch: 0.0</br>_original_yhat_: 0.432015785389703</br>"
          ],
          [
           "</br>id: Henry</br>prediction: 0.452</br>fare: 97.29153299999999</br></br>gender: male</br>age: 47.0</br>class: 1st</br>embarked: Cherbourg</br>sibsp: 0.0</br>parch: 0.0</br>_original_yhat_: 0.432015785389703</br>"
          ],
          [
           "</br>id: Henry</br>prediction: 0.453</br>fare: 102.41214</br></br>gender: male</br>age: 47.0</br>class: 1st</br>embarked: Cherbourg</br>sibsp: 0.0</br>parch: 0.0</br>_original_yhat_: 0.432015785389703</br>"
          ],
          [
           "</br>id: Henry</br>prediction: 0.454</br>fare: 107.532747</br></br>gender: male</br>age: 47.0</br>class: 1st</br>embarked: Cherbourg</br>sibsp: 0.0</br>parch: 0.0</br>_original_yhat_: 0.432015785389703</br>"
          ],
          [
           "</br>id: Henry</br>prediction: 0.456</br>fare: 112.653354</br></br>gender: male</br>age: 47.0</br>class: 1st</br>embarked: Cherbourg</br>sibsp: 0.0</br>parch: 0.0</br>_original_yhat_: 0.432015785389703</br>"
          ],
          [
           "</br>id: Henry</br>prediction: 0.457</br>fare: 117.77396099999999</br></br>gender: male</br>age: 47.0</br>class: 1st</br>embarked: Cherbourg</br>sibsp: 0.0</br>parch: 0.0</br>_original_yhat_: 0.432015785389703</br>"
          ],
          [
           "</br>id: Henry</br>prediction: 0.459</br>fare: 122.89456799999999</br></br>gender: male</br>age: 47.0</br>class: 1st</br>embarked: Cherbourg</br>sibsp: 0.0</br>parch: 0.0</br>_original_yhat_: 0.432015785389703</br>"
          ],
          [
           "</br>id: Henry</br>prediction: 0.46</br>fare: 128.015175</br></br>gender: male</br>age: 47.0</br>class: 1st</br>embarked: Cherbourg</br>sibsp: 0.0</br>parch: 0.0</br>_original_yhat_: 0.432015785389703</br>"
          ],
          [
           "</br>id: Henry</br>prediction: 0.461</br>fare: 133.135782</br></br>gender: male</br>age: 47.0</br>class: 1st</br>embarked: Cherbourg</br>sibsp: 0.0</br>parch: 0.0</br>_original_yhat_: 0.432015785389703</br>"
          ],
          [
           "</br>id: Henry</br>prediction: 0.463</br>fare: 138.25638899999998</br></br>gender: male</br>age: 47.0</br>class: 1st</br>embarked: Cherbourg</br>sibsp: 0.0</br>parch: 0.0</br>_original_yhat_: 0.432015785389703</br>"
          ],
          [
           "</br>id: Henry</br>prediction: 0.464</br>fare: 143.376996</br></br>gender: male</br>age: 47.0</br>class: 1st</br>embarked: Cherbourg</br>sibsp: 0.0</br>parch: 0.0</br>_original_yhat_: 0.432015785389703</br>"
          ],
          [
           "</br>id: Henry</br>prediction: 0.466</br>fare: 148.497603</br></br>gender: male</br>age: 47.0</br>class: 1st</br>embarked: Cherbourg</br>sibsp: 0.0</br>parch: 0.0</br>_original_yhat_: 0.432015785389703</br>"
          ],
          [
           "</br>id: Henry</br>prediction: 0.467</br>fare: 153.61820999999998</br></br>gender: male</br>age: 47.0</br>class: 1st</br>embarked: Cherbourg</br>sibsp: 0.0</br>parch: 0.0</br>_original_yhat_: 0.432015785389703</br>"
          ],
          [
           "</br>id: Henry</br>prediction: 0.468</br>fare: 158.73881699999998</br></br>gender: male</br>age: 47.0</br>class: 1st</br>embarked: Cherbourg</br>sibsp: 0.0</br>parch: 0.0</br>_original_yhat_: 0.432015785389703</br>"
          ],
          [
           "</br>id: Henry</br>prediction: 0.47</br>fare: 163.859424</br></br>gender: male</br>age: 47.0</br>class: 1st</br>embarked: Cherbourg</br>sibsp: 0.0</br>parch: 0.0</br>_original_yhat_: 0.432015785389703</br>"
          ],
          [
           "</br>id: Henry</br>prediction: 0.471</br>fare: 168.980031</br></br>gender: male</br>age: 47.0</br>class: 1st</br>embarked: Cherbourg</br>sibsp: 0.0</br>parch: 0.0</br>_original_yhat_: 0.432015785389703</br>"
          ],
          [
           "</br>id: Henry</br>prediction: 0.473</br>fare: 174.100638</br></br>gender: male</br>age: 47.0</br>class: 1st</br>embarked: Cherbourg</br>sibsp: 0.0</br>parch: 0.0</br>_original_yhat_: 0.432015785389703</br>"
          ],
          [
           "</br>id: Henry</br>prediction: 0.474</br>fare: 179.22124499999998</br></br>gender: male</br>age: 47.0</br>class: 1st</br>embarked: Cherbourg</br>sibsp: 0.0</br>parch: 0.0</br>_original_yhat_: 0.432015785389703</br>"
          ],
          [
           "</br>id: Henry</br>prediction: 0.475</br>fare: 184.341852</br></br>gender: male</br>age: 47.0</br>class: 1st</br>embarked: Cherbourg</br>sibsp: 0.0</br>parch: 0.0</br>_original_yhat_: 0.432015785389703</br>"
          ],
          [
           "</br>id: Henry</br>prediction: 0.477</br>fare: 189.462459</br></br>gender: male</br>age: 47.0</br>class: 1st</br>embarked: Cherbourg</br>sibsp: 0.0</br>parch: 0.0</br>_original_yhat_: 0.432015785389703</br>"
          ],
          [
           "</br>id: Henry</br>prediction: 0.478</br>fare: 194.58306599999997</br></br>gender: male</br>age: 47.0</br>class: 1st</br>embarked: Cherbourg</br>sibsp: 0.0</br>parch: 0.0</br>_original_yhat_: 0.432015785389703</br>"
          ],
          [
           "</br>id: Henry</br>prediction: 0.48</br>fare: 199.70367299999998</br></br>gender: male</br>age: 47.0</br>class: 1st</br>embarked: Cherbourg</br>sibsp: 0.0</br>parch: 0.0</br>_original_yhat_: 0.432015785389703</br>"
          ],
          [
           "</br>id: Henry</br>prediction: 0.481</br>fare: 204.82428</br></br>gender: male</br>age: 47.0</br>class: 1st</br>embarked: Cherbourg</br>sibsp: 0.0</br>parch: 0.0</br>_original_yhat_: 0.432015785389703</br>"
          ],
          [
           "</br>id: Henry</br>prediction: 0.482</br>fare: 209.944887</br></br>gender: male</br>age: 47.0</br>class: 1st</br>embarked: Cherbourg</br>sibsp: 0.0</br>parch: 0.0</br>_original_yhat_: 0.432015785389703</br>"
          ],
          [
           "</br>id: Henry</br>prediction: 0.484</br>fare: 215.065494</br></br>gender: male</br>age: 47.0</br>class: 1st</br>embarked: Cherbourg</br>sibsp: 0.0</br>parch: 0.0</br>_original_yhat_: 0.432015785389703</br>"
          ],
          [
           "</br>id: Henry</br>prediction: 0.485</br>fare: 220.18610099999998</br></br>gender: male</br>age: 47.0</br>class: 1st</br>embarked: Cherbourg</br>sibsp: 0.0</br>parch: 0.0</br>_original_yhat_: 0.432015785389703</br>"
          ],
          [
           "</br>id: Henry</br>prediction: 0.487</br>fare: 225.306708</br></br>gender: male</br>age: 47.0</br>class: 1st</br>embarked: Cherbourg</br>sibsp: 0.0</br>parch: 0.0</br>_original_yhat_: 0.432015785389703</br>"
          ],
          [
           "</br>id: Henry</br>prediction: 0.488</br>fare: 230.427315</br></br>gender: male</br>age: 47.0</br>class: 1st</br>embarked: Cherbourg</br>sibsp: 0.0</br>parch: 0.0</br>_original_yhat_: 0.432015785389703</br>"
          ],
          [
           "</br>id: Henry</br>prediction: 0.489</br>fare: 235.54792199999997</br></br>gender: male</br>age: 47.0</br>class: 1st</br>embarked: Cherbourg</br>sibsp: 0.0</br>parch: 0.0</br>_original_yhat_: 0.432015785389703</br>"
          ],
          [
           "</br>id: Henry</br>prediction: 0.491</br>fare: 240.66852899999998</br></br>gender: male</br>age: 47.0</br>class: 1st</br>embarked: Cherbourg</br>sibsp: 0.0</br>parch: 0.0</br>_original_yhat_: 0.432015785389703</br>"
          ],
          [
           "</br>id: Henry</br>prediction: 0.492</br>fare: 245.78913599999998</br></br>gender: male</br>age: 47.0</br>class: 1st</br>embarked: Cherbourg</br>sibsp: 0.0</br>parch: 0.0</br>_original_yhat_: 0.432015785389703</br>"
          ],
          [
           "</br>id: Henry</br>prediction: 0.494</br>fare: 250.909743</br></br>gender: male</br>age: 47.0</br>class: 1st</br>embarked: Cherbourg</br>sibsp: 0.0</br>parch: 0.0</br>_original_yhat_: 0.432015785389703</br>"
          ],
          [
           "</br>id: Henry</br>prediction: 0.495</br>fare: 256.03035</br></br>gender: male</br>age: 47.0</br>class: 1st</br>embarked: Cherbourg</br>sibsp: 0.0</br>parch: 0.0</br>_original_yhat_: 0.432015785389703</br>"
          ],
          [
           "</br>id: Henry</br>prediction: 0.496</br>fare: 261.150957</br></br>gender: male</br>age: 47.0</br>class: 1st</br>embarked: Cherbourg</br>sibsp: 0.0</br>parch: 0.0</br>_original_yhat_: 0.432015785389703</br>"
          ],
          [
           "</br>id: Henry</br>prediction: 0.498</br>fare: 266.271564</br></br>gender: male</br>age: 47.0</br>class: 1st</br>embarked: Cherbourg</br>sibsp: 0.0</br>parch: 0.0</br>_original_yhat_: 0.432015785389703</br>"
          ],
          [
           "</br>id: Henry</br>prediction: 0.499</br>fare: 271.39217099999996</br></br>gender: male</br>age: 47.0</br>class: 1st</br>embarked: Cherbourg</br>sibsp: 0.0</br>parch: 0.0</br>_original_yhat_: 0.432015785389703</br>"
          ],
          [
           "</br>id: Henry</br>prediction: 0.501</br>fare: 276.51277799999997</br></br>gender: male</br>age: 47.0</br>class: 1st</br>embarked: Cherbourg</br>sibsp: 0.0</br>parch: 0.0</br>_original_yhat_: 0.432015785389703</br>"
          ],
          [
           "</br>id: Henry</br>prediction: 0.502</br>fare: 281.633385</br></br>gender: male</br>age: 47.0</br>class: 1st</br>embarked: Cherbourg</br>sibsp: 0.0</br>parch: 0.0</br>_original_yhat_: 0.432015785389703</br>"
          ],
          [
           "</br>id: Henry</br>prediction: 0.503</br>fare: 286.753992</br></br>gender: male</br>age: 47.0</br>class: 1st</br>embarked: Cherbourg</br>sibsp: 0.0</br>parch: 0.0</br>_original_yhat_: 0.432015785389703</br>"
          ],
          [
           "</br>id: Henry</br>prediction: 0.505</br>fare: 291.874599</br></br>gender: male</br>age: 47.0</br>class: 1st</br>embarked: Cherbourg</br>sibsp: 0.0</br>parch: 0.0</br>_original_yhat_: 0.432015785389703</br>"
          ],
          [
           "</br>id: Henry</br>prediction: 0.506</br>fare: 296.995206</br></br>gender: male</br>age: 47.0</br>class: 1st</br>embarked: Cherbourg</br>sibsp: 0.0</br>parch: 0.0</br>_original_yhat_: 0.432015785389703</br>"
          ],
          [
           "</br>id: Henry</br>prediction: 0.508</br>fare: 302.115813</br></br>gender: male</br>age: 47.0</br>class: 1st</br>embarked: Cherbourg</br>sibsp: 0.0</br>parch: 0.0</br>_original_yhat_: 0.432015785389703</br>"
          ],
          [
           "</br>id: Henry</br>prediction: 0.509</br>fare: 307.23641999999995</br></br>gender: male</br>age: 47.0</br>class: 1st</br>embarked: Cherbourg</br>sibsp: 0.0</br>parch: 0.0</br>_original_yhat_: 0.432015785389703</br>"
          ],
          [
           "</br>id: Henry</br>prediction: 0.51</br>fare: 312.35702699999996</br></br>gender: male</br>age: 47.0</br>class: 1st</br>embarked: Cherbourg</br>sibsp: 0.0</br>parch: 0.0</br>_original_yhat_: 0.432015785389703</br>"
          ],
          [
           "</br>id: Henry</br>prediction: 0.512</br>fare: 317.47763399999997</br></br>gender: male</br>age: 47.0</br>class: 1st</br>embarked: Cherbourg</br>sibsp: 0.0</br>parch: 0.0</br>_original_yhat_: 0.432015785389703</br>"
          ],
          [
           "</br>id: Henry</br>prediction: 0.513</br>fare: 322.598241</br></br>gender: male</br>age: 47.0</br>class: 1st</br>embarked: Cherbourg</br>sibsp: 0.0</br>parch: 0.0</br>_original_yhat_: 0.432015785389703</br>"
          ],
          [
           "</br>id: Henry</br>prediction: 0.515</br>fare: 327.718848</br></br>gender: male</br>age: 47.0</br>class: 1st</br>embarked: Cherbourg</br>sibsp: 0.0</br>parch: 0.0</br>_original_yhat_: 0.432015785389703</br>"
          ],
          [
           "</br>id: Henry</br>prediction: 0.516</br>fare: 332.839455</br></br>gender: male</br>age: 47.0</br>class: 1st</br>embarked: Cherbourg</br>sibsp: 0.0</br>parch: 0.0</br>_original_yhat_: 0.432015785389703</br>"
          ],
          [
           "</br>id: Henry</br>prediction: 0.517</br>fare: 337.960062</br></br>gender: male</br>age: 47.0</br>class: 1st</br>embarked: Cherbourg</br>sibsp: 0.0</br>parch: 0.0</br>_original_yhat_: 0.432015785389703</br>"
          ],
          [
           "</br>id: Henry</br>prediction: 0.519</br>fare: 343.080669</br></br>gender: male</br>age: 47.0</br>class: 1st</br>embarked: Cherbourg</br>sibsp: 0.0</br>parch: 0.0</br>_original_yhat_: 0.432015785389703</br>"
          ],
          [
           "</br>id: Henry</br>prediction: 0.52</br>fare: 348.201276</br></br>gender: male</br>age: 47.0</br>class: 1st</br>embarked: Cherbourg</br>sibsp: 0.0</br>parch: 0.0</br>_original_yhat_: 0.432015785389703</br>"
          ],
          [
           "</br>id: Henry</br>prediction: 0.522</br>fare: 353.32188299999996</br></br>gender: male</br>age: 47.0</br>class: 1st</br>embarked: Cherbourg</br>sibsp: 0.0</br>parch: 0.0</br>_original_yhat_: 0.432015785389703</br>"
          ],
          [
           "</br>id: Henry</br>prediction: 0.523</br>fare: 358.44248999999996</br></br>gender: male</br>age: 47.0</br>class: 1st</br>embarked: Cherbourg</br>sibsp: 0.0</br>parch: 0.0</br>_original_yhat_: 0.432015785389703</br>"
          ],
          [
           "</br>id: Henry</br>prediction: 0.524</br>fare: 363.56309699999997</br></br>gender: male</br>age: 47.0</br>class: 1st</br>embarked: Cherbourg</br>sibsp: 0.0</br>parch: 0.0</br>_original_yhat_: 0.432015785389703</br>"
          ],
          [
           "</br>id: Henry</br>prediction: 0.526</br>fare: 368.683704</br></br>gender: male</br>age: 47.0</br>class: 1st</br>embarked: Cherbourg</br>sibsp: 0.0</br>parch: 0.0</br>_original_yhat_: 0.432015785389703</br>"
          ],
          [
           "</br>id: Henry</br>prediction: 0.527</br>fare: 373.804311</br></br>gender: male</br>age: 47.0</br>class: 1st</br>embarked: Cherbourg</br>sibsp: 0.0</br>parch: 0.0</br>_original_yhat_: 0.432015785389703</br>"
          ],
          [
           "</br>id: Henry</br>prediction: 0.529</br>fare: 378.924918</br></br>gender: male</br>age: 47.0</br>class: 1st</br>embarked: Cherbourg</br>sibsp: 0.0</br>parch: 0.0</br>_original_yhat_: 0.432015785389703</br>"
          ],
          [
           "</br>id: Henry</br>prediction: 0.53</br>fare: 384.045525</br></br>gender: male</br>age: 47.0</br>class: 1st</br>embarked: Cherbourg</br>sibsp: 0.0</br>parch: 0.0</br>_original_yhat_: 0.432015785389703</br>"
          ],
          [
           "</br>id: Henry</br>prediction: 0.531</br>fare: 389.16613199999995</br></br>gender: male</br>age: 47.0</br>class: 1st</br>embarked: Cherbourg</br>sibsp: 0.0</br>parch: 0.0</br>_original_yhat_: 0.432015785389703</br>"
          ],
          [
           "</br>id: Henry</br>prediction: 0.533</br>fare: 394.28673899999995</br></br>gender: male</br>age: 47.0</br>class: 1st</br>embarked: Cherbourg</br>sibsp: 0.0</br>parch: 0.0</br>_original_yhat_: 0.432015785389703</br>"
          ],
          [
           "</br>id: Henry</br>prediction: 0.534</br>fare: 399.40734599999996</br></br>gender: male</br>age: 47.0</br>class: 1st</br>embarked: Cherbourg</br>sibsp: 0.0</br>parch: 0.0</br>_original_yhat_: 0.432015785389703</br>"
          ],
          [
           "</br>id: Henry</br>prediction: 0.536</br>fare: 404.52795299999997</br></br>gender: male</br>age: 47.0</br>class: 1st</br>embarked: Cherbourg</br>sibsp: 0.0</br>parch: 0.0</br>_original_yhat_: 0.432015785389703</br>"
          ],
          [
           "</br>id: Henry</br>prediction: 0.537</br>fare: 409.64856</br></br>gender: male</br>age: 47.0</br>class: 1st</br>embarked: Cherbourg</br>sibsp: 0.0</br>parch: 0.0</br>_original_yhat_: 0.432015785389703</br>"
          ],
          [
           "</br>id: Henry</br>prediction: 0.538</br>fare: 414.769167</br></br>gender: male</br>age: 47.0</br>class: 1st</br>embarked: Cherbourg</br>sibsp: 0.0</br>parch: 0.0</br>_original_yhat_: 0.432015785389703</br>"
          ],
          [
           "</br>id: Henry</br>prediction: 0.54</br>fare: 419.889774</br></br>gender: male</br>age: 47.0</br>class: 1st</br>embarked: Cherbourg</br>sibsp: 0.0</br>parch: 0.0</br>_original_yhat_: 0.432015785389703</br>"
          ],
          [
           "</br>id: Henry</br>prediction: 0.541</br>fare: 425.010381</br></br>gender: male</br>age: 47.0</br>class: 1st</br>embarked: Cherbourg</br>sibsp: 0.0</br>parch: 0.0</br>_original_yhat_: 0.432015785389703</br>"
          ],
          [
           "</br>id: Henry</br>prediction: 0.543</br>fare: 430.130988</br></br>gender: male</br>age: 47.0</br>class: 1st</br>embarked: Cherbourg</br>sibsp: 0.0</br>parch: 0.0</br>_original_yhat_: 0.432015785389703</br>"
          ],
          [
           "</br>id: Henry</br>prediction: 0.544</br>fare: 435.25159499999995</br></br>gender: male</br>age: 47.0</br>class: 1st</br>embarked: Cherbourg</br>sibsp: 0.0</br>parch: 0.0</br>_original_yhat_: 0.432015785389703</br>"
          ],
          [
           "</br>id: Henry</br>prediction: 0.545</br>fare: 440.37220199999996</br></br>gender: male</br>age: 47.0</br>class: 1st</br>embarked: Cherbourg</br>sibsp: 0.0</br>parch: 0.0</br>_original_yhat_: 0.432015785389703</br>"
          ],
          [
           "</br>id: Henry</br>prediction: 0.547</br>fare: 445.49280899999997</br></br>gender: male</br>age: 47.0</br>class: 1st</br>embarked: Cherbourg</br>sibsp: 0.0</br>parch: 0.0</br>_original_yhat_: 0.432015785389703</br>"
          ],
          [
           "</br>id: Henry</br>prediction: 0.548</br>fare: 450.613416</br></br>gender: male</br>age: 47.0</br>class: 1st</br>embarked: Cherbourg</br>sibsp: 0.0</br>parch: 0.0</br>_original_yhat_: 0.432015785389703</br>"
          ],
          [
           "</br>id: Henry</br>prediction: 0.55</br>fare: 455.734023</br></br>gender: male</br>age: 47.0</br>class: 1st</br>embarked: Cherbourg</br>sibsp: 0.0</br>parch: 0.0</br>_original_yhat_: 0.432015785389703</br>"
          ],
          [
           "</br>id: Henry</br>prediction: 0.551</br>fare: 460.85463</br></br>gender: male</br>age: 47.0</br>class: 1st</br>embarked: Cherbourg</br>sibsp: 0.0</br>parch: 0.0</br>_original_yhat_: 0.432015785389703</br>"
          ],
          [
           "</br>id: Henry</br>prediction: 0.552</br>fare: 465.975237</br></br>gender: male</br>age: 47.0</br>class: 1st</br>embarked: Cherbourg</br>sibsp: 0.0</br>parch: 0.0</br>_original_yhat_: 0.432015785389703</br>"
          ],
          [
           "</br>id: Henry</br>prediction: 0.554</br>fare: 471.09584399999994</br></br>gender: male</br>age: 47.0</br>class: 1st</br>embarked: Cherbourg</br>sibsp: 0.0</br>parch: 0.0</br>_original_yhat_: 0.432015785389703</br>"
          ],
          [
           "</br>id: Henry</br>prediction: 0.555</br>fare: 476.21645099999995</br></br>gender: male</br>age: 47.0</br>class: 1st</br>embarked: Cherbourg</br>sibsp: 0.0</br>parch: 0.0</br>_original_yhat_: 0.432015785389703</br>"
          ],
          [
           "</br>id: Henry</br>prediction: 0.557</br>fare: 481.33705799999996</br></br>gender: male</br>age: 47.0</br>class: 1st</br>embarked: Cherbourg</br>sibsp: 0.0</br>parch: 0.0</br>_original_yhat_: 0.432015785389703</br>"
          ],
          [
           "</br>id: Henry</br>prediction: 0.558</br>fare: 486.45766499999996</br></br>gender: male</br>age: 47.0</br>class: 1st</br>embarked: Cherbourg</br>sibsp: 0.0</br>parch: 0.0</br>_original_yhat_: 0.432015785389703</br>"
          ],
          [
           "</br>id: Henry</br>prediction: 0.559</br>fare: 491.57827199999997</br></br>gender: male</br>age: 47.0</br>class: 1st</br>embarked: Cherbourg</br>sibsp: 0.0</br>parch: 0.0</br>_original_yhat_: 0.432015785389703</br>"
          ],
          [
           "</br>id: Henry</br>prediction: 0.561</br>fare: 496.698879</br></br>gender: male</br>age: 47.0</br>class: 1st</br>embarked: Cherbourg</br>sibsp: 0.0</br>parch: 0.0</br>_original_yhat_: 0.432015785389703</br>"
          ],
          [
           "</br>id: Henry</br>prediction: 0.562</br>fare: 501.819486</br></br>gender: male</br>age: 47.0</br>class: 1st</br>embarked: Cherbourg</br>sibsp: 0.0</br>parch: 0.0</br>_original_yhat_: 0.432015785389703</br>"
          ],
          [
           "</br>id: Henry</br>prediction: 0.563</br>fare: 506.940093</br></br>gender: male</br>age: 47.0</br>class: 1st</br>embarked: Cherbourg</br>sibsp: 0.0</br>parch: 0.0</br>_original_yhat_: 0.432015785389703</br>"
          ],
          [
           "</br>id: Henry</br>prediction: 0.565</br>fare: 512.0607</br></br>gender: male</br>age: 47.0</br>class: 1st</br>embarked: Cherbourg</br>sibsp: 0.0</br>parch: 0.0</br>_original_yhat_: 0.432015785389703</br>"
          ]
         ],
         "hovertemplate": "%{customdata[0]}<extra></extra>",
         "legendgroup": "Titanic LR Pipeline",
         "line": {
          "color": "#4378bf",
          "dash": "solid",
          "width": 2
         },
         "marker": {
          "symbol": "circle"
         },
         "mode": "lines",
         "name": "Titanic LR Pipeline",
         "opacity": 1,
         "orientation": "v",
         "showlegend": false,
         "type": "scatter",
         "x": [
          0,
          5.120607,
          10.241214,
          15.361820999999999,
          20.482428,
          25,
          25.603035,
          30.723641999999998,
          35.844249,
          40.964856,
          46.085463,
          51.20607,
          56.326677,
          61.447283999999996,
          66.567891,
          71.688498,
          76.80910499999999,
          81.929712,
          87.050319,
          92.170926,
          97.29153299999999,
          102.41214,
          107.532747,
          112.653354,
          117.77396099999999,
          122.89456799999999,
          128.015175,
          133.135782,
          138.25638899999998,
          143.376996,
          148.497603,
          153.61820999999998,
          158.73881699999998,
          163.859424,
          168.980031,
          174.100638,
          179.22124499999998,
          184.341852,
          189.462459,
          194.58306599999997,
          199.70367299999998,
          204.82428,
          209.944887,
          215.065494,
          220.18610099999998,
          225.306708,
          230.427315,
          235.54792199999997,
          240.66852899999998,
          245.78913599999998,
          250.909743,
          256.03035,
          261.150957,
          266.271564,
          271.39217099999996,
          276.51277799999997,
          281.633385,
          286.753992,
          291.874599,
          296.995206,
          302.115813,
          307.23641999999995,
          312.35702699999996,
          317.47763399999997,
          322.598241,
          327.718848,
          332.839455,
          337.960062,
          343.080669,
          348.201276,
          353.32188299999996,
          358.44248999999996,
          363.56309699999997,
          368.683704,
          373.804311,
          378.924918,
          384.045525,
          389.16613199999995,
          394.28673899999995,
          399.40734599999996,
          404.52795299999997,
          409.64856,
          414.769167,
          419.889774,
          425.010381,
          430.130988,
          435.25159499999995,
          440.37220199999996,
          445.49280899999997,
          450.613416,
          455.734023,
          460.85463,
          465.975237,
          471.09584399999994,
          476.21645099999995,
          481.33705799999996,
          486.45766499999996,
          491.57827199999997,
          496.698879,
          501.819486,
          506.940093,
          512.0607
         ],
         "xaxis": "x2",
         "y": [
          0.4252974265475558,
          0.4266713489649693,
          0.42804640401446753,
          0.42942257136460377,
          0.430799830615881,
          0.432015785389703,
          0.43217816130191844,
          0.4335575428906277,
          0.43493795478539593,
          0.4363193763262791,
          0.43770178679120203,
          0.43908516539716635,
          0.44046949130146823,
          0.44185474360292165,
          0.4432409013430906,
          0.444627943507528,
          0.44601584902702285,
          0.4474045967788536,
          0.4487941655880491,
          0.4501845342286558,
          0.4515756814250127,
          0.45296758585303154,
          0.4543602261414846,
          0.455753580873297,
          0.4571476285868475,
          0.45854234777727276,
          0.4599377168977791,
          0.461333714360958,
          0.4627303185401092,
          0.4641275077705674,
          0.4655252603510337,
          0.4669235545449139,
          0.4683223685816593,
          0.46972168065811304,
          0.47112146893986095,
          0.47252171156258566,
          0.4739223866334265,
          0.4753234722323404,
          0.4767249464134695,
          0.4781267872065095,
          0.47952897261808297,
          0.480931480633116,
          0.4823342892162157,
          0.4837373763130526,
          0.48514071985174423,
          0.48654429774424207,
          0.48794808788772,
          0.4893520681659639,
          0.49075621645076545,
          0.4921605106033152,
          0.4935649284755983,
          0.4949694479117906,
          0.4963740467496572,
          0.49777870282195,
          0.4991833939578075,
          0.5005880979841544,
          0.5019927927271011,
          0.5033974560133447,
          0.5048020656715684,
          0.5062065995338407,
          0.507611035437016,
          0.5090153512241322,
          0.5104195247458089,
          0.5118235338616438,
          0.5132273564416092,
          0.5146309703674454,
          0.5160343535340534,
          0.5174374838508857,
          0.5188403392433361,
          0.5202428976541251,
          0.5216451370446855,
          0.5230470353965437,
          0.524448570712699,
          0.5258497210190006,
          0.52725046436552,
          0.528650778827922,
          0.5300506425088307,
          0.5314500335391933,
          0.5328489300796384,
          0.5342473103218327,
          0.535645152489831,
          0.5370424348414241,
          0.5384391356694804,
          0.5398352333032843,
          0.541230706109869,
          0.5426255324953445,
          0.5440196909062199,
          0.5454131598307218,
          0.5468059178001052,
          0.5481979433899605,
          0.5495892152215133,
          0.5509797119629192,
          0.5523694123305518,
          0.553758295090285,
          0.555146339058767,
          0.5565335231046912,
          0.5579198261500556,
          0.5593052271714201,
          0.560689705201152,
          0.5620732393286685,
          0.5634558087016682,
          0.5648373925273578
         ],
         "yaxis": "y2"
        },
        {
         "customdata": [
          [
           "</br>id: Henry</br>prediction: 0.307</br>age: 47.0</br></br>gender: male</br>class: 1st</br>embarked: Cherbourg</br>fare: 25.0</br>sibsp: 0.0</br>parch: 0.0</br>_original_yhat_: 0.30672467296984096</br>"
          ],
          [
           "</br>id: Henry</br>prediction: 0.432</br>age: 47.0</br></br>gender: male</br>class: 1st</br>embarked: Cherbourg</br>fare: 25.0</br>sibsp: 0.0</br>parch: 0.0</br>_original_yhat_: 0.432015785389703</br>"
          ]
         ],
         "hovertemplate": "%{customdata[0]}<extra></extra>",
         "legendgroup": "",
         "marker": {
          "color": "#371ea3",
          "size": 10,
          "symbol": "circle"
         },
         "mode": "markers",
         "name": "",
         "opacity": 1,
         "orientation": "v",
         "showlegend": false,
         "type": "scatter",
         "x": [
          47,
          47
         ],
         "xaxis": "x",
         "y": [
          0.30672467296984096,
          0.432015785389703
         ],
         "yaxis": "y"
        },
        {
         "customdata": [
          [
           "</br>id: Henry</br>prediction: 0.307</br>fare: 25.0</br></br>gender: male</br>age: 47.0</br>class: 1st</br>embarked: Cherbourg</br>sibsp: 0.0</br>parch: 0.0</br>_original_yhat_: 0.30672467296984096</br>"
          ],
          [
           "</br>id: Henry</br>prediction: 0.432</br>fare: 25.0</br></br>gender: male</br>age: 47.0</br>class: 1st</br>embarked: Cherbourg</br>sibsp: 0.0</br>parch: 0.0</br>_original_yhat_: 0.432015785389703</br>"
          ]
         ],
         "hovertemplate": "%{customdata[0]}<extra></extra>",
         "legendgroup": "",
         "marker": {
          "color": "#371ea3",
          "size": 10,
          "symbol": "circle"
         },
         "mode": "markers",
         "name": "",
         "opacity": 1,
         "orientation": "v",
         "showlegend": false,
         "type": "scatter",
         "x": [
          25,
          25
         ],
         "xaxis": "x2",
         "y": [
          0.30672467296984096,
          0.432015785389703
         ],
         "yaxis": "y2"
        }
       ],
       "layout": {
        "annotations": [
         {
          "font": {
           "size": 13
          },
          "showarrow": false,
          "text": "age",
          "x": 0.2375,
          "xanchor": "center",
          "xref": "paper",
          "y": 1,
          "yanchor": "bottom",
          "yref": "paper"
         },
         {
          "font": {
           "size": 13
          },
          "showarrow": false,
          "text": "fare",
          "x": 0.7625,
          "xanchor": "center",
          "xref": "paper",
          "y": 1,
          "yanchor": "bottom",
          "yref": "paper"
         },
         {
          "font": {
           "size": 13
          },
          "showarrow": false,
          "text": "prediction",
          "textangle": -90,
          "x": -0.07,
          "xref": "paper",
          "y": 0.5,
          "yref": "paper"
         }
        ],
        "font": {
         "color": "#371ea3"
        },
        "height": 489,
        "hoverlabel": {
         "bgcolor": "rgba(0,0,0,0.8)"
        },
        "hovermode": "closest",
        "legend": {
         "font": {
          "size": 11
         },
         "itemsizing": "constant",
         "orientation": "h",
         "title": {
          "font": {
           "size": 12
          },
          "text": "label"
         },
         "tracegroupgap": 0,
         "x": 1,
         "xanchor": "right",
         "y": 1.0613496932515338,
         "yanchor": "bottom"
        },
        "margin": {
         "b": 71,
         "r": 30,
         "t": 78
        },
        "template": {
         "data": {
          "scatter": [
           {
            "type": "scatter"
           }
          ]
         }
        },
        "title": {
         "font": {
          "size": 16
         },
         "text": "Ceteris Paribus Profiles",
         "x": 0.15
        },
        "xaxis": {
         "anchor": "y",
         "automargin": true,
         "domain": [
          0,
          0.475
         ],
         "fixedrange": true,
         "gridwidth": 2,
         "showticklabels": true,
         "tickcolor": "white",
         "ticklen": 3,
         "ticks": "outside",
         "title": {
          "text": ""
         },
         "type": "linear",
         "zeroline": false
        },
        "xaxis2": {
         "anchor": "y2",
         "automargin": true,
         "domain": [
          0.525,
          1
         ],
         "fixedrange": true,
         "gridwidth": 2,
         "showticklabels": true,
         "tickcolor": "white",
         "ticklen": 3,
         "ticks": "outside",
         "title": {
          "text": ""
         },
         "type": "linear",
         "zeroline": false
        },
        "yaxis": {
         "anchor": "x",
         "automargin": true,
         "domain": [
          0,
          1
         ],
         "fixedrange": true,
         "gridwidth": 2,
         "range": [
          0.17292067971786376,
          0.8511588038805704
         ],
         "tickcolor": "white",
         "ticklen": 3,
         "ticks": "outside",
         "title": {
          "text": ""
         },
         "type": "linear",
         "zeroline": false
        },
        "yaxis2": {
         "anchor": "x2",
         "automargin": true,
         "domain": [
          0,
          1
         ],
         "fixedrange": true,
         "gridwidth": 2,
         "matches": "y",
         "range": [
          0.17292067971786376,
          0.8511588038805704
         ],
         "showticklabels": false,
         "tickcolor": "white",
         "ticklen": 3,
         "ticks": "outside",
         "title": {
          "text": ""
         },
         "type": "linear",
         "zeroline": false
        }
       }
      }
     },
     "metadata": {},
     "output_type": "display_data"
    }
   ],
   "source": [
    "cp_henry2 = titanic_lr_exp.predict_profile(henry)\n",
    "cp_henry.plot(cp_henry2, variables = ['age', 'fare'])"
   ]
  }
 ],
 "metadata": {
  "kernelspec": {
   "display_name": "base",
   "language": "python",
   "name": "python3"
  },
  "language_info": {
   "codemirror_mode": {
    "name": "ipython",
    "version": 3
   },
   "file_extension": ".py",
   "mimetype": "text/x-python",
   "name": "python",
   "nbconvert_exporter": "python",
   "pygments_lexer": "ipython3",
   "version": "3.9.13"
  },
  "orig_nbformat": 4,
  "vscode": {
   "interpreter": {
    "hash": "2391778b685347cadac7093f2020ff559e06ee771e9dafe75e8ab1e16b0e24d1"
   }
  }
 },
 "nbformat": 4,
 "nbformat_minor": 2
}
