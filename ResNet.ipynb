{
 "cells": [
  {
   "cell_type": "code",
   "execution_count": 1,
   "metadata": {},
   "outputs": [],
   "source": [
    "import torch, os\n",
    "import torch.nn as nn\n",
    "import torch.optim as optim\n",
    "import torchvision.datasets as datasets\n",
    "import torch.utils.data as data\n",
    "from torch.utils.data import DataLoader\n",
    "import torchvision.transforms as transforms\n",
    "from torchvision.models import resnet18, ResNet18_Weights\n",
    "from torch.nn import functional as F\n",
    "\n",
    "from pytorch_lightning import LightningModule, Trainer\n",
    "import torchmetrics\n"
   ]
  },
  {
   "cell_type": "code",
   "execution_count": 2,
   "metadata": {},
   "outputs": [],
   "source": [
    "# import neptune.new as neptune\n",
    "from pytorch_lightning.loggers import NeptuneLogger\n",
    "\n",
    "# run = neptune.init_run(\n",
    "#     project=\"kaori/XAI\",  \n",
    "#     api_token=\"eyJhcGlfYWRkcmVzcyI6Imh0dHBzOi8vYXBwLm5lcHR1bmUuYWkiLCJhcGlfdXJsIjoiaHR0cHM6Ly9hcHAubmVwdHVuZS5haSIsImFwaV9rZXkiOiIyZjZiMDA2YS02MDM3LTQxZjQtOTE4YS1jODZkMTJjNGJlMDYifQ==\",\n",
    "# )\n",
    "\n",
    "neptune_logger = NeptuneLogger(\n",
    "    api_key=\"eyJhcGlfYWRkcmVzcyI6Imh0dHBzOi8vYXBwLm5lcHR1bmUuYWkiLCJhcGlfdXJsIjoiaHR0cHM6Ly9hcHAubmVwdHVuZS5haSIsImFwaV9rZXkiOiIyZjZiMDA2YS02MDM3LTQxZjQtOTE4YS1jODZkMTJjNGJlMDYifQ==\",\n",
    "    project=\"kaori/XAI\",\n",
    "    # tags=[\"simple\", \"showcase\"],\n",
    "    log_model_checkpoints=False,\n",
    ")\n",
    "\n",
    "params = {\n",
    "    #dataset\n",
    "    \"dataset\": \"Caltech256\",\n",
    "    \"data_dir\": \"dataset/Caltech1-20/\",\n",
    "    \"input_sz\": (224, 224),\n",
    "    \"n_classes\": 20,\n",
    "\n",
    "    #model\n",
    "    \"model\": \"ResNet18\",\n",
    "\n",
    "    #Training\n",
    "    \"lr\": 1e-4,\n",
    "    \"bs\": 64,\n",
    "    \"max_epochs\": 10,\n",
    "    \n",
    "    #checkpoint\n",
    "    \"ckpt_path\": \"1\"\n",
    "    \n",
    "}\n",
    "# run[\"parameters\"] = params"
   ]
  },
  {
   "cell_type": "code",
   "execution_count": 3,
   "metadata": {},
   "outputs": [],
   "source": [
    "data_transforms = {\n",
    "    'train': transforms.Compose([\n",
    "        transforms.RandomRotation(20),\n",
    "        transforms.RandomHorizontalFlip(0.5),\n",
    "        transforms.Resize(params['input_sz']),\n",
    "        transforms.ToTensor(),\n",
    "        transforms.Normalize([0.4802, 0.4481, 0.3975], [0.2302, 0.2265, 0.2262]),\n",
    "    ]),\n",
    "    'val': transforms.Compose([\n",
    "        transforms.ToTensor(),\n",
    "        transforms.Resize(params['input_sz']),\n",
    "        transforms.Normalize([0.4802, 0.4481, 0.3975], [0.2302, 0.2265, 0.2262]),\n",
    "    ]),\n",
    "    'test': transforms.Compose([\n",
    "        transforms.Resize(params['input_sz']),\n",
    "        transforms.ToTensor(),\n",
    "        transforms.Normalize([0.4802, 0.4481, 0.3975], [0.2302, 0.2265, 0.2262]),\n",
    "    ])\n",
    "}\n",
    "\n",
    "dataset = datasets.ImageFolder(params[\"data_dir\"], transform=data_transforms[\"val\"])\n",
    "n = len(dataset)\n",
    "train_set, val_set = data.random_split(dataset, [int(0.8 * n), n - int(0.8 * n)])\n",
    "\n",
    "trainloader = DataLoader(train_set, batch_size=params[\"bs\"], shuffle=True, num_workers=4)\n",
    "valloader = DataLoader(val_set, batch_size=params[\"bs\"], shuffle=False, num_workers=4)"
   ]
  },
  {
   "cell_type": "code",
   "execution_count": 4,
   "metadata": {},
   "outputs": [],
   "source": [
    "class Classifer(LightningModule):\n",
    "    def __init__(self, n_classes):\n",
    "        super().__init__()\n",
    "        self.model_ft = resnet18(weights=ResNet18_Weights.IMAGENET1K_V1)\n",
    "        # self.model_ft.avgpool = nn.AdaptiveAvgPool2d(1)\n",
    "        n_features = self.model_ft.fc.in_features\n",
    "        self.model_ft.fc = nn.Linear(n_features, n_classes)\n",
    "\n",
    "        self.train_acc = torchmetrics.Accuracy(task=\"multiclass\", num_classes=n_classes)\n",
    "        self.valid_acc = torchmetrics.Accuracy(task=\"multiclass\", num_classes=n_classes)\n",
    "        \n",
    "\n",
    "    def forward(self, x):\n",
    "        # out = self.model_ft(x)\n",
    "       \n",
    "        return self.model_ft(x)\n",
    "\n",
    "    def training_step(self, batch, batch_idx):\n",
    "        x, y = batch\n",
    "        y_hat = self(x)\n",
    "        loss = F.cross_entropy(y_hat, y)\n",
    "        self.log(\"batch/train_loss\", loss, prog_bar=False)\n",
    "\n",
    "        y_pred = y_hat.argmax(axis=1)\n",
    "        self.train_acc(y_pred, y)\n",
    "        self.log(\"batch/train_acc\", self.train_acc, prog_bar=True)\n",
    "\n",
    "        return {\"loss\": loss}\n",
    "\n",
    "    def training_epoch_end(self, outputs):\n",
    "        self.log('train_acc', self.train_acc.compute())\n",
    "        self.train_acc.reset()\n",
    "    \n",
    "    def validation_step(self, batch, batch_idx):\n",
    "        x, y = batch\n",
    "        y_hat = self(x)\n",
    "        y_pred = y_hat.argmax(axis=1)\n",
    "       \n",
    "        self.valid_acc(y_pred, y)\n",
    "\n",
    "    def validation_epoch_end(self, outputs):\n",
    "        self.log('val_acc', self.valid_acc.compute())\n",
    "        self.valid_acc.reset()\n",
    "\n",
    "    def configure_optimizers(self):\n",
    "        return torch.optim.Adam(self.parameters(), lr=params[\"lr\"])"
   ]
  },
  {
   "cell_type": "code",
   "execution_count": 5,
   "metadata": {},
   "outputs": [
    {
     "name": "stdout",
     "output_type": "stream",
     "text": [
      "https://app.neptune.ai/kaori/XAI/e/XAI-41\n",
      "Remember to stop your run once you’ve finished logging your metadata (https://docs.neptune.ai/api/run#stop). It will be stopped automatically only when the notebook kernel/interactive console is terminated.\n"
     ]
    },
    {
     "name": "stderr",
     "output_type": "stream",
     "text": [
      "c:\\Users\\197796\\Anaconda3\\envs\\torch\\lib\\site-packages\\neptune\\common\\deprecation.py:45: NeptuneDeprecationWarning: The object you're logging will be implicitly cast to a string. We'll end support of this behavior in `neptune-client==1.0.0`. To log the object as a string, use `str(object)` or `repr(object)` instead. For details, see https://docs.neptune.ai/setup/neptune-client_1-0_release_changes\n",
      "  warnings.warn(\n",
      "GPU available: True (cuda), used: True\n",
      "TPU available: False, using: 0 TPU cores\n",
      "IPU available: False, using: 0 IPUs\n",
      "HPU available: False, using: 0 HPUs\n",
      "LOCAL_RANK: 0 - CUDA_VISIBLE_DEVICES: [0]\n",
      "\n",
      "  | Name      | Type               | Params\n",
      "-------------------------------------------------\n",
      "0 | model_ft  | ResNet             | 11.2 M\n",
      "1 | train_acc | MulticlassAccuracy | 0     \n",
      "2 | valid_acc | MulticlassAccuracy | 0     \n",
      "-------------------------------------------------\n",
      "11.2 M    Trainable params\n",
      "0         Non-trainable params\n",
      "11.2 M    Total params\n",
      "44.747    Total estimated model params size (MB)\n"
     ]
    },
    {
     "data": {
      "application/vnd.jupyter.widget-view+json": {
       "model_id": "ca096ad3d4934bf284ffecb115ec460a",
       "version_major": 2,
       "version_minor": 0
      },
      "text/plain": [
       "Sanity Checking: 0it [00:00, ?it/s]"
      ]
     },
     "metadata": {},
     "output_type": "display_data"
    },
    {
     "name": "stderr",
     "output_type": "stream",
     "text": [
      "c:\\Users\\197796\\Anaconda3\\envs\\torch\\lib\\site-packages\\pytorch_lightning\\trainer\\trainer.py:1609: PossibleUserWarning: The number of training batches (32) is smaller than the logging interval Trainer(log_every_n_steps=50). Set a lower value for log_every_n_steps if you want to see logs for the training epoch.\n",
      "  rank_zero_warn(\n"
     ]
    },
    {
     "data": {
      "application/vnd.jupyter.widget-view+json": {
       "model_id": "6c058cee2a084ecf90363e907ca7e3bc",
       "version_major": 2,
       "version_minor": 0
      },
      "text/plain": [
       "Training: 0it [00:00, ?it/s]"
      ]
     },
     "metadata": {},
     "output_type": "display_data"
    },
    {
     "data": {
      "application/vnd.jupyter.widget-view+json": {
       "model_id": "6cb97703bdc84036850bd33666524667",
       "version_major": 2,
       "version_minor": 0
      },
      "text/plain": [
       "Validation: 0it [00:00, ?it/s]"
      ]
     },
     "metadata": {},
     "output_type": "display_data"
    },
    {
     "data": {
      "application/vnd.jupyter.widget-view+json": {
       "model_id": "43e4baf43dd74f3da02a62a21c76547d",
       "version_major": 2,
       "version_minor": 0
      },
      "text/plain": [
       "Validation: 0it [00:00, ?it/s]"
      ]
     },
     "metadata": {},
     "output_type": "display_data"
    },
    {
     "data": {
      "application/vnd.jupyter.widget-view+json": {
       "model_id": "71a7dcda704f4ffc88e545d392e5986a",
       "version_major": 2,
       "version_minor": 0
      },
      "text/plain": [
       "Validation: 0it [00:00, ?it/s]"
      ]
     },
     "metadata": {},
     "output_type": "display_data"
    },
    {
     "data": {
      "application/vnd.jupyter.widget-view+json": {
       "model_id": "094c452c20454c59bd0084e5dce6fda4",
       "version_major": 2,
       "version_minor": 0
      },
      "text/plain": [
       "Validation: 0it [00:00, ?it/s]"
      ]
     },
     "metadata": {},
     "output_type": "display_data"
    },
    {
     "data": {
      "application/vnd.jupyter.widget-view+json": {
       "model_id": "b8ac1c65107d4756ab8efbfcd3a3becc",
       "version_major": 2,
       "version_minor": 0
      },
      "text/plain": [
       "Validation: 0it [00:00, ?it/s]"
      ]
     },
     "metadata": {},
     "output_type": "display_data"
    },
    {
     "data": {
      "application/vnd.jupyter.widget-view+json": {
       "model_id": "f28ceadf952e45b8bc7c5191e6011b86",
       "version_major": 2,
       "version_minor": 0
      },
      "text/plain": [
       "Validation: 0it [00:00, ?it/s]"
      ]
     },
     "metadata": {},
     "output_type": "display_data"
    },
    {
     "data": {
      "application/vnd.jupyter.widget-view+json": {
       "model_id": "734bd15f34604e22bbab3fd01c280020",
       "version_major": 2,
       "version_minor": 0
      },
      "text/plain": [
       "Validation: 0it [00:00, ?it/s]"
      ]
     },
     "metadata": {},
     "output_type": "display_data"
    },
    {
     "data": {
      "application/vnd.jupyter.widget-view+json": {
       "model_id": "c14418f9924a438f95ec36ddbd787b7d",
       "version_major": 2,
       "version_minor": 0
      },
      "text/plain": [
       "Validation: 0it [00:00, ?it/s]"
      ]
     },
     "metadata": {},
     "output_type": "display_data"
    },
    {
     "data": {
      "application/vnd.jupyter.widget-view+json": {
       "model_id": "d1d972e40b11442abae973ae08386b9a",
       "version_major": 2,
       "version_minor": 0
      },
      "text/plain": [
       "Validation: 0it [00:00, ?it/s]"
      ]
     },
     "metadata": {},
     "output_type": "display_data"
    },
    {
     "data": {
      "application/vnd.jupyter.widget-view+json": {
       "model_id": "566e0bd4439d42fe80b77ad40fd51b76",
       "version_major": 2,
       "version_minor": 0
      },
      "text/plain": [
       "Validation: 0it [00:00, ?it/s]"
      ]
     },
     "metadata": {},
     "output_type": "display_data"
    },
    {
     "name": "stderr",
     "output_type": "stream",
     "text": [
      "`Trainer.fit` stopped: `max_epochs=10` reached.\n"
     ]
    },
    {
     "ename": "TypeError",
     "evalue": "finalize() missing 1 required positional argument: 'status'",
     "output_type": "error",
     "traceback": [
      "\u001b[1;31m---------------------------------------------------------------------------\u001b[0m",
      "\u001b[1;31mTypeError\u001b[0m                                 Traceback (most recent call last)",
      "Cell \u001b[1;32mIn[5], line 24\u001b[0m\n\u001b[0;32m     22\u001b[0m \u001b[39m# train the model log metadata to the Neptune run\u001b[39;00m\n\u001b[0;32m     23\u001b[0m trainer\u001b[39m.\u001b[39mfit(model\u001b[39m=\u001b[39mmodel, train_dataloaders\u001b[39m=\u001b[39mtrainloader, val_dataloaders\u001b[39m=\u001b[39mvalloader)\n\u001b[1;32m---> 24\u001b[0m neptune_logger\u001b[39m.\u001b[39;49mfinalize()\n",
      "File \u001b[1;32mc:\\Users\\197796\\Anaconda3\\envs\\torch\\lib\\site-packages\\lightning_utilities\\core\\rank_zero.py:24\u001b[0m, in \u001b[0;36mrank_zero_only.<locals>.wrapped_fn\u001b[1;34m(*args, **kwargs)\u001b[0m\n\u001b[0;32m     22\u001b[0m     \u001b[39mraise\u001b[39;00m \u001b[39mRuntimeError\u001b[39;00m(\u001b[39m\"\u001b[39m\u001b[39mThe `rank_zero_only.rank` needs to be set before use\u001b[39m\u001b[39m\"\u001b[39m)\n\u001b[0;32m     23\u001b[0m \u001b[39mif\u001b[39;00m rank \u001b[39m==\u001b[39m \u001b[39m0\u001b[39m:\n\u001b[1;32m---> 24\u001b[0m     \u001b[39mreturn\u001b[39;00m fn(\u001b[39m*\u001b[39margs, \u001b[39m*\u001b[39m\u001b[39m*\u001b[39mkwargs)\n\u001b[0;32m     25\u001b[0m \u001b[39mreturn\u001b[39;00m \u001b[39mNone\u001b[39;00m\n",
      "\u001b[1;31mTypeError\u001b[0m: finalize() missing 1 required positional argument: 'status'"
     ]
    }
   ],
   "source": [
    "from pytorch_lightning.callbacks import ModelCheckpoint\n",
    "torch.set_float32_matmul_precision('medium')\n",
    "\n",
    "model = Classifer(params[\"n_classes\"])\n",
    "\n",
    "# (neptune) log hyper-parameters\n",
    "neptune_logger.log_hyperparams(params=params)\n",
    "\n",
    "checkpoint_callback = ModelCheckpoint(dirpath=os.path.join(\"model\", params[\"ckpt_path\"]), save_top_k=2, monitor=\"val_acc\", mode=\"max\")\n",
    "\n",
    "# (neptune) initialize a trainer and pass neptune_logger\n",
    "trainer = Trainer(\n",
    "    logger=neptune_logger,\n",
    "    max_epochs=params[\"max_epochs\"],\n",
    "    accelerator=\"gpu\",\n",
    "    devices=1,\n",
    "    callbacks=[checkpoint_callback]\n",
    ")\n",
    "\n",
    "\n",
    "\n",
    "# train the model log metadata to the Neptune run\n",
    "trainer.fit(model=model, train_dataloaders=trainloader, val_dataloaders=valloader)\n",
    "neptune_logger.finalize(status=)"
   ]
  },
  {
   "cell_type": "code",
   "execution_count": null,
   "metadata": {},
   "outputs": [],
   "source": []
  }
 ],
 "metadata": {
  "kernelspec": {
   "display_name": "torch",
   "language": "python",
   "name": "python3"
  },
  "language_info": {
   "codemirror_mode": {
    "name": "ipython",
    "version": 3
   },
   "file_extension": ".py",
   "mimetype": "text/x-python",
   "name": "python",
   "nbconvert_exporter": "python",
   "pygments_lexer": "ipython3",
   "version": "3.9.16"
  },
  "orig_nbformat": 4,
  "vscode": {
   "interpreter": {
    "hash": "143c73a682c73645a3aa63037b418bde74df3754b1886d2056eef63f9ffb5278"
   }
  }
 },
 "nbformat": 4,
 "nbformat_minor": 2
}
