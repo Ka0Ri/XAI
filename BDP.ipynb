{
 "cells": [
  {
   "cell_type": "code",
   "execution_count": 2,
   "metadata": {},
   "outputs": [
    {
     "name": "stdout",
     "output_type": "stream",
     "text": [
      "      gender   age             class     embarked   fare  sibsp  parch\n",
      "0       male  42.0               3rd  Southampton   7.11      0      0\n",
      "1       male  13.0               3rd  Southampton  20.05      0      2\n",
      "2       male  16.0               3rd  Southampton  20.05      1      1\n",
      "3     female  39.0               3rd  Southampton  20.05      1      1\n",
      "4     female  16.0               3rd  Southampton   7.13      0      0\n",
      "...      ...   ...               ...          ...    ...    ...    ...\n",
      "2202    male  41.0         deck crew      Belfast   0.00      0      0\n",
      "2203    male  40.0  victualling crew  Southampton   0.00      0      0\n",
      "2204    male  32.0  engineering crew  Southampton   0.00      0      0\n",
      "2205    male  20.0  restaurant staff  Southampton   0.00      0      0\n",
      "2206    male  26.0  restaurant staff  Southampton   0.00      0      0\n",
      "\n",
      "[2207 rows x 7 columns]\n"
     ]
    }
   ],
   "source": [
    "import dalex as dx\n",
    "titanic = dx.datasets.load_titanic()\n",
    "X = titanic.drop(columns='survived')\n",
    "y = titanic.survived\n",
    "\n",
    "print(X)"
   ]
  },
  {
   "cell_type": "code",
   "execution_count": 3,
   "metadata": {},
   "outputs": [],
   "source": [
    "from sklearn.preprocessing import StandardScaler, OneHotEncoder\n",
    "from sklearn.compose import make_column_transformer\n",
    "from sklearn.pipeline import make_pipeline\n",
    "\n",
    "preprocess = make_column_transformer(\n",
    "    (StandardScaler(), ['age', 'fare', 'parch', 'sibsp']),\n",
    "    (OneHotEncoder(), ['gender', 'class', 'embarked']))"
   ]
  },
  {
   "cell_type": "code",
   "execution_count": 4,
   "metadata": {},
   "outputs": [
    {
     "data": {
      "text/plain": [
       "Pipeline(steps=[('columntransformer',\n",
       "                 ColumnTransformer(transformers=[('standardscaler',\n",
       "                                                  StandardScaler(),\n",
       "                                                  ['age', 'fare', 'parch',\n",
       "                                                   'sibsp']),\n",
       "                                                 ('onehotencoder',\n",
       "                                                  OneHotEncoder(),\n",
       "                                                  ['gender', 'class',\n",
       "                                                   'embarked'])])),\n",
       "                ('randomforestclassifier',\n",
       "                 RandomForestClassifier(max_depth=3, n_estimators=500))])"
      ]
     },
     "execution_count": 4,
     "metadata": {},
     "output_type": "execute_result"
    }
   ],
   "source": [
    "from sklearn.ensemble import RandomForestClassifier\n",
    "\n",
    "titanic_rf = make_pipeline(\n",
    "    preprocess,\n",
    "    RandomForestClassifier(max_depth = 3, n_estimators = 500))\n",
    "titanic_rf.fit(X, y)"
   ]
  },
  {
   "cell_type": "code",
   "execution_count": 5,
   "metadata": {},
   "outputs": [
    {
     "name": "stdout",
     "output_type": "stream",
     "text": [
      "Preparation of a new explainer is initiated\n",
      "\n",
      "  -> data              : 2207 rows 7 cols\n",
      "  -> target variable   : Parameter 'y' was a pandas.Series. Converted to a numpy.ndarray.\n",
      "  -> target variable   : 2207 values\n",
      "  -> model_class       : sklearn.ensemble._forest.RandomForestClassifier (default)\n",
      "  -> label             : Titanic RF Pipeline\n",
      "  -> predict function  : <function yhat_proba_default at 0x000002884E4C5040> will be used (default)\n",
      "  -> predict function  : Accepts only pandas.DataFrame, numpy.ndarray causes problems.\n",
      "  -> predicted values  : min = 0.165, mean = 0.322, max = 0.894\n",
      "  -> model type        : classification will be used (default)\n",
      "  -> residual function : difference between y and yhat (default)\n",
      "  -> residuals         : min = -0.826, mean = 0.000118, max = 0.832\n",
      "  -> model_info        : package sklearn\n",
      "\n",
      "A new explainer has been created!\n"
     ]
    }
   ],
   "source": [
    "import pandas as pd\n",
    "henry = pd.DataFrame({'gender'   : ['male'],\n",
    "                       'age'     : [47],\n",
    "                       'class'   : ['1st'],\n",
    "                       'embarked': ['Cherbourg'],\n",
    "                       'fare'    : [25],\n",
    "                       'sibsp'   : [0],\n",
    "                       'parch'   : [0]},\n",
    "                      index = ['Henry'])\n",
    "\n",
    "import dalex as dx\n",
    "titanic_rf_exp = dx.Explainer(titanic_rf, X, y, \n",
    "                  label = \"Titanic RF Pipeline\")"
   ]
  },
  {
   "cell_type": "code",
   "execution_count": 6,
   "metadata": {},
   "outputs": [
    {
     "data": {
      "text/html": [
       "<div>\n",
       "<style scoped>\n",
       "    .dataframe tbody tr th:only-of-type {\n",
       "        vertical-align: middle;\n",
       "    }\n",
       "\n",
       "    .dataframe tbody tr th {\n",
       "        vertical-align: top;\n",
       "    }\n",
       "\n",
       "    .dataframe thead th {\n",
       "        text-align: right;\n",
       "    }\n",
       "</style>\n",
       "<table border=\"1\" class=\"dataframe\">\n",
       "  <thead>\n",
       "    <tr style=\"text-align: right;\">\n",
       "      <th></th>\n",
       "      <th>variable_name</th>\n",
       "      <th>variable_value</th>\n",
       "      <th>variable</th>\n",
       "      <th>cumulative</th>\n",
       "      <th>contribution</th>\n",
       "      <th>sign</th>\n",
       "      <th>position</th>\n",
       "      <th>label</th>\n",
       "    </tr>\n",
       "  </thead>\n",
       "  <tbody>\n",
       "    <tr>\n",
       "      <th>0</th>\n",
       "      <td>intercept</td>\n",
       "      <td></td>\n",
       "      <td>intercept</td>\n",
       "      <td>0.322038</td>\n",
       "      <td>0.322038</td>\n",
       "      <td>1.0</td>\n",
       "      <td>8</td>\n",
       "      <td>Titanic RF Pipeline</td>\n",
       "    </tr>\n",
       "    <tr>\n",
       "      <th>1</th>\n",
       "      <td>class</td>\n",
       "      <td>1st</td>\n",
       "      <td>class = 1st</td>\n",
       "      <td>0.389730</td>\n",
       "      <td>0.067692</td>\n",
       "      <td>1.0</td>\n",
       "      <td>7</td>\n",
       "      <td>Titanic RF Pipeline</td>\n",
       "    </tr>\n",
       "    <tr>\n",
       "      <th>2</th>\n",
       "      <td>embarked</td>\n",
       "      <td>Cherbourg</td>\n",
       "      <td>embarked = Cherbourg</td>\n",
       "      <td>0.416254</td>\n",
       "      <td>0.026524</td>\n",
       "      <td>1.0</td>\n",
       "      <td>6</td>\n",
       "      <td>Titanic RF Pipeline</td>\n",
       "    </tr>\n",
       "    <tr>\n",
       "      <th>3</th>\n",
       "      <td>fare</td>\n",
       "      <td>25.0</td>\n",
       "      <td>fare = 25.0</td>\n",
       "      <td>0.428857</td>\n",
       "      <td>0.012603</td>\n",
       "      <td>1.0</td>\n",
       "      <td>5</td>\n",
       "      <td>Titanic RF Pipeline</td>\n",
       "    </tr>\n",
       "    <tr>\n",
       "      <th>4</th>\n",
       "      <td>sibsp</td>\n",
       "      <td>0.0</td>\n",
       "      <td>sibsp = 0.0</td>\n",
       "      <td>0.428587</td>\n",
       "      <td>-0.000270</td>\n",
       "      <td>-1.0</td>\n",
       "      <td>4</td>\n",
       "      <td>Titanic RF Pipeline</td>\n",
       "    </tr>\n",
       "    <tr>\n",
       "      <th>5</th>\n",
       "      <td>parch</td>\n",
       "      <td>0.0</td>\n",
       "      <td>parch = 0.0</td>\n",
       "      <td>0.425201</td>\n",
       "      <td>-0.003385</td>\n",
       "      <td>-1.0</td>\n",
       "      <td>3</td>\n",
       "      <td>Titanic RF Pipeline</td>\n",
       "    </tr>\n",
       "    <tr>\n",
       "      <th>6</th>\n",
       "      <td>age</td>\n",
       "      <td>47.0</td>\n",
       "      <td>age = 47.0</td>\n",
       "      <td>0.417551</td>\n",
       "      <td>-0.007650</td>\n",
       "      <td>-1.0</td>\n",
       "      <td>2</td>\n",
       "      <td>Titanic RF Pipeline</td>\n",
       "    </tr>\n",
       "    <tr>\n",
       "      <th>7</th>\n",
       "      <td>gender</td>\n",
       "      <td>male</td>\n",
       "      <td>gender = male</td>\n",
       "      <td>0.304733</td>\n",
       "      <td>-0.112818</td>\n",
       "      <td>-1.0</td>\n",
       "      <td>1</td>\n",
       "      <td>Titanic RF Pipeline</td>\n",
       "    </tr>\n",
       "    <tr>\n",
       "      <th>8</th>\n",
       "      <td></td>\n",
       "      <td></td>\n",
       "      <td>prediction</td>\n",
       "      <td>0.304733</td>\n",
       "      <td>0.304733</td>\n",
       "      <td>1.0</td>\n",
       "      <td>0</td>\n",
       "      <td>Titanic RF Pipeline</td>\n",
       "    </tr>\n",
       "  </tbody>\n",
       "</table>\n",
       "</div>"
      ],
      "text/plain": [
       "  variable_name variable_value              variable  cumulative  \\\n",
       "0     intercept                            intercept    0.322038   \n",
       "1         class            1st           class = 1st    0.389730   \n",
       "2      embarked      Cherbourg  embarked = Cherbourg    0.416254   \n",
       "3          fare           25.0           fare = 25.0    0.428857   \n",
       "4         sibsp            0.0           sibsp = 0.0    0.428587   \n",
       "5         parch            0.0           parch = 0.0    0.425201   \n",
       "6           age           47.0            age = 47.0    0.417551   \n",
       "7        gender           male         gender = male    0.304733   \n",
       "8                                         prediction    0.304733   \n",
       "\n",
       "   contribution  sign  position                label  \n",
       "0      0.322038   1.0         8  Titanic RF Pipeline  \n",
       "1      0.067692   1.0         7  Titanic RF Pipeline  \n",
       "2      0.026524   1.0         6  Titanic RF Pipeline  \n",
       "3      0.012603   1.0         5  Titanic RF Pipeline  \n",
       "4     -0.000270  -1.0         4  Titanic RF Pipeline  \n",
       "5     -0.003385  -1.0         3  Titanic RF Pipeline  \n",
       "6     -0.007650  -1.0         2  Titanic RF Pipeline  \n",
       "7     -0.112818  -1.0         1  Titanic RF Pipeline  \n",
       "8      0.304733   1.0         0  Titanic RF Pipeline  "
      ]
     },
     "execution_count": 6,
     "metadata": {},
     "output_type": "execute_result"
    }
   ],
   "source": [
    "bd_henry = titanic_rf_exp.predict_parts(henry, \n",
    "             type = 'break_down')\n",
    "bd_henry.result"
   ]
  },
  {
   "cell_type": "code",
   "execution_count": 7,
   "metadata": {},
   "outputs": [
    {
     "data": {
      "application/vnd.plotly.v1+json": {
       "config": {
        "displaylogo": false,
        "modeBarButtonsToRemove": [
         "sendDataToCloud",
         "lasso2d",
         "autoScale2d",
         "select2d",
         "zoom2d",
         "pan2d",
         "zoomIn2d",
         "zoomOut2d",
         "resetScale2d",
         "toggleSpikelines",
         "hoverCompareCartesian",
         "hoverClosestCartesian"
        ],
        "plotlyServerURL": "https://plot.ly",
        "staticPlot": false,
        "toImageButtonOptions": {
         "height": null,
         "width": null
        }
       },
       "data": [
        {
         "base": 0.32203847792281903,
         "connector": {
          "line": {
           "color": "#371ea3",
           "dash": "solid",
           "width": 1
          },
          "mode": "spanning"
         },
         "decreasing": {
          "marker": {
           "color": "#f05a71"
          }
         },
         "hoverinfo": "text+delta",
         "hoverlabel": {
          "bgcolor": "rgba(0,0,0,0.8)"
         },
         "hovertext": [
          "Average response: 0.322<br>Prediction: 0.305",
          "class = 1st<br>increases average response by",
          "embarked = Cherbourg<br>increases average response by",
          "fare = 25.0<br>increases average response by",
          "sibsp = 0.0<br>decreases average response by",
          "parch = 0.0<br>decreases average response by",
          "age = 47.0<br>decreases average response by",
          "gender = male<br>decreases average response by",
          "Average response: 0.322<br>Prediction: 0.305"
         ],
         "increasing": {
          "marker": {
           "color": "#8bdcbe"
          }
         },
         "measure": [
          "relative",
          "relative",
          "relative",
          "relative",
          "relative",
          "relative",
          "relative",
          "relative",
          "total"
         ],
         "orientation": "h",
         "showlegend": false,
         "text": [
          "0.322",
          "+0.068",
          "+0.027",
          "+0.013",
          "-0.0",
          "-0.003",
          "-0.008",
          "-0.113",
          "0.305"
         ],
         "textposition": "outside",
         "totals": {
          "marker": {
           "color": "#371ea3"
          }
         },
         "type": "waterfall",
         "x": [
          0,
          0.068,
          0.027,
          0.013,
          0,
          -0.003,
          -0.008,
          -0.113,
          -0.017
         ],
         "xaxis": "x",
         "y": [
          "intercept",
          "class = 1st",
          "embarked = Cherbourg",
          "fare = 25.0",
          "sibsp = 0.0",
          "parch = 0.0",
          "age = 47.0",
          "gender = male",
          "prediction"
         ],
         "yaxis": "y"
        }
       ],
       "layout": {
        "annotations": [
         {
          "font": {
           "size": 16
          },
          "showarrow": false,
          "text": "Titanic RF Pipeline",
          "x": 0.5,
          "xanchor": "center",
          "xref": "paper",
          "y": 1,
          "yanchor": "bottom",
          "yref": "paper"
         },
         {
          "font": {
           "size": 16
          },
          "showarrow": false,
          "text": "contribution",
          "x": 0.5,
          "xanchor": "center",
          "xref": "paper",
          "y": 0,
          "yanchor": "top",
          "yref": "paper",
          "yshift": -30
         }
        ],
        "font": {
         "color": "#371ea3"
        },
        "height": 333,
        "margin": {
         "b": 71,
         "r": 30,
         "t": 78
        },
        "shapes": [
         {
          "line": {
           "color": "#371ea3",
           "dash": "dot",
           "width": 1.5
          },
          "type": "line",
          "x0": 0.32203847792281903,
          "x1": 0.32203847792281903,
          "xref": "x",
          "y0": -1,
          "y1": 9,
          "yref": "y"
         }
        ],
        "template": {
         "data": {
          "scatter": [
           {
            "type": "scatter"
           }
          ]
         }
        },
        "title": {
         "text": "Break Down",
         "x": 0.15
        },
        "xaxis": {
         "anchor": "y",
         "automargin": true,
         "domain": [
          0,
          1
         ],
         "fixedrange": true,
         "gridwidth": 2,
         "range": [
          0.2864,
          0.4476
         ],
         "tickcolor": "white",
         "ticklen": 3,
         "ticks": "outside",
         "type": "linear",
         "zeroline": false
        },
        "yaxis": {
         "anchor": "x",
         "automargin": true,
         "autorange": "reversed",
         "domain": [
          0,
          1
         ],
         "fixedrange": true,
         "gridwidth": 2,
         "tickcolor": "white",
         "ticklen": 10,
         "ticks": "outside",
         "type": "category"
        }
       }
      }
     },
     "metadata": {},
     "output_type": "display_data"
    }
   ],
   "source": [
    "bd_henry.plot()"
   ]
  },
  {
   "cell_type": "code",
   "execution_count": 8,
   "metadata": {},
   "outputs": [
    {
     "data": {
      "application/vnd.plotly.v1+json": {
       "config": {
        "displaylogo": false,
        "modeBarButtonsToRemove": [
         "sendDataToCloud",
         "lasso2d",
         "autoScale2d",
         "select2d",
         "zoom2d",
         "pan2d",
         "zoomIn2d",
         "zoomOut2d",
         "resetScale2d",
         "toggleSpikelines",
         "hoverCompareCartesian",
         "hoverClosestCartesian"
        ],
        "plotlyServerURL": "https://plot.ly",
        "staticPlot": false,
        "toImageButtonOptions": {
         "height": null,
         "width": null
        }
       },
       "data": [
        {
         "base": 0.32203847792281903,
         "connector": {
          "line": {
           "color": "#371ea3",
           "dash": "solid",
           "width": 1
          },
          "mode": "spanning"
         },
         "decreasing": {
          "marker": {
           "color": "#f05a71"
          }
         },
         "hoverinfo": "text+delta",
         "hoverlabel": {
          "bgcolor": "rgba(0,0,0,0.8)"
         },
         "hovertext": [
          "Average response: 0.322<br>Prediction: 0.305",
          "gender = male<br>decreases average response by",
          "class = 1st<br>increases average response by",
          "age = 47.0<br>decreases average response by",
          "embarked = Cherbourg<br>increases average response by",
          "fare = 25.0<br>increases average response by",
          "+ all other factors<br>decreases average response by",
          "Average response: 0.322<br>Prediction: 0.305"
         ],
         "increasing": {
          "marker": {
           "color": "#8bdcbe"
          }
         },
         "measure": [
          "relative",
          "relative",
          "relative",
          "relative",
          "relative",
          "relative",
          "relative",
          "total"
         ],
         "orientation": "h",
         "showlegend": false,
         "text": [
          "0.322",
          "-0.091",
          "+0.055",
          "-0.01",
          "+0.024",
          "+0.012",
          "-0.007",
          "0.305"
         ],
         "textposition": "outside",
         "totals": {
          "marker": {
           "color": "#371ea3"
          }
         },
         "type": "waterfall",
         "x": [
          0,
          -0.091,
          0.055,
          -0.01,
          0.024,
          0.012,
          -0.007,
          -0.017
         ],
         "xaxis": "x",
         "y": [
          "intercept",
          "gender = male",
          "class = 1st",
          "age = 47.0",
          "embarked = Cherbourg",
          "fare = 25.0",
          "+ all other factors",
          "prediction"
         ],
         "yaxis": "y"
        }
       ],
       "layout": {
        "annotations": [
         {
          "font": {
           "size": 16
          },
          "showarrow": false,
          "text": "Titanic RF Pipeline",
          "x": 0.5,
          "xanchor": "center",
          "xref": "paper",
          "y": 1,
          "yanchor": "bottom",
          "yref": "paper"
         },
         {
          "font": {
           "size": 16
          },
          "showarrow": false,
          "text": "contribution",
          "x": 0.5,
          "xanchor": "center",
          "xref": "paper",
          "y": 0,
          "yanchor": "top",
          "yref": "paper",
          "yshift": -30
         }
        ],
        "font": {
         "color": "#371ea3"
        },
        "height": 313,
        "margin": {
         "b": 71,
         "r": 30,
         "t": 78
        },
        "shapes": [
         {
          "line": {
           "color": "#371ea3",
           "dash": "dot",
           "width": 1.5
          },
          "type": "line",
          "x0": 0.32203847792281903,
          "x1": 0.32203847792281903,
          "xref": "x",
          "y0": -1,
          "y1": 8,
          "yref": "y"
         }
        ],
        "template": {
         "data": {
          "scatter": [
           {
            "type": "scatter"
           }
          ]
         }
        },
        "title": {
         "text": "Break Down",
         "x": 0.15
        },
        "xaxis": {
         "anchor": "y",
         "automargin": true,
         "domain": [
          0,
          1
         ],
         "fixedrange": true,
         "gridwidth": 2,
         "range": [
          0.21735000000000002,
          0.33565
         ],
         "tickcolor": "white",
         "ticklen": 3,
         "ticks": "outside",
         "type": "linear",
         "zeroline": false
        },
        "yaxis": {
         "anchor": "x",
         "automargin": true,
         "autorange": "reversed",
         "domain": [
          0,
          1
         ],
         "fixedrange": true,
         "gridwidth": 2,
         "tickcolor": "white",
         "ticklen": 10,
         "ticks": "outside",
         "type": "category"
        }
       }
      }
     },
     "metadata": {},
     "output_type": "display_data"
    }
   ],
   "source": [
    "import numpy as np\n",
    "\n",
    "bd_henry = titanic_rf_exp.predict_parts(henry,\n",
    "        type = 'break_down',\n",
    "        order = np.array(['gender', 'class', 'age',\n",
    "            'embarked', 'fare', 'sibsp', 'parch']))\n",
    "bd_henry.plot(max_vars = 5)"
   ]
  },
  {
   "cell_type": "markdown",
   "metadata": {},
   "source": [
    "# Interactions BDP"
   ]
  },
  {
   "cell_type": "code",
   "execution_count": 9,
   "metadata": {},
   "outputs": [
    {
     "name": "stdout",
     "output_type": "stream",
     "text": [
      "Preparation of a new explainer is initiated\n",
      "\n",
      "  -> data              : 2207 rows 7 cols\n",
      "  -> target variable   : Parameter 'y' was a pandas.Series. Converted to a numpy.ndarray.\n",
      "  -> target variable   : 2207 values\n",
      "  -> model_class       : sklearn.ensemble._forest.RandomForestClassifier (default)\n",
      "  -> label             : Titanic RF Pipeline\n",
      "  -> predict function  : <function yhat_proba_default at 0x000002884E4C5040> will be used (default)\n",
      "  -> predict function  : Accepts only pandas.DataFrame, numpy.ndarray causes problems.\n",
      "  -> predicted values  : min = 0.165, mean = 0.322, max = 0.894\n",
      "  -> model type        : classification will be used (default)\n",
      "  -> residual function : difference between y and yhat (default)\n",
      "  -> residuals         : min = -0.826, mean = 0.000118, max = 0.832\n",
      "  -> model_info        : package sklearn\n",
      "\n",
      "A new explainer has been created!\n"
     ]
    }
   ],
   "source": [
    "import pandas as pd\n",
    "henry = pd.DataFrame({'gender': ['male'], 'age': [47],\n",
    "           'class': ['1st'],\n",
    "           'embarked': ['Cherbourg'], 'fare': [25],\n",
    "           'sibsp': [0], 'parch': [0]},\n",
    "           index = ['Henry'])\n",
    "import dalex as dx\n",
    "titanic_rf_exp = dx.Explainer(titanic_rf, X, y, \n",
    "           label = \"Titanic RF Pipeline\")"
   ]
  },
  {
   "cell_type": "code",
   "execution_count": 10,
   "metadata": {},
   "outputs": [
    {
     "data": {
      "text/html": [
       "<div>\n",
       "<style scoped>\n",
       "    .dataframe tbody tr th:only-of-type {\n",
       "        vertical-align: middle;\n",
       "    }\n",
       "\n",
       "    .dataframe tbody tr th {\n",
       "        vertical-align: top;\n",
       "    }\n",
       "\n",
       "    .dataframe thead th {\n",
       "        text-align: right;\n",
       "    }\n",
       "</style>\n",
       "<table border=\"1\" class=\"dataframe\">\n",
       "  <thead>\n",
       "    <tr style=\"text-align: right;\">\n",
       "      <th></th>\n",
       "      <th>variable_name</th>\n",
       "      <th>variable_value</th>\n",
       "      <th>variable</th>\n",
       "      <th>cumulative</th>\n",
       "      <th>contribution</th>\n",
       "      <th>sign</th>\n",
       "      <th>position</th>\n",
       "      <th>label</th>\n",
       "    </tr>\n",
       "  </thead>\n",
       "  <tbody>\n",
       "    <tr>\n",
       "      <th>0</th>\n",
       "      <td>intercept</td>\n",
       "      <td></td>\n",
       "      <td>intercept</td>\n",
       "      <td>0.322038</td>\n",
       "      <td>0.322038</td>\n",
       "      <td>1.0</td>\n",
       "      <td>5</td>\n",
       "      <td>Titanic RF Pipeline</td>\n",
       "    </tr>\n",
       "    <tr>\n",
       "      <th>1</th>\n",
       "      <td>class:gender</td>\n",
       "      <td>1st:male</td>\n",
       "      <td>class:gender = 1st:male</td>\n",
       "      <td>0.285648</td>\n",
       "      <td>-0.036390</td>\n",
       "      <td>-1.0</td>\n",
       "      <td>4</td>\n",
       "      <td>Titanic RF Pipeline</td>\n",
       "    </tr>\n",
       "    <tr>\n",
       "      <th>2</th>\n",
       "      <td>fare:embarked</td>\n",
       "      <td>25.0:Cherbourg</td>\n",
       "      <td>fare:embarked = 25.0:Cherbourg</td>\n",
       "      <td>0.321926</td>\n",
       "      <td>0.036278</td>\n",
       "      <td>1.0</td>\n",
       "      <td>3</td>\n",
       "      <td>Titanic RF Pipeline</td>\n",
       "    </tr>\n",
       "    <tr>\n",
       "      <th>3</th>\n",
       "      <td>parch:sibsp</td>\n",
       "      <td>0.0:0.0</td>\n",
       "      <td>parch:sibsp = 0.0:0.0</td>\n",
       "      <td>0.315724</td>\n",
       "      <td>-0.006202</td>\n",
       "      <td>-1.0</td>\n",
       "      <td>2</td>\n",
       "      <td>Titanic RF Pipeline</td>\n",
       "    </tr>\n",
       "    <tr>\n",
       "      <th>4</th>\n",
       "      <td>age</td>\n",
       "      <td>47.0</td>\n",
       "      <td>age = 47.0</td>\n",
       "      <td>0.304733</td>\n",
       "      <td>-0.010991</td>\n",
       "      <td>-1.0</td>\n",
       "      <td>1</td>\n",
       "      <td>Titanic RF Pipeline</td>\n",
       "    </tr>\n",
       "    <tr>\n",
       "      <th>5</th>\n",
       "      <td></td>\n",
       "      <td></td>\n",
       "      <td>prediction</td>\n",
       "      <td>0.304733</td>\n",
       "      <td>0.304733</td>\n",
       "      <td>1.0</td>\n",
       "      <td>0</td>\n",
       "      <td>Titanic RF Pipeline</td>\n",
       "    </tr>\n",
       "  </tbody>\n",
       "</table>\n",
       "</div>"
      ],
      "text/plain": [
       "   variable_name  variable_value                        variable  cumulative  \\\n",
       "0      intercept                                       intercept    0.322038   \n",
       "1   class:gender        1st:male         class:gender = 1st:male    0.285648   \n",
       "2  fare:embarked  25.0:Cherbourg  fare:embarked = 25.0:Cherbourg    0.321926   \n",
       "3    parch:sibsp         0.0:0.0           parch:sibsp = 0.0:0.0    0.315724   \n",
       "4            age            47.0                      age = 47.0    0.304733   \n",
       "5                                                     prediction    0.304733   \n",
       "\n",
       "   contribution  sign  position                label  \n",
       "0      0.322038   1.0         5  Titanic RF Pipeline  \n",
       "1     -0.036390  -1.0         4  Titanic RF Pipeline  \n",
       "2      0.036278   1.0         3  Titanic RF Pipeline  \n",
       "3     -0.006202  -1.0         2  Titanic RF Pipeline  \n",
       "4     -0.010991  -1.0         1  Titanic RF Pipeline  \n",
       "5      0.304733   1.0         0  Titanic RF Pipeline  "
      ]
     },
     "execution_count": 10,
     "metadata": {},
     "output_type": "execute_result"
    }
   ],
   "source": [
    "bd_henry = titanic_rf_exp.predict_parts(henry, \n",
    "                type = 'break_down_interactions', \n",
    "                interaction_preference = 10)\n",
    "bd_henry.result"
   ]
  },
  {
   "cell_type": "code",
   "execution_count": null,
   "metadata": {},
   "outputs": [],
   "source": []
  }
 ],
 "metadata": {
  "kernelspec": {
   "display_name": "base",
   "language": "python",
   "name": "python3"
  },
  "language_info": {
   "codemirror_mode": {
    "name": "ipython",
    "version": 3
   },
   "file_extension": ".py",
   "mimetype": "text/x-python",
   "name": "python",
   "nbconvert_exporter": "python",
   "pygments_lexer": "ipython3",
   "version": "3.9.13"
  },
  "orig_nbformat": 4,
  "vscode": {
   "interpreter": {
    "hash": "2391778b685347cadac7093f2020ff559e06ee771e9dafe75e8ab1e16b0e24d1"
   }
  }
 },
 "nbformat": 4,
 "nbformat_minor": 2
}
